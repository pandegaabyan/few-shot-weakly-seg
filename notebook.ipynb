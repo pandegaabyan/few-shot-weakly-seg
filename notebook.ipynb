{
 "cells": [
  {
   "cell_type": "markdown",
   "id": "ed90f0cd540c5053",
   "metadata": {
    "collapsed": false
   },
   "source": [
    "# Initialization\n"
   ]
  },
  {
   "cell_type": "code",
   "execution_count": null,
   "id": "9d271907",
   "metadata": {},
   "outputs": [],
   "source": [
    "import numpy as np\n",
    "from matplotlib import pyplot as plt\n",
    "\n",
    "from tasks.optic_disc_cup.datasets import DrishtiDataset, RimOneDataset\n",
    "\n",
    "plt.style.use(\"dark_background\")\n"
   ]
  },
  {
   "cell_type": "markdown",
   "id": "27163ff1153e1a93",
   "metadata": {
    "collapsed": false
   },
   "source": [
    "# Dataset Exploration\n"
   ]
  },
  {
   "cell_type": "markdown",
   "id": "3e5ac60a4695d9f1",
   "metadata": {
    "collapsed": false
   },
   "source": [
    "## RIM-ONE\n"
   ]
  },
  {
   "cell_type": "markdown",
   "id": "221e0dbf50b19d09",
   "metadata": {
    "collapsed": false
   },
   "source": [
    "### Create Dataset\n"
   ]
  },
  {
   "cell_type": "code",
   "execution_count": null,
   "id": "dd47b147499ec1dc",
   "metadata": {
    "ExecuteTime": {
     "end_time": "2023-12-16T00:43:31.358993800Z",
     "start_time": "2023-12-16T00:43:31.259519100Z"
    },
    "collapsed": false
   },
   "outputs": [],
   "source": [
    "rim_one_sparsity_params: dict = {\n",
    "    \"contour_radius_dist\": 4,\n",
    "    \"contour_radius_thick\": 2,\n",
    "    \"skeleton_radius_thick\": 4,\n",
    "    \"region_compactness\": 0.5,\n",
    "}\n",
    "\n",
    "rim_one_data = RimOneDataset(\n",
    "    mode=\"train\",\n",
    "    num_classes=3,\n",
    "    num_shots=5,\n",
    "    resize_to=(256, 256),\n",
    "    split_seed=0,\n",
    "    sparsity_params=rim_one_sparsity_params,\n",
    ")"
   ]
  },
  {
   "cell_type": "markdown",
   "id": "4d9b4dcf933a7040",
   "metadata": {
    "collapsed": false
   },
   "source": [
    "### Check Sparse Masks\n"
   ]
  },
  {
   "cell_type": "code",
   "execution_count": null,
   "id": "71a949e7f516a48a",
   "metadata": {
    "ExecuteTime": {
     "end_time": "2023-12-16T00:43:34.353811100Z",
     "start_time": "2023-12-16T00:43:31.358993800Z"
    },
    "collapsed": false
   },
   "outputs": [],
   "source": [
    "image, mask, sparse_masks, image_filename = rim_one_data.get_data_with_sparse_all(\n",
    "    0, 50, 10, 1, 1, 1\n",
    ")\n",
    "print(image.shape, image.max(), image.min(), image_filename)\n",
    "print(mask.shape, mask.dtype, np.unique(mask))\n",
    "\n",
    "n_rows = int(np.ceil(len(sparse_masks) / 2)) + 1\n",
    "_, axs = plt.subplots(n_rows, 2, figsize=(12, n_rows * 6))\n",
    "axs = axs.flat\n",
    "axs[0].imshow(image)\n",
    "axs[1].imshow(mask)\n",
    "for i, sm in enumerate(sparse_masks):\n",
    "    axs[i + 2].imshow(sm)"
   ]
  },
  {
   "cell_type": "markdown",
   "id": "5d3d024152dd52a7",
   "metadata": {
    "collapsed": false
   },
   "source": [
    "### Check Others\n"
   ]
  },
  {
   "cell_type": "code",
   "execution_count": null,
   "id": "7744d1a90bfa8151",
   "metadata": {
    "ExecuteTime": {
     "end_time": "2023-12-16T00:43:34.385061Z",
     "start_time": "2023-12-16T00:43:34.353811100Z"
    },
    "collapsed": false
   },
   "outputs": [],
   "source": [
    "image_sizes = []\n",
    "for image_path, mask_path in rim_one_data.get_all_data_path():\n",
    "    image, _ = rim_one_data.read_image_mask(image_path, mask_path)\n",
    "    image_sizes.append(image.shape)\n",
    "\n",
    "image_sizes = np.array(image_sizes)\n",
    "\n",
    "print(np.unique(image_sizes[:, 0], return_counts=True))\n",
    "print(image_sizes[:, 0].min(), image_sizes[:, 0].max())\n",
    "print(np.unique(image_sizes[:, 1], return_counts=True))\n",
    "print(image_sizes[:, 1].min(), image_sizes[:, 1].max())"
   ]
  },
  {
   "cell_type": "markdown",
   "id": "171a6195ea988fbf",
   "metadata": {
    "collapsed": false
   },
   "source": [
    "## DRISHTI\n"
   ]
  },
  {
   "cell_type": "markdown",
   "id": "dfcaedff2b1e1a3e",
   "metadata": {
    "collapsed": false
   },
   "source": [
    "### Create Dataset\n"
   ]
  },
  {
   "cell_type": "code",
   "execution_count": null,
   "id": "1de47c003fd6b9a5",
   "metadata": {
    "ExecuteTime": {
     "end_time": "2023-12-16T00:43:34.525697500Z",
     "start_time": "2023-12-16T00:43:34.369435400Z"
    },
    "collapsed": false
   },
   "outputs": [],
   "source": [
    "drishti_sparsity_params: dict = {\n",
    "    \"contour_radius_dist\": 4,\n",
    "    \"contour_radius_thick\": 1,\n",
    "    \"skeleton_radius_thick\": 3,\n",
    "    \"region_compactness\": 0.5,\n",
    "}\n",
    "\n",
    "drishti_data = DrishtiDataset(\n",
    "    mode=\"train\",\n",
    "    num_classes=3,\n",
    "    num_shots=5,\n",
    "    resize_to=(256, 256),\n",
    "    split_seed=0,\n",
    "    sparsity_params=drishti_sparsity_params,\n",
    ")"
   ]
  },
  {
   "cell_type": "markdown",
   "id": "94c98419049ac530",
   "metadata": {
    "collapsed": false
   },
   "source": [
    "### Check Sparse Masks\n"
   ]
  },
  {
   "cell_type": "code",
   "execution_count": null,
   "id": "f185df34240b2534",
   "metadata": {
    "ExecuteTime": {
     "end_time": "2023-12-16T00:43:36.707633700Z",
     "start_time": "2023-12-16T00:43:34.400685100Z"
    },
    "collapsed": false
   },
   "outputs": [],
   "source": [
    "image, mask, sparse_masks, image_filename = drishti_data.get_data_with_sparse_all(\n",
    "    1, 50, 20, 1, 1, 1\n",
    ")\n",
    "print(image.shape, image.max(), image.min(), image_filename)\n",
    "print(mask.shape, mask.dtype, np.unique(mask))\n",
    "\n",
    "n_rows = int(np.ceil(len(sparse_masks) / 2)) + 1\n",
    "_, axs = plt.subplots(n_rows, 2, figsize=(12, n_rows * 6))\n",
    "axs = axs.flat\n",
    "axs[0].imshow(image)\n",
    "axs[1].imshow(mask, cmap=\"gray\")\n",
    "for i, sm in enumerate(sparse_masks):\n",
    "    axs[i + 2].imshow(sm)"
   ]
  },
  {
   "cell_type": "markdown",
   "id": "adf321e604f24bf9",
   "metadata": {
    "collapsed": false
   },
   "source": [
    "### Check Others\n"
   ]
  },
  {
   "cell_type": "code",
   "execution_count": null,
   "id": "4aac5d62f67ca668",
   "metadata": {
    "ExecuteTime": {
     "end_time": "2023-12-16T02:17:21.465688500Z",
     "start_time": "2023-12-16T02:17:21.403192200Z"
    },
    "collapsed": false
   },
   "outputs": [],
   "source": [
    "image_sizes = []\n",
    "for image_path, mask_path in drishti_data.get_all_data_path():\n",
    "    image, _ = rim_one_data.read_image_mask(image_path, mask_path)\n",
    "    image_sizes.append(image.shape)\n",
    "\n",
    "image_sizes = np.array(image_sizes)\n",
    "\n",
    "print(np.unique(image_sizes[:, 0], return_counts=True))\n",
    "print(image_sizes[:, 0].min(), image_sizes[:, 0].max())\n",
    "print(np.unique(image_sizes[:, 1], return_counts=True))\n",
    "print(image_sizes[:, 1].min(), image_sizes[:, 1].max())"
   ]
  }
 ],
 "metadata": {
  "kernelspec": {
   "display_name": "Python 3",
   "language": "python",
   "name": "python3"
  },
  "language_info": {
   "codemirror_mode": {
    "name": "ipython",
    "version": 3
   },
   "file_extension": ".py",
   "mimetype": "text/x-python",
   "name": "python",
   "nbconvert_exporter": "python",
   "pygments_lexer": "ipython3",
   "version": "3.10.9"
  }
 },
 "nbformat": 4,
 "nbformat_minor": 5
}
