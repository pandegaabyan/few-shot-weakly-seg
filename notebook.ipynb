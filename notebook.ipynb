{
 "cells": [
  {
   "cell_type": "markdown",
   "id": "ed90f0cd540c5053",
   "metadata": {
    "collapsed": false
   },
   "source": [
    "# Initialization\n"
   ]
  },
  {
   "cell_type": "markdown",
   "id": "7cfb497e318d2520",
   "metadata": {
    "collapsed": false
   },
   "source": [
    "## Import\n"
   ]
  },
  {
   "cell_type": "markdown",
   "id": "e81528fb6136ed3b",
   "metadata": {
    "collapsed": false
   },
   "source": [
    "### Import Modules\n"
   ]
  },
  {
   "cell_type": "code",
   "execution_count": null,
   "id": "initial_id",
   "metadata": {
    "ExecuteTime": {
     "end_time": "2023-12-16T00:43:30.744325600Z",
     "start_time": "2023-12-16T00:43:18.991019Z"
    },
    "collapsed": true
   },
   "outputs": [],
   "source": [
    "import gc\n",
    "import time\n",
    "\n",
    "import numpy as np\n",
    "from matplotlib import pyplot as plt\n",
    "\n",
    "from config.config_type import (\n",
    "    AllConfig,\n",
    "    DataConfig,\n",
    "    DataTuneConfig,\n",
    "    LearnConfig,\n",
    "    SaveConfig,\n",
    "    WeaselConfig,\n",
    ")\n",
    "from data.get_meta_datasets import get_meta_datasets\n",
    "from data.get_tune_loaders import get_tune_loaders\n",
    "from learners.protoseg import ProtoSegLearner\n",
    "from learners.weasel import WeaselLearner\n",
    "from models.u_net import UNet\n",
    "from tasks.optic_disc_cup.datasets import DrishtiDataset, RimOneDataset\n",
    "from tasks.optic_disc_cup.metrics import calc_disc_cup_iou\n",
    "\n",
    "from torch import cuda\n",
    "\n",
    "plt.style.use(\"dark_background\")"
   ]
  },
  {
   "cell_type": "markdown",
   "id": "b40c89a197995200",
   "metadata": {
    "collapsed": false
   },
   "source": [
    "### Autoreload Import\n"
   ]
  },
  {
   "cell_type": "code",
   "execution_count": null,
   "id": "7a50b8632ad6221a",
   "metadata": {
    "ExecuteTime": {
     "end_time": "2023-12-16T00:43:30.984661900Z",
     "start_time": "2023-12-16T00:43:30.741324200Z"
    },
    "collapsed": false
   },
   "outputs": [],
   "source": [
    "%reload_ext autoreload\n",
    "%autoreload 1\n",
    "%aimport config.config_type\n",
    "%aimport models.u_net\n",
    "%aimport data.few_sparse_dataset, data.get_meta_datasets, data.get_tune_loaders\n",
    "%aimport learners.learner, learners.weasel, learners.protoseg\n",
    "%aimport tasks.optic_disc_cup.datasets, tasks.optic_disc_cup.metrics"
   ]
  },
  {
   "cell_type": "code",
   "execution_count": null,
   "id": "f7242b69aa52d86e",
   "metadata": {
    "ExecuteTime": {
     "end_time": "2023-12-16T00:43:31.135728Z",
     "start_time": "2023-12-16T00:43:30.984661900Z"
    },
    "collapsed": false
   },
   "outputs": [],
   "source": [
    "%autoreload now"
   ]
  },
  {
   "cell_type": "markdown",
   "id": "2f0c61da9d9ff29",
   "metadata": {
    "collapsed": false
   },
   "source": [
    "## All Config\n"
   ]
  },
  {
   "cell_type": "markdown",
   "id": "fb43743f683fac77",
   "metadata": {
    "collapsed": false
   },
   "source": [
    "### Short Training\n"
   ]
  },
  {
   "cell_type": "code",
   "execution_count": null,
   "id": "4651b2eb0c6285bc",
   "metadata": {
    "ExecuteTime": {
     "end_time": "2023-12-16T00:43:31.229123500Z",
     "start_time": "2023-12-16T00:43:31.095852400Z"
    },
    "collapsed": false
   },
   "outputs": [],
   "source": [
    "data_config: DataConfig = {\n",
    "    \"num_classes\": 3,\n",
    "    \"num_channels\": 3,\n",
    "    \"num_workers\": 0,\n",
    "    \"batch_size\": 1,\n",
    "    \"resize_to\": (256, 256),\n",
    "}\n",
    "\n",
    "data_tune_config: DataTuneConfig = {\n",
    "    \"list_shots\": [5],\n",
    "    \"list_sparsity_point\": [50],\n",
    "    \"list_sparsity_grid\": [10],\n",
    "    \"list_sparsity_contour\": [1],\n",
    "    \"list_sparsity_skeleton\": [1],\n",
    "    \"list_sparsity_region\": [1],\n",
    "}\n",
    "\n",
    "learn_config: LearnConfig = {\n",
    "    \"should_resume\": False,\n",
    "    \"use_gpu\": True,\n",
    "    \"num_epochs\": 8,\n",
    "    \"optimizer_lr\": 1e-3,\n",
    "    \"optimizer_weight_decay\": 5e-5,\n",
    "    \"optimizer_momentum\": 0.9,\n",
    "    \"scheduler_step_size\": 150,\n",
    "    \"scheduler_gamma\": 0.2,\n",
    "    \"tune_freq\": 4,\n",
    "    \"meta_used_datasets\": 1,\n",
    "    \"meta_iterations\": 5,\n",
    "}\n",
    "\n",
    "save_config: SaveConfig = {\n",
    "    \"ckpt_path\": \"./ckpt/\",\n",
    "    \"output_path\": \"./outputs/\",\n",
    "    \"exp_name\": \"\",\n",
    "}\n",
    "\n",
    "weasel_config: WeaselConfig = {\n",
    "    \"use_first_order\": False,\n",
    "    \"update_param_step_size\": 0.3,\n",
    "    \"tune_epochs\": 6,\n",
    "    \"tune_test_freq\": 3,\n",
    "}\n",
    "\n",
    "all_config: AllConfig = {\n",
    "    \"data\": data_config,\n",
    "    \"data_tune\": data_tune_config,\n",
    "    \"learn\": learn_config,\n",
    "    \"save\": save_config,\n",
    "    \"weasel\": weasel_config,\n",
    "}"
   ]
  },
  {
   "cell_type": "markdown",
   "id": "6b27a70b33a3207b",
   "metadata": {
    "collapsed": false
   },
   "source": [
    "### Long Training\n"
   ]
  },
  {
   "cell_type": "code",
   "execution_count": null,
   "id": "db4ba12ef6a3c86f",
   "metadata": {
    "ExecuteTime": {
     "end_time": "2023-12-16T00:43:31.263524Z",
     "start_time": "2023-12-16T00:43:31.187138300Z"
    },
    "collapsed": false
   },
   "outputs": [],
   "source": [
    "# data_config: DataConfig = {\n",
    "#     'num_classes': 3,\n",
    "#     'num_channels': 3,\n",
    "#     'num_workers': 0,\n",
    "#     'batch_size': 1,\n",
    "#     'resize_to': (256, 256)\n",
    "# }\n",
    "#\n",
    "# data_tune_config: DataTuneConfig = {\n",
    "#     'list_shots': [20],\n",
    "#     'list_sparsity_point': [50],\n",
    "#     'list_sparsity_grid': [10],\n",
    "#     'list_sparsity_contour': [1],\n",
    "#     'list_sparsity_skeleton': [1],\n",
    "#     'list_sparsity_region': [1]\n",
    "# }\n",
    "#\n",
    "# learn_config: LearnConfig = {\n",
    "#     'should_resume': False,\n",
    "#     'use_gpu': True,\n",
    "#     'num_epochs': 200,\n",
    "#     'optimizer_lr': 1e-3,\n",
    "#     'optimizer_weight_decay': 5e-5,\n",
    "#     'optimizer_momentum': 0.9,\n",
    "#     'scheduler_step_size': 150,\n",
    "#     'scheduler_gamma': 0.2,\n",
    "#     'tune_freq': 40,\n",
    "#     'meta_used_datasets': 1,\n",
    "#     'meta_iterations': 5\n",
    "# }\n",
    "#\n",
    "# save_config: SaveConfig = {\n",
    "#     'ckpt_path': './ckpt/',\n",
    "#     'output_path': './outputs/',\n",
    "#     'exp_name': ''\n",
    "# }\n",
    "#\n",
    "# weasel_config: WeaselConfig = {\n",
    "#     'use_first_order': False,\n",
    "#     'update_param_step_size': 0.3,\n",
    "#     'tune_epochs': 40,\n",
    "#     'tune_test_freq': 8\n",
    "# }\n",
    "#\n",
    "# all_config: AllConfig = {\n",
    "#     'data': data_config,\n",
    "#     'data_tune': data_tune_config,\n",
    "#     'learn': learn_config,\n",
    "#     'save': save_config,\n",
    "#     'weasel': weasel_config\n",
    "# }"
   ]
  },
  {
   "cell_type": "markdown",
   "id": "27163ff1153e1a93",
   "metadata": {
    "collapsed": false
   },
   "source": [
    "# Dataset Exploration\n"
   ]
  },
  {
   "cell_type": "markdown",
   "id": "3e5ac60a4695d9f1",
   "metadata": {
    "collapsed": false
   },
   "source": [
    "## RIM-ONE\n"
   ]
  },
  {
   "cell_type": "markdown",
   "id": "221e0dbf50b19d09",
   "metadata": {
    "collapsed": false
   },
   "source": [
    "### Create Dataset\n"
   ]
  },
  {
   "cell_type": "code",
   "execution_count": null,
   "id": "dd47b147499ec1dc",
   "metadata": {
    "ExecuteTime": {
     "end_time": "2023-12-16T00:43:31.358993800Z",
     "start_time": "2023-12-16T00:43:31.259519100Z"
    },
    "collapsed": false
   },
   "outputs": [],
   "source": [
    "rim_one_sparsity_params: dict = {\n",
    "    \"contour_radius_dist\": 4,\n",
    "    \"contour_radius_thick\": 2,\n",
    "    \"skeleton_radius_thick\": 4,\n",
    "    \"region_compactness\": 0.5,\n",
    "}\n",
    "\n",
    "rim_one_data = RimOneDataset(\n",
    "    mode=\"train\",\n",
    "    num_classes=3,\n",
    "    num_shots=5,\n",
    "    resize_to=(256, 256),\n",
    "    split_seed=0,\n",
    "    sparsity_params=rim_one_sparsity_params,\n",
    ")"
   ]
  },
  {
   "cell_type": "markdown",
   "id": "4d9b4dcf933a7040",
   "metadata": {
    "collapsed": false
   },
   "source": [
    "### Check Sparse Masks\n"
   ]
  },
  {
   "cell_type": "code",
   "execution_count": null,
   "id": "71a949e7f516a48a",
   "metadata": {
    "ExecuteTime": {
     "end_time": "2023-12-16T00:43:34.353811100Z",
     "start_time": "2023-12-16T00:43:31.358993800Z"
    },
    "collapsed": false
   },
   "outputs": [],
   "source": [
    "image, mask, sparse_masks, image_filename = rim_one_data.get_data_with_sparse_all(\n",
    "    0, 50, 10, 1, 1, 1\n",
    ")\n",
    "print(image.shape, image.max(), image.min(), image_filename)\n",
    "print(mask.shape, mask.dtype, np.unique(mask))\n",
    "\n",
    "n_rows = int(np.ceil(len(sparse_masks) / 2)) + 1\n",
    "_, axs = plt.subplots(n_rows, 2, figsize=(12, n_rows * 6))\n",
    "axs = axs.flat\n",
    "axs[0].imshow(image)\n",
    "axs[1].imshow(mask)\n",
    "for i, sm in enumerate(sparse_masks):\n",
    "    axs[i + 2].imshow(sm)"
   ]
  },
  {
   "cell_type": "markdown",
   "id": "5d3d024152dd52a7",
   "metadata": {
    "collapsed": false
   },
   "source": [
    "### Check Others\n"
   ]
  },
  {
   "cell_type": "code",
   "execution_count": null,
   "id": "7744d1a90bfa8151",
   "metadata": {
    "ExecuteTime": {
     "end_time": "2023-12-16T00:43:34.385061Z",
     "start_time": "2023-12-16T00:43:34.353811100Z"
    },
    "collapsed": false
   },
   "outputs": [],
   "source": [
    "# image_sizes = []\n",
    "# for image_path, mask_path in rim_one_data.get_all_data_path():\n",
    "#     image, _ = rim_one_data.read_image_mask(image_path, mask_path)\n",
    "#     image_sizes.append(image.shape)\n",
    "\n",
    "# image_sizes = np.array(image_sizes)\n",
    "\n",
    "# print(np.unique(image_sizes[:,0], return_counts=True))\n",
    "# print(image_sizes[:,0].min(), image_sizes[:,0].max())\n",
    "# print(np.unique(image_sizes[:,1], return_counts=True))\n",
    "# print(image_sizes[:,1].min(), image_sizes[:,1].max())"
   ]
  },
  {
   "cell_type": "markdown",
   "id": "171a6195ea988fbf",
   "metadata": {
    "collapsed": false
   },
   "source": [
    "## DRISHTI\n"
   ]
  },
  {
   "cell_type": "markdown",
   "id": "dfcaedff2b1e1a3e",
   "metadata": {
    "collapsed": false
   },
   "source": [
    "### Create Dataset\n"
   ]
  },
  {
   "cell_type": "code",
   "execution_count": null,
   "id": "1de47c003fd6b9a5",
   "metadata": {
    "ExecuteTime": {
     "end_time": "2023-12-16T00:43:34.525697500Z",
     "start_time": "2023-12-16T00:43:34.369435400Z"
    },
    "collapsed": false
   },
   "outputs": [],
   "source": [
    "drishti_sparsity_params: dict = {\n",
    "    \"contour_radius_dist\": 4,\n",
    "    \"contour_radius_thick\": 1,\n",
    "    \"skeleton_radius_thick\": 3,\n",
    "    \"region_compactness\": 0.5,\n",
    "}\n",
    "\n",
    "drishti_data = DrishtiDataset(\n",
    "    mode=\"train\",\n",
    "    num_classes=3,\n",
    "    num_shots=5,\n",
    "    resize_to=(256, 256),\n",
    "    split_seed=0,\n",
    "    sparsity_params=drishti_sparsity_params,\n",
    ")"
   ]
  },
  {
   "cell_type": "markdown",
   "id": "94c98419049ac530",
   "metadata": {
    "collapsed": false
   },
   "source": [
    "### Check Sparse Masks\n"
   ]
  },
  {
   "cell_type": "code",
   "execution_count": null,
   "id": "f185df34240b2534",
   "metadata": {
    "ExecuteTime": {
     "end_time": "2023-12-16T00:43:36.707633700Z",
     "start_time": "2023-12-16T00:43:34.400685100Z"
    },
    "collapsed": false
   },
   "outputs": [],
   "source": [
    "image, mask, sparse_masks, image_filename = drishti_data.get_data_with_sparse_all(\n",
    "    1, 50, 20, 1, 1, 1\n",
    ")\n",
    "print(image.shape, image.max(), image.min(), image_filename)\n",
    "print(mask.shape, mask.dtype, np.unique(mask))\n",
    "\n",
    "n_rows = int(np.ceil(len(sparse_masks) / 2)) + 1\n",
    "_, axs = plt.subplots(n_rows, 2, figsize=(12, n_rows * 6))\n",
    "axs = axs.flat\n",
    "axs[0].imshow(image)\n",
    "axs[1].imshow(mask, cmap=\"gray\")\n",
    "for i, sm in enumerate(sparse_masks):\n",
    "    axs[i + 2].imshow(sm)"
   ]
  },
  {
   "cell_type": "markdown",
   "id": "adf321e604f24bf9",
   "metadata": {
    "collapsed": false
   },
   "source": [
    "### Check Others\n"
   ]
  },
  {
   "cell_type": "code",
   "execution_count": null,
   "id": "4aac5d62f67ca668",
   "metadata": {
    "ExecuteTime": {
     "end_time": "2023-12-16T02:17:21.465688500Z",
     "start_time": "2023-12-16T02:17:21.403192200Z"
    },
    "collapsed": false
   },
   "outputs": [],
   "source": [
    "# image_sizes = []\n",
    "# for image_path, mask_path in drishti_data.get_all_data_path():\n",
    "#     image, _ = rim_one_data.read_image_mask(image_path, mask_path)\n",
    "#     image_sizes.append(image.shape)\n",
    "\n",
    "# image_sizes = np.array(image_sizes)\n",
    "\n",
    "# print(np.unique(image_sizes[:,0], return_counts=True))\n",
    "# print(image_sizes[:,0].min(), image_sizes[:,0].max())\n",
    "# print(np.unique(image_sizes[:,1], return_counts=True))\n",
    "# print(image_sizes[:,1].min(), image_sizes[:,1].max())"
   ]
  },
  {
   "cell_type": "markdown",
   "id": "82cd522041eddcff",
   "metadata": {
    "collapsed": false
   },
   "source": [
    "# Weasel Learner\n"
   ]
  },
  {
   "cell_type": "markdown",
   "id": "a5069a7009a4eabd",
   "metadata": {
    "collapsed": false
   },
   "source": [
    "## Initialization\n"
   ]
  },
  {
   "cell_type": "markdown",
   "id": "52810662fe34084a",
   "metadata": {
    "collapsed": false
   },
   "source": [
    "### Update Config\n"
   ]
  },
  {
   "cell_type": "code",
   "execution_count": null,
   "id": "2725e9351ba4c5b8",
   "metadata": {
    "ExecuteTime": {
     "end_time": "2023-12-16T02:17:56.921902Z",
     "start_time": "2023-12-16T02:17:56.890682400Z"
    },
    "collapsed": false
   },
   "outputs": [],
   "source": [
    "all_config[\"data\"][\"batch_size\"] = 3\n",
    "all_config[\"save\"][\"exp_name\"] = \"weasel_short_rimone_to_drishti\"\n",
    "# all_config['save']['exp_name'] = 'weasel_long_rimone_to_drishti'"
   ]
  },
  {
   "cell_type": "markdown",
   "id": "6ab1bba046ccc7d8",
   "metadata": {
    "collapsed": false
   },
   "source": [
    "### Create Model\n"
   ]
  },
  {
   "cell_type": "code",
   "execution_count": null,
   "id": "3b27689ada2a47a1",
   "metadata": {
    "ExecuteTime": {
     "end_time": "2023-12-16T02:17:58.297222300Z",
     "start_time": "2023-12-16T02:17:58.203477Z"
    },
    "collapsed": false
   },
   "outputs": [],
   "source": [
    "net = UNet(all_config[\"data\"][\"num_channels\"], all_config[\"data\"][\"num_classes\"])\n",
    "\n",
    "n_params = sum(p.numel() for p in net.parameters() if p.requires_grad)\n",
    "print(\"# of parameters: \" + str(n_params))"
   ]
  },
  {
   "cell_type": "markdown",
   "id": "2d0d43048bd20b61",
   "metadata": {
    "collapsed": false
   },
   "source": [
    "### Prepare Data\n"
   ]
  },
  {
   "cell_type": "code",
   "execution_count": null,
   "id": "5bacdf5f169eaf58",
   "metadata": {
    "ExecuteTime": {
     "end_time": "2023-12-16T02:17:59.250830700Z",
     "start_time": "2023-12-16T02:17:59.125464400Z"
    },
    "collapsed": false
   },
   "outputs": [],
   "source": [
    "meta_set = get_meta_datasets(\n",
    "    [\n",
    "        {\n",
    "            \"dataset_class\": RimOneDataset,\n",
    "            \"num_classes\": all_config[\"data\"][\"num_classes\"],\n",
    "            \"resize_to\": all_config[\"data\"][\"resize_to\"],\n",
    "            \"kwargs\": {\n",
    "                \"split_seed\": 0,\n",
    "                \"split_test_size\": 0.8,\n",
    "                \"sparsity_mode\": \"random\",\n",
    "                \"sparsity_value\": \"random\",\n",
    "                \"sparsity_params\": rim_one_sparsity_params,\n",
    "            },\n",
    "        }\n",
    "    ]\n",
    ")\n",
    "\n",
    "tune_loader = get_tune_loaders(\n",
    "    dataset_class=DrishtiDataset,\n",
    "    dataset_kwargs={\n",
    "        \"split_seed\": 0,\n",
    "        \"split_test_size\": 0.8,\n",
    "        \"sparsity_mode\": \"random\",\n",
    "        \"sparsity_value\": \"random\",\n",
    "        \"sparsity_params\": drishti_sparsity_params,\n",
    "    },\n",
    "    num_classes=all_config[\"data\"][\"num_classes\"],\n",
    "    resize_to=all_config[\"data\"][\"resize_to\"],\n",
    "    shots=all_config[\"data_tune\"][\"list_shots\"],\n",
    "    point=all_config[\"data_tune\"][\"list_sparsity_point\"],\n",
    "    grid=all_config[\"data_tune\"][\"list_sparsity_grid\"],\n",
    "    contour=all_config[\"data_tune\"][\"list_sparsity_contour\"],\n",
    "    skeleton=all_config[\"data_tune\"][\"list_sparsity_skeleton\"],\n",
    "    region=all_config[\"data_tune\"][\"list_sparsity_region\"],\n",
    "    batch_size=all_config[\"data\"][\"batch_size\"],\n",
    "    num_workers=all_config[\"data\"][\"num_workers\"],\n",
    ")"
   ]
  },
  {
   "cell_type": "markdown",
   "id": "4e96d862aade6684",
   "metadata": {
    "collapsed": false
   },
   "source": [
    "### Create Learner\n"
   ]
  },
  {
   "cell_type": "code",
   "execution_count": null,
   "id": "e79afeb0bd7421fc",
   "metadata": {
    "ExecuteTime": {
     "end_time": "2023-12-16T02:22:23.130015700Z",
     "start_time": "2023-12-16T02:22:23.020674200Z"
    },
    "collapsed": false
   },
   "outputs": [],
   "source": [
    "learner = WeaselLearner(net, all_config, meta_set, tune_loader, calc_disc_cup_iou)"
   ]
  },
  {
   "cell_type": "markdown",
   "id": "2f580dedc009e1ad",
   "metadata": {
    "collapsed": false
   },
   "source": [
    "## Learning\n"
   ]
  },
  {
   "cell_type": "code",
   "execution_count": null,
   "id": "771709db979ed1b7",
   "metadata": {
    "collapsed": false
   },
   "outputs": [],
   "source": [
    "learner.learn()"
   ]
  },
  {
   "cell_type": "code",
   "execution_count": null,
   "id": "23909f5e5ff42d12",
   "metadata": {
    "ExecuteTime": {
     "end_time": "2023-12-15T19:45:06.890178Z",
     "start_time": "2023-12-15T19:44:06.657060400Z"
    },
    "collapsed": false
   },
   "outputs": [],
   "source": [
    "net = None\n",
    "learner = None\n",
    "\n",
    "gc.collect()\n",
    "cuda.empty_cache()\n",
    "\n",
    "time.sleep(60)"
   ]
  },
  {
   "cell_type": "markdown",
   "id": "cb104f760e514904",
   "metadata": {
    "collapsed": false
   },
   "source": [
    "# Protoseg Learner\n"
   ]
  },
  {
   "cell_type": "markdown",
   "id": "a98a421bf77878b0",
   "metadata": {
    "collapsed": false
   },
   "source": [
    "## Initialization\n"
   ]
  },
  {
   "cell_type": "markdown",
   "id": "ecf0d3c1edea8619",
   "metadata": {
    "collapsed": false
   },
   "source": [
    "### Update Config\n"
   ]
  },
  {
   "cell_type": "code",
   "execution_count": null,
   "id": "cacb37df46ec4fdc",
   "metadata": {
    "ExecuteTime": {
     "end_time": "2023-12-16T02:22:42.575452600Z",
     "start_time": "2023-12-16T02:22:42.466041300Z"
    },
    "collapsed": false
   },
   "outputs": [],
   "source": [
    "all_config[\"data\"][\"batch_size\"] = 5\n",
    "# all_config['learn']['should_resume'] = True\n",
    "all_config[\"save\"][\"exp_name\"] = \"protoseg_short_rimone_to_drishti\"\n",
    "# all_config['save']['exp_name'] = 'protoseg_long_rimone_to_drishti'"
   ]
  },
  {
   "cell_type": "markdown",
   "id": "c146664bf9606d99",
   "metadata": {
    "collapsed": false
   },
   "source": [
    "### Create Model\n"
   ]
  },
  {
   "cell_type": "code",
   "execution_count": null,
   "id": "1c6715711821aa67",
   "metadata": {
    "ExecuteTime": {
     "end_time": "2023-12-16T02:22:43.428121500Z",
     "start_time": "2023-12-16T02:22:43.318740600Z"
    },
    "collapsed": false
   },
   "outputs": [],
   "source": [
    "net = UNet(all_config[\"data\"][\"num_channels\"], all_config[\"data\"][\"num_classes\"])\n",
    "\n",
    "n_params = sum(p.numel() for p in net.parameters() if p.requires_grad)\n",
    "print(\"# of parameters: \" + str(n_params))"
   ]
  },
  {
   "cell_type": "markdown",
   "id": "edab029ed3911f54",
   "metadata": {
    "collapsed": false
   },
   "source": [
    "### Prepare Data\n"
   ]
  },
  {
   "cell_type": "code",
   "execution_count": null,
   "id": "2e506319e9a7ff3f",
   "metadata": {
    "ExecuteTime": {
     "end_time": "2023-12-16T02:22:44.537155800Z",
     "start_time": "2023-12-16T02:22:44.474652300Z"
    },
    "collapsed": false
   },
   "outputs": [],
   "source": [
    "meta_set = get_meta_datasets(\n",
    "    [\n",
    "        {\n",
    "            \"dataset_class\": RimOneDataset,\n",
    "            \"num_classes\": all_config[\"data\"][\"num_classes\"],\n",
    "            \"resize_to\": all_config[\"data\"][\"resize_to\"],\n",
    "            \"kwargs\": {\n",
    "                \"split_seed\": 0,\n",
    "                \"split_test_size\": 0.8,\n",
    "                \"sparsity_mode\": \"random\",\n",
    "                \"sparsity_value\": \"random\",\n",
    "                \"sparsity_params\": rim_one_sparsity_params,\n",
    "            },\n",
    "        }\n",
    "    ]\n",
    ")\n",
    "\n",
    "tune_loader = get_tune_loaders(\n",
    "    dataset_class=DrishtiDataset,\n",
    "    dataset_kwargs={\n",
    "        \"split_seed\": 0,\n",
    "        \"split_test_size\": 0.8,\n",
    "        \"sparsity_mode\": \"random\",\n",
    "        \"sparsity_value\": \"random\",\n",
    "        \"sparsity_params\": drishti_sparsity_params,\n",
    "    },\n",
    "    num_classes=all_config[\"data\"][\"num_classes\"],\n",
    "    resize_to=all_config[\"data\"][\"resize_to\"],\n",
    "    shots=all_config[\"data_tune\"][\"list_shots\"],\n",
    "    point=all_config[\"data_tune\"][\"list_sparsity_point\"],\n",
    "    grid=all_config[\"data_tune\"][\"list_sparsity_grid\"],\n",
    "    contour=all_config[\"data_tune\"][\"list_sparsity_contour\"],\n",
    "    skeleton=all_config[\"data_tune\"][\"list_sparsity_skeleton\"],\n",
    "    region=all_config[\"data_tune\"][\"list_sparsity_region\"],\n",
    "    batch_size=all_config[\"data\"][\"batch_size\"],\n",
    "    num_workers=all_config[\"data\"][\"num_workers\"],\n",
    ")"
   ]
  },
  {
   "cell_type": "markdown",
   "id": "79383e675f2bce60",
   "metadata": {
    "collapsed": false
   },
   "source": [
    "### Create Learner\n"
   ]
  },
  {
   "cell_type": "code",
   "execution_count": null,
   "id": "f263c6b0d85f1902",
   "metadata": {
    "ExecuteTime": {
     "end_time": "2023-12-16T02:22:46.177811500Z",
     "start_time": "2023-12-16T02:22:46.052799300Z"
    },
    "collapsed": false
   },
   "outputs": [],
   "source": [
    "learner = ProtoSegLearner(net, all_config, meta_set, tune_loader, calc_disc_cup_iou)"
   ]
  },
  {
   "cell_type": "markdown",
   "id": "9766eeb3fb61c410",
   "metadata": {
    "collapsed": false
   },
   "source": [
    "## Learning\n"
   ]
  },
  {
   "cell_type": "code",
   "execution_count": null,
   "id": "8fba2a1e62b7eeb0",
   "metadata": {
    "collapsed": false
   },
   "outputs": [],
   "source": [
    "learner.learn()"
   ]
  },
  {
   "cell_type": "code",
   "execution_count": null,
   "id": "34c13c8e4a459190",
   "metadata": {
    "ExecuteTime": {
     "end_time": "2023-12-15T21:10:28.061624400Z",
     "start_time": "2023-12-15T21:10:27.650668800Z"
    },
    "collapsed": false
   },
   "outputs": [],
   "source": [
    "net = None\n",
    "learner = None\n",
    "\n",
    "gc.collect()\n",
    "cuda.empty_cache()"
   ]
  }
 ],
 "metadata": {
  "kernelspec": {
   "display_name": "Python 3",
   "language": "python",
   "name": "python3"
  },
  "language_info": {
   "codemirror_mode": {
    "name": "ipython",
    "version": 3
   },
   "file_extension": ".py",
   "mimetype": "text/x-python",
   "name": "python",
   "nbconvert_exporter": "python",
   "pygments_lexer": "ipython3",
   "version": "3.10.9"
  }
 },
 "nbformat": 4,
 "nbformat_minor": 5
}
