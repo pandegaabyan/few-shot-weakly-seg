{
 "cells": [
  {
   "cell_type": "markdown",
   "id": "6d5c718deb8cba1",
   "metadata": {
    "collapsed": false
   },
   "source": [
    "# Sparsification"
   ]
  },
  {
   "cell_type": "code",
   "execution_count": null,
   "outputs": [],
   "source": [
    "from data.types import SparsityValue\n",
    "from tasks.optic_disc_cup.datasets import RimOneDataset\n",
    "\n",
    "rim_one_sparsity_params: dict = {\n",
    "    'point_dot_size': 5,\n",
    "    'grid_dot_size': 4,\n",
    "    'contour_radius_dist': 4,\n",
    "    'contour_radius_thick': 2,\n",
    "    'skeleton_radius_thick': 4,\n",
    "    'region_compactness': 0.5\n",
    "}\n",
    "\n",
    "rim_one_data = RimOneDataset(\n",
    "    mode='train',\n",
    "    num_classes=3,\n",
    "    num_shots=5,\n",
    "    resize_to=(256, 256),\n",
    "    split_seed=0,\n",
    "    sparsity_params=rim_one_sparsity_params\n",
    ")\n",
    "\n",
    "sparsity_values: dict[str, SparsityValue] = {\n",
    "    'point': 10,\n",
    "    'grid': 20,\n",
    "    'contour': 1,\n",
    "    'skeleton': 1,\n",
    "    'region': 1,\n",
    "    'point_old': 10,\n",
    "    'grid_old': 20\n",
    "}\n",
    "image, mask, sparse_masks, image_filename = rim_one_data.get_data_with_sparse_all(0, sparsity_values)"
   ],
   "metadata": {
    "collapsed": false
   },
   "id": "cc2ac2e85a37c1a6"
  },
  {
   "cell_type": "code",
   "execution_count": null,
   "id": "df2a96919048a892",
   "metadata": {
    "collapsed": false
   },
   "outputs": [],
   "source": [
    "import numpy as np\n",
    "import matplotlib.pyplot as plt\n",
    "from skimage import feature, morphology\n",
    "\n",
    "edge_mask = feature.canny(mask.astype(np.float64))\n",
    "edge_mask_dilated = morphology.binary_dilation(edge_mask, footprint=morphology.disk(2))\n",
    "\n",
    "print(np.unique(mask), np.unique(edge_mask), np.unique(edge_mask_dilated))\n",
    "plt.imshow(edge_mask_dilated)"
   ]
  },
  {
   "cell_type": "markdown",
   "id": "dce5d770586f88d9",
   "metadata": {
    "collapsed": false
   },
   "source": [
    "# File Processing"
   ]
  },
  {
   "cell_type": "markdown",
   "id": "817f7d1cf02635fb",
   "metadata": {
    "collapsed": false
   },
   "source": [
    "## Mixed Print and Log"
   ]
  },
  {
   "cell_type": "code",
   "execution_count": null,
   "id": "c8772d11eda41c10",
   "metadata": {
    "collapsed": false
   },
   "outputs": [],
   "source": [
    "# log_file_ori = open('outputs/protoseg_long_rimone_to_drishti/learn_log_ori.txt', 'r')\n",
    "# log_file = open('outputs/protoseg_long_rimone_to_drishti/learn_log.txt', 'w')\n",
    "# \n",
    "# for i in range(1, 4900):\n",
    "#     line = log_file_ori.readline()\n",
    "#     \n",
    "#     if not line.startswith('INFO'):\n",
    "#         continue\n",
    "#     \n",
    "#     log_file.write(line.removeprefix('INFO:root:'))\n",
    "# \n",
    "# log_file_ori.close()\n",
    "# log_file.close()"
   ]
  },
  {
   "cell_type": "markdown",
   "id": "d7c155b951815154",
   "metadata": {
    "collapsed": false
   },
   "source": [
    "## Exp Name Update"
   ]
  },
  {
   "cell_type": "code",
   "execution_count": 1,
   "id": "6b0d5007ae7264ed",
   "metadata": {
    "collapsed": false,
    "ExecuteTime": {
     "end_time": "2023-12-30T07:28:53.652316600Z",
     "start_time": "2023-12-30T07:28:47.632147500Z"
    }
   },
   "outputs": [],
   "source": [
    "from config.config_type import AllConfig\n",
    "import json\n",
    "import os\n",
    "\n",
    "def change_exp_name(old_name: str, new_name: str, output_path: str, checkpoint_path: str, config_filename: str) -> None:\n",
    "    checkpoint_old_path = os.path.join(checkpoint_path, old_name)\n",
    "    if os.path.exists(checkpoint_old_path):\n",
    "        os.rename(checkpoint_old_path, os.path.join(checkpoint_path, new_name))\n",
    "    \n",
    "    os.rename(os.path.join(output_path, old_name), os.path.join(output_path, new_name))\n",
    "    \n",
    "    config_filepath = os.path.join(output_path, new_name, config_filename)\n",
    "    if not os.path.exists(config_filepath):\n",
    "        return\n",
    "    \n",
    "    with open(config_filepath, 'r') as config_file:\n",
    "        config: AllConfig = json.load(config_file)\n",
    "    config['learn']['exp_name'] = new_name\n",
    "    with open(config_filepath, 'w') as config_file:\n",
    "        json.dump(config, config_file, indent=4)"
   ]
  },
  {
   "cell_type": "code",
   "execution_count": null,
   "outputs": [],
   "source": [
    "change_exp_name('', '', 'outputs', 'ckpt', 'config.json')"
   ],
   "metadata": {
    "collapsed": false
   },
   "id": "a5d7802ab23ff11e"
  },
  {
   "cell_type": "code",
   "execution_count": null,
   "id": "e30e735b7ae7d03",
   "metadata": {
    "collapsed": false
   },
   "outputs": [],
   "source": [
    "for exp_name in filter(lambda x: x.startswith(''), os.listdir('outputs')):\n",
    "    change_exp_name(exp_name, exp_name.replace('', ''), 'outputs', 'ckpt', 'config.json')"
   ]
  },
  {
   "cell_type": "markdown",
   "source": [
    "## Prediction Image Rename"
   ],
   "metadata": {
    "collapsed": false
   },
   "id": "d2ac14ea6cbf48a5"
  },
  {
   "cell_type": "code",
   "execution_count": null,
   "outputs": [],
   "source": [
    "import os\n",
    "\n",
    "for exp_name in os.listdir('outputs'):\n",
    "    pred_filenames = list(filter(lambda x: x.startswith('('), os.listdir(os.path.join('outputs', exp_name, 'predictions'))))\n",
    "    for pred_filename in pred_filenames:\n",
    "        new_pred_filename = pred_filename.replace('(', '').replace(')', '').replace(',', '').replace(\"'\", '')\n",
    "        os.rename(\n",
    "            os.path.join('outputs', exp_name, 'predictions', pred_filename), \n",
    "            os.path.join('outputs', exp_name, 'predictions', new_pred_filename)\n",
    "        )"
   ],
   "metadata": {
    "collapsed": false
   },
   "id": "826950b0edbaa74c"
  },
  {
   "cell_type": "markdown",
   "source": [
    "## Add Column to CSV"
   ],
   "metadata": {
    "collapsed": false
   },
   "id": "34400bacdc6c1aa"
  },
  {
   "cell_type": "code",
   "execution_count": null,
   "outputs": [],
   "source": [
    "import os\n",
    "import pandas as pd"
   ],
   "metadata": {
    "collapsed": false
   },
   "id": "4d066a33ec03746d"
  },
  {
   "cell_type": "code",
   "execution_count": null,
   "outputs": [],
   "source": [
    "csv_path = 'dummy.csv'\n",
    "\n",
    "sparsity_dict = {\n",
    "    'point': [10],\n",
    "    'grid': [25],\n",
    "    'contour': [1],\n",
    "    'skeleton': [1],\n",
    "    'region': [1],\n",
    "    'point_old': [10],\n",
    "    'grid_old': [25]\n",
    "}\n",
    "\n",
    "df = pd.read_csv(csv_path)\n",
    "df.insert(1, 'n_shots', df['sparsity_mode'].apply(lambda x: 10))\n",
    "df.insert(3, 'sparsity_value', df['sparsity_mode'].apply(lambda x: sparsity_dict[x][0]))\n",
    "df.to_csv(csv_path, index=False)"
   ],
   "metadata": {
    "collapsed": false
   },
   "id": "3b40130a5710920a"
  },
  {
   "cell_type": "code",
   "execution_count": null,
   "outputs": [],
   "source": [
    "for exp_name in list(filter(lambda x: x.startswith('PS') and 'v3' in x and not 'all' in x, os.listdir('outputs'))):\n",
    "    csv_path = os.path.join('outputs', exp_name, 'tuned_score.csv')\n",
    "    df = pd.read_csv(csv_path)\n",
    "    df.insert(1, 'n_shots', df['sparsity_mode'].apply(lambda x: 10))\n",
    "    df.insert(3, 'sparsity_value', df['sparsity_mode'].apply(lambda x: sparsity_dict[x][0]))\n",
    "    df.to_csv(csv_path, index=False)"
   ],
   "metadata": {
    "collapsed": false
   },
   "id": "539140981f5243aa"
  },
  {
   "cell_type": "markdown",
   "source": [
    "## Delete Config Param"
   ],
   "metadata": {
    "collapsed": false
   },
   "id": "e51eba0a35d91e8b"
  },
  {
   "cell_type": "code",
   "execution_count": 3,
   "outputs": [],
   "source": [
    "import json\n",
    "import os\n",
    "\n",
    "def delete_config_param(output_path: str, exp_path: str, config_filename: str, params: list[str]) -> None:\n",
    "    config_filepath = os.path.join(output_path, exp_path, config_filename)\n",
    "    if not os.path.exists(config_filepath):\n",
    "        return\n",
    "\n",
    "    with open(config_filepath, 'r') as config_file:\n",
    "        config = json.load(config_file)\n",
    "    for param in params:\n",
    "        config.pop(param, None)\n",
    "    with open(config_filepath, 'w') as config_file:\n",
    "        json.dump(config, config_file, indent=4)"
   ],
   "metadata": {
    "collapsed": false,
    "ExecuteTime": {
     "end_time": "2023-12-30T07:31:16.404189800Z",
     "start_time": "2023-12-30T07:31:16.305301200Z"
    }
   },
   "id": "2f340a29a4a3e80c"
  },
  {
   "cell_type": "code",
   "execution_count": 5,
   "outputs": [],
   "source": [
    "for exp_name in filter(lambda x: ' PS' in x, os.listdir('outputs')):\n",
    "    delete_config_param('outputs', exp_name, 'config.json', ['weasel'])"
   ],
   "metadata": {
    "collapsed": false,
    "ExecuteTime": {
     "end_time": "2023-12-30T07:31:30.901175700Z",
     "start_time": "2023-12-30T07:31:30.844244900Z"
    }
   },
   "id": "63085b4a4367ffdd"
  },
  {
   "cell_type": "markdown",
   "source": [
    "# Logging"
   ],
   "metadata": {
    "collapsed": false
   },
   "id": "d56e7ff5595e817a"
  },
  {
   "cell_type": "markdown",
   "id": "c302fd9e12271a03",
   "metadata": {
    "collapsed": false
   },
   "source": [
    "## GPU Usage"
   ]
  },
  {
   "cell_type": "code",
   "execution_count": null,
   "id": "e2e300e78dcbbb01",
   "metadata": {
    "collapsed": false
   },
   "outputs": [],
   "source": [
    "import torch\n",
    "\n",
    "print(torch.cuda.get_device_properties(0).total_memory)\n",
    "print(torch.cuda.memory_reserved(0))\n",
    "print(torch.cuda.memory_allocated(0))\n",
    "print(torch.cuda.memory_stats(0))"
   ]
  },
  {
   "cell_type": "code",
   "execution_count": null,
   "id": "52caf7c0bcc1d083",
   "metadata": {
    "collapsed": false
   },
   "outputs": [],
   "source": [
    "nvidia_smi_text = b'Thu Dec 21 07:17:44 2023       \\n+-----------------------------------------------------------------------------+\\n| NVIDIA-SMI 450.191.01   Driver Version: 450.191.01   CUDA Version: 11.0     |\\n|-------------------------------+----------------------+----------------------+\\n| GPU  Name        Persistence-M| Bus-Id        Disp.A | Volatile Uncorr. ECC |\\n| Fan  Temp  Perf  Pwr:Usage/Cap|         Memory-Usage | GPU-Util  Compute M. |\\n|                               |                      |               MIG M. |\\n|===============================+======================+======================|\\n|   0  Tesla V100-SXM2...  On   | 00000000:8A:00.0 Off |                    0 |\\n| N/A   44C    P0   199W / 300W |  10256MiB / 32510MiB |     51%      Default |\\n|                               |                      |                  N/A |\\n+-------------------------------+----------------------+----------------------+\\n                                                                               \\n+-----------------------------------------------------------------------------+\\n| Processes:                                                                  |\\n|  GPU   GI   CI        PID   Type   Process name                  GPU Memory |\\n|        ID   ID                                                   Usage      |\\n|=============================================================================|\\n+-----------------------------------------------------------------------------+\\n'\n",
    "\n",
    "# extract memory usage and available memory\n"
   ]
  },
  {
   "cell_type": "code",
   "execution_count": null,
   "id": "a03a4b608cf1a0d2",
   "metadata": {
    "collapsed": false
   },
   "outputs": [],
   "source": [
    "import re\n",
    "\n",
    "# command = 'nvidia-smi'\n",
    "# nvidia_smi_text = subprocess.check_output(command)\n",
    "[used_ram, total_ram] = re.findall(r'\\b\\d+MiB', str(nvidia_smi_text))\n",
    "used_ram = int(used_ram[:-3])\n",
    "total_ram = int(total_ram[:-3])\n",
    "percent_ram = used_ram * 100 / total_ram\n",
    "\n",
    "percent_ram, total_ram"
   ]
  },
  {
   "cell_type": "markdown",
   "id": "78de24727b2db0e3",
   "metadata": {
    "collapsed": false
   },
   "source": [
    "## Error Logging"
   ]
  },
  {
   "cell_type": "code",
   "execution_count": null,
   "outputs": [],
   "source": [
    "import logging\n",
    "# import sys\n",
    "# import traceback\n",
    "import time"
   ],
   "metadata": {
    "collapsed": false
   },
   "id": "df0706495f6b32ae"
  },
  {
   "cell_type": "code",
   "execution_count": null,
   "outputs": [],
   "source": [
    "logging.basicConfig(filename='test.log',\n",
    "                    encoding='utf-8',\n",
    "                    level=logging.INFO,\n",
    "                    format='%(asctime)s | %(message)s',\n",
    "                    datefmt='%Y-%m-%d %H:%M:%S',\n",
    "                    force=True)"
   ],
   "metadata": {
    "collapsed": false
   },
   "id": "c49b41c1dc47fb5b"
  },
  {
   "cell_type": "code",
   "execution_count": null,
   "outputs": [],
   "source": [
    "try:\n",
    "    for i in range(1000):\n",
    "        logging.info(i)\n",
    "        time.sleep(1)\n",
    "except BaseException as e:\n",
    "    # traceback.print_exception(*sys.exc_info())\n",
    "    # logging.warning(traceback.format_exc())\n",
    "    # logging.error(traceback.format_exc())\n",
    "    logging.error(\"Exception:\", exc_info=True, stack_info=True)\n",
    "    raise e\n",
    "finally:\n",
    "    logging.info('End')\n",
    "    logger = logging.getLogger()\n",
    "    while logger.hasHandlers():\n",
    "        logger.removeHandler(logger.handlers[0])"
   ],
   "metadata": {
    "collapsed": false
   },
   "id": "a3a4bc910dbfc702"
  },
  {
   "cell_type": "markdown",
   "source": [
    "# Main Processing"
   ],
   "metadata": {
    "collapsed": false
   },
   "id": "823b42963ddd1d61"
  },
  {
   "cell_type": "markdown",
   "source": [
    "## Prototype on Different Batch Size"
   ],
   "metadata": {
    "collapsed": false
   },
   "id": "7f39821b6814010e"
  },
  {
   "cell_type": "code",
   "execution_count": null,
   "outputs": [],
   "source": [
    "import time\n",
    "import torch\n",
    "import numpy as np\n",
    "from torch.nn import functional"
   ],
   "metadata": {
    "collapsed": false
   },
   "id": "ac1a4cd091e90a75"
  },
  {
   "cell_type": "code",
   "execution_count": null,
   "outputs": [],
   "source": [
    "torch.tensor([1, 2, 3]) - torch.tensor([[1, 2, 3], [4, 5, 6]])\n",
    "\n",
    "aa = torch.tensor([[1, 2, 3]])\n",
    "bb = torch.tensor([[1, 2, 3], [4, 5, 6]])\n",
    "print(aa.shape, bb.shape)\n",
    "print(aa - bb, (aa - bb).shape)"
   ],
   "metadata": {
    "collapsed": false
   },
   "id": "6455bf9c7e4e4bef"
  },
  {
   "cell_type": "code",
   "execution_count": null,
   "outputs": [],
   "source": [
    "proto = torch.randn([30, 3, 4]).type(torch.FloatTensor)\n",
    "embed = torch.randn([30, 100, 4]).type(torch.FloatTensor)\n",
    "target = torch.randint(0, 3, [30, 100]).type(torch.LongTensor)"
   ],
   "metadata": {
    "collapsed": false
   },
   "id": "7b78a5bd751c86ea"
  },
  {
   "cell_type": "code",
   "execution_count": null,
   "outputs": [],
   "source": [
    "squared_distances_loss = torch.sum((proto.unsqueeze(2) - embed.unsqueeze(1)) ** 2, dim=-1)\n",
    "loss = functional.cross_entropy(-squared_distances_loss, target, ignore_index=-1)\n",
    "\n",
    "squared_distances_pred = torch.sum((proto.unsqueeze(1) - embed.unsqueeze(2)) ** 2, dim=-1)\n",
    "pred = torch.argmin(squared_distances_pred, dim=-1)\n",
    "\n",
    "print(squared_distances_loss.shape)\n",
    "print(squared_distances_pred.shape)\n",
    "print(loss)\n",
    "print(pred.shape)\n",
    "print(pred)"
   ],
   "metadata": {
    "collapsed": false
   },
   "id": "cadd3d938d162144"
  },
  {
   "cell_type": "code",
   "execution_count": null,
   "outputs": [],
   "source": [
    "loss_list = []\n",
    "for i in range(proto.shape[0]):\n",
    "    proto_item = proto[i:i+1, :, :]\n",
    "    squared_distances_loss = torch.sum((proto_item.unsqueeze(2) - embed.unsqueeze(1)) ** 2, dim=-1)\n",
    "    loss = functional.cross_entropy(-squared_distances_loss, target, ignore_index=-1)\n",
    "    loss_list.append(loss)\n",
    "    \n",
    "print(torch.mean(torch.stack(loss_list)))"
   ],
   "metadata": {
    "collapsed": false
   },
   "id": "ad0eba18baa08236"
  },
  {
   "cell_type": "code",
   "execution_count": null,
   "outputs": [],
   "source": [
    "lcm = np.lcm(proto.shape[0], embed.shape[0])\n",
    "proto_repeat = proto.repeat(lcm // proto.shape[0], 1, 1)\n",
    "embed_repeat = embed.repeat(lcm // embed.shape[0], 1, 1)\n",
    "target_repeat = target.repeat(lcm // target.shape[0], 1)\n",
    "squared_distances_loss = torch.sum((proto_repeat.unsqueeze(2) - embed_repeat.unsqueeze(1)) ** 2, dim=-1)\n",
    "loss = functional.cross_entropy(-squared_distances_loss, target_repeat, ignore_index=-1)\n",
    "print(loss)"
   ],
   "metadata": {
    "collapsed": false
   },
   "id": "a2e4c0b42e89711e"
  },
  {
   "cell_type": "code",
   "execution_count": null,
   "outputs": [],
   "source": [
    "batch_diff = proto.shape[0] - embed.shape[0]\n",
    "if batch_diff > 0:\n",
    "    new_embed = torch.cat([embed, embed[:batch_diff]], dim=0)\n",
    "    new_target = torch.cat([target, target[:batch_diff]], dim=0)\n",
    "else:\n",
    "    new_embed = embed[:proto.shape[0]]\n",
    "    new_target = target[:proto.shape[0]]\n",
    "squared_distances_loss = torch.sum((proto.unsqueeze(2) - new_embed.unsqueeze(1)) ** 2, dim=-1)\n",
    "loss = functional.cross_entropy(-squared_distances_loss, new_target, ignore_index=-1)\n",
    "print(loss)"
   ],
   "metadata": {
    "collapsed": false
   },
   "id": "2924cef98fcb4df0"
  },
  {
   "cell_type": "code",
   "execution_count": null,
   "outputs": [],
   "source": [
    "loss_list_1 = []\n",
    "total_time_1 = 0\n",
    "loss_list_2 = []\n",
    "total_time_2 = 0\n",
    "loss_list_3 = []\n",
    "total_time_3 = 0\n",
    "loss_list_4 = []\n",
    "total_time_4 = 0\n",
    "for i in range(1000):\n",
    "    proto = torch.randn([30, 3, 4]).type(torch.FloatTensor)\n",
    "    embed = torch.randn([30, 100, 4]).type(torch.FloatTensor)\n",
    "    target = torch.randint(0, 3, [30, 100]).type(torch.LongTensor)\n",
    "    \n",
    "    start_1 = time.time()\n",
    "    squared_distances_loss = torch.sum((proto.unsqueeze(2) - embed.unsqueeze(1)) ** 2, dim=-1)\n",
    "    loss = functional.cross_entropy(-squared_distances_loss, target, ignore_index=-1)\n",
    "    loss_list_1.append(loss)\n",
    "    total_time_1 += time.time() - start_1\n",
    "    \n",
    "    start_2 = time.time()\n",
    "    loss_list_inner = []\n",
    "    for j in range(proto.shape[0]):\n",
    "        proto_item = proto[j:j+1, :, :]\n",
    "        squared_distances_loss = torch.sum((proto_item.unsqueeze(2) - embed.unsqueeze(1)) ** 2, dim=-1)\n",
    "        loss = functional.cross_entropy(-squared_distances_loss, target, ignore_index=-1)\n",
    "        loss_list_inner.append(loss)\n",
    "    loss_list_2.append(torch.mean(torch.stack(loss_list_inner)))\n",
    "    total_time_2 += time.time() - start_2\n",
    "    \n",
    "    start_3 = time.time()\n",
    "    lcm = np.lcm(proto.shape[0], embed.shape[0])\n",
    "    proto_repeat = proto.repeat(lcm // proto.shape[0], 1, 1)\n",
    "    embed_repeat = embed.repeat(lcm // embed.shape[0], 1, 1)\n",
    "    target_repeat = target.repeat(lcm // target.shape[0], 1)\n",
    "    squared_distances_loss = torch.sum((proto_repeat.unsqueeze(2) - embed_repeat.unsqueeze(1)) ** 2, dim=-1)\n",
    "    loss = functional.cross_entropy(-squared_distances_loss, target_repeat, ignore_index=-1)\n",
    "    loss_list_3.append(loss)\n",
    "    total_time_3 += time.time() - start_3\n",
    "    \n",
    "    start_4 = time.time()\n",
    "    batch_diff = proto.shape[0] - embed.shape[0]\n",
    "    if batch_diff > 0:\n",
    "        new_embed = torch.cat([embed, embed[:batch_diff]], dim=0)\n",
    "        new_target = torch.cat([target, target[:batch_diff]], dim=0)\n",
    "    else:\n",
    "        new_embed = embed[:proto.shape[0]]\n",
    "        new_target = target[:proto.shape[0]]\n",
    "    squared_distances_loss = torch.sum((proto.unsqueeze(2) - new_embed.unsqueeze(1)) ** 2, dim=-1)\n",
    "    loss = functional.cross_entropy(-squared_distances_loss, new_target, ignore_index=-1)\n",
    "    loss_list_4.append(loss)\n",
    "    total_time_4 += time.time() - start_4\n",
    "\n",
    "print(torch.mean(torch.stack(loss_list_1)), torch.std(torch.stack(loss_list_1)))\n",
    "print(torch.mean(torch.stack(loss_list_2)), torch.std(torch.stack(loss_list_2)))\n",
    "print(torch.mean(torch.stack(loss_list_3)), torch.std(torch.stack(loss_list_3)))\n",
    "print(torch.mean(torch.stack(loss_list_4)), torch.std(torch.stack(loss_list_4)))\n",
    "print(total_time_1, total_time_2, total_time_3, total_time_4)"
   ],
   "metadata": {
    "collapsed": false
   },
   "id": "6d54834333a1b8e2"
  },
  {
   "cell_type": "code",
   "execution_count": null,
   "outputs": [],
   "source": [
    "# not working, usage of mean give different distribution \n",
    "\n",
    "embed_mean = torch.mean(embed, dim=0, keepdim=True)\n",
    "new_embed = embed_mean.repeat(30, 1, 1)\n",
    "\n",
    "squared_distances_loss = torch.sum((proto.unsqueeze(2) - new_embed.unsqueeze(1)) ** 2, dim=-1)\n",
    "loss = functional.cross_entropy(-squared_distances_loss, target, ignore_index=-1)\n",
    "loss"
   ],
   "metadata": {
    "collapsed": false
   },
   "id": "af08d3e2c3b6de08"
  },
  {
   "cell_type": "markdown",
   "source": [
    "# Other"
   ],
   "metadata": {
    "collapsed": false
   },
   "id": "dba89ff87cbc03e0"
  }
 ],
 "metadata": {
  "kernelspec": {
   "display_name": "Python 3",
   "language": "python",
   "name": "python3"
  },
  "language_info": {
   "codemirror_mode": {
    "name": "ipython",
    "version": 3
   },
   "file_extension": ".py",
   "mimetype": "text/x-python",
   "name": "python",
   "nbconvert_exporter": "python",
   "pygments_lexer": "ipython3",
   "version": "3.10.13"
  }
 },
 "nbformat": 4,
 "nbformat_minor": 5
}
