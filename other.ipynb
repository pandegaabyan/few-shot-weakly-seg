{
 "cells": [
  {
   "cell_type": "markdown",
   "id": "6d5c718deb8cba1",
   "metadata": {
    "collapsed": false
   },
   "source": [
    "# Sparsification\n"
   ]
  },
  {
   "cell_type": "code",
   "execution_count": null,
   "id": "cc2ac2e85a37c1a6",
   "metadata": {
    "collapsed": false
   },
   "outputs": [],
   "source": [
    "from data.types import SparsityValue\n",
    "from tasks.optic_disc_cup.datasets import RimOneDataset\n",
    "\n",
    "rim_one_sparsity_params: dict = {\n",
    "    \"point_dot_size\": 5,\n",
    "    \"grid_dot_size\": 4,\n",
    "    \"contour_radius_dist\": 4,\n",
    "    \"contour_radius_thick\": 2,\n",
    "    \"skeleton_radius_thick\": 4,\n",
    "    \"region_compactness\": 0.5,\n",
    "}\n",
    "\n",
    "rim_one_data = RimOneDataset(\n",
    "    mode=\"train\",\n",
    "    num_classes=3,\n",
    "    num_shots=5,\n",
    "    resize_to=(256, 256),\n",
    "    split_seed=0,\n",
    "    sparsity_params=rim_one_sparsity_params,\n",
    ")\n",
    "\n",
    "sparsity_values: dict[str, SparsityValue] = {\n",
    "    \"point\": 10,\n",
    "    \"grid\": 20,\n",
    "    \"contour\": 1,\n",
    "    \"skeleton\": 1,\n",
    "    \"region\": 1,\n",
    "    \"point_old\": 10,\n",
    "    \"grid_old\": 20,\n",
    "}\n",
    "image, mask, sparse_masks, image_filename = rim_one_data.get_data_with_sparse_all(\n",
    "    0, sparsity_values\n",
    ")"
   ]
  },
  {
   "cell_type": "code",
   "execution_count": null,
   "id": "df2a96919048a892",
   "metadata": {
    "collapsed": false
   },
   "outputs": [],
   "source": [
    "import matplotlib.pyplot as plt\n",
    "import numpy as np\n",
    "from skimage import feature, morphology\n",
    "\n",
    "edge_mask = feature.canny(mask.astype(np.float64))\n",
    "edge_mask_dilated = morphology.binary_dilation(edge_mask, footprint=morphology.disk(2))\n",
    "\n",
    "print(np.unique(mask), np.unique(edge_mask), np.unique(edge_mask_dilated))\n",
    "plt.imshow(edge_mask_dilated)\n"
   ]
  },
  {
   "cell_type": "markdown",
   "id": "dce5d770586f88d9",
   "metadata": {
    "collapsed": false
   },
   "source": [
    "# File Processing\n"
   ]
  },
  {
   "cell_type": "markdown",
   "id": "817f7d1cf02635fb",
   "metadata": {
    "collapsed": false
   },
   "source": [
    "## Mixed Print and Log\n"
   ]
  },
  {
   "cell_type": "code",
   "execution_count": null,
   "id": "c8772d11eda41c10",
   "metadata": {
    "collapsed": false
   },
   "outputs": [],
   "source": [
    "# log_file_ori = open('outputs/protoseg_long_rimone_to_drishti/learn_log_ori.txt', 'r')\n",
    "# log_file = open('outputs/protoseg_long_rimone_to_drishti/learn_log.txt', 'w')\n",
    "#\n",
    "# for i in range(1, 4900):\n",
    "#     line = log_file_ori.readline()\n",
    "#\n",
    "#     if not line.startswith('INFO'):\n",
    "#         continue\n",
    "#\n",
    "#     log_file.write(line.removeprefix('INFO:root:'))\n",
    "#\n",
    "# log_file_ori.close()\n",
    "# log_file.close()"
   ]
  },
  {
   "cell_type": "markdown",
   "id": "d7c155b951815154",
   "metadata": {
    "collapsed": false
   },
   "source": [
    "## Exp Name Update\n"
   ]
  },
  {
   "cell_type": "code",
   "execution_count": null,
   "id": "6b0d5007ae7264ed",
   "metadata": {
    "collapsed": false
   },
   "outputs": [],
   "source": [
    "import json\n",
    "import os\n",
    "\n",
    "from config.config_type import AllConfig\n",
    "\n",
    "\n",
    "def change_exp_name(\n",
    "    old_name: str,\n",
    "    new_name: str,\n",
    "    output_path: str,\n",
    "    checkpoint_path: str,\n",
    "    config_filename: str,\n",
    ") -> None:\n",
    "    checkpoint_old_path = os.path.join(checkpoint_path, old_name)\n",
    "    if os.path.exists(checkpoint_old_path):\n",
    "        os.rename(checkpoint_old_path, os.path.join(checkpoint_path, new_name))\n",
    "\n",
    "    os.rename(os.path.join(output_path, old_name), os.path.join(output_path, new_name))\n",
    "\n",
    "    config_filepath = os.path.join(output_path, new_name, config_filename)\n",
    "    if not os.path.exists(config_filepath):\n",
    "        return\n",
    "\n",
    "    with open(config_filepath, \"r\") as config_file:\n",
    "        config: AllConfig = json.load(config_file)\n",
    "    config[\"learn\"][\"exp_name\"] = new_name\n",
    "    with open(config_filepath, \"w\") as config_file:\n",
    "        json.dump(config, config_file, indent=4)\n"
   ]
  },
  {
   "cell_type": "code",
   "execution_count": null,
   "id": "a5d7802ab23ff11e",
   "metadata": {
    "collapsed": false
   },
   "outputs": [],
   "source": [
    "change_exp_name(\n",
    "    \"v3 RO-DR S WS 2\", \"v3 RO-DR S WS all-iou\", \"outputs\", \"ckpt\", \"config.json\"\n",
    ")"
   ]
  },
  {
   "cell_type": "code",
   "execution_count": null,
   "id": "e30e735b7ae7d03",
   "metadata": {
    "collapsed": false
   },
   "outputs": [],
   "source": [
    "for exp_name in filter(lambda x: x.startswith(\"\"), os.listdir(\"outputs\")):\n",
    "    change_exp_name(\n",
    "        exp_name, exp_name.replace(\"\", \"\"), \"outputs\", \"ckpt\", \"config.json\"\n",
    "    )"
   ]
  },
  {
   "cell_type": "markdown",
   "id": "d2ac14ea6cbf48a5",
   "metadata": {
    "collapsed": false
   },
   "source": [
    "## Prediction Image Rename\n"
   ]
  },
  {
   "cell_type": "code",
   "execution_count": null,
   "id": "826950b0edbaa74c",
   "metadata": {
    "collapsed": false
   },
   "outputs": [],
   "source": [
    "import os\n",
    "\n",
    "for exp_name in os.listdir(\"outputs\"):\n",
    "    pred_filenames = list(\n",
    "        filter(\n",
    "            lambda x: x.startswith(\"(\"),\n",
    "            os.listdir(os.path.join(\"outputs\", exp_name, \"predictions\")),\n",
    "        )\n",
    "    )\n",
    "    for pred_filename in pred_filenames:\n",
    "        new_pred_filename = (\n",
    "            pred_filename.replace(\"(\", \"\")\n",
    "            .replace(\")\", \"\")\n",
    "            .replace(\",\", \"\")\n",
    "            .replace(\"'\", \"\")\n",
    "        )\n",
    "        os.rename(\n",
    "            os.path.join(\"outputs\", exp_name, \"predictions\", pred_filename),\n",
    "            os.path.join(\"outputs\", exp_name, \"predictions\", new_pred_filename),\n",
    "        )"
   ]
  },
  {
   "cell_type": "markdown",
   "id": "34400bacdc6c1aa",
   "metadata": {
    "collapsed": false
   },
   "source": [
    "## Add Column to CSV\n"
   ]
  },
  {
   "cell_type": "code",
   "execution_count": null,
   "id": "4d066a33ec03746d",
   "metadata": {
    "collapsed": false
   },
   "outputs": [],
   "source": [
    "import os\n",
    "\n",
    "import pandas as pd\n"
   ]
  },
  {
   "cell_type": "code",
   "execution_count": null,
   "id": "49253497985c6518",
   "metadata": {
    "collapsed": false
   },
   "outputs": [],
   "source": [
    "sparsity_dict = {\n",
    "    \"point\": [10],\n",
    "    \"grid\": [25],\n",
    "    \"contour\": [1],\n",
    "    \"skeleton\": [1],\n",
    "    \"region\": [1],\n",
    "    \"point_old\": [10],\n",
    "    \"grid_old\": [25],\n",
    "}"
   ]
  },
  {
   "cell_type": "code",
   "execution_count": null,
   "id": "3b40130a5710920a",
   "metadata": {
    "collapsed": false
   },
   "outputs": [],
   "source": [
    "# csv_path = 'dummy.csv'\n",
    "\n",
    "# df = pd.read_csv(csv_path)\n",
    "# df.insert(1, 'n_shots', df['sparsity_mode'].apply(lambda x: 10))\n",
    "# df.insert(3, 'sparsity_value', df['sparsity_mode'].apply(lambda x: sparsity_dict[x][0]))\n",
    "# df.to_csv(csv_path, index=False)"
   ]
  },
  {
   "cell_type": "code",
   "execution_count": null,
   "id": "539140981f5243aa",
   "metadata": {
    "collapsed": false
   },
   "outputs": [],
   "source": [
    "for exp_name in list(\n",
    "    filter(\n",
    "        lambda x: \" PS \" in x and \"v3 \" in x and not \"all\" in x, os.listdir(\"outputs\")\n",
    "    )\n",
    "):\n",
    "    csv_path = os.path.join(\"outputs\", exp_name, \"tuned_score.csv\")\n",
    "    df = pd.read_csv(csv_path)\n",
    "    df.insert(1, \"n_shots\", df[\"sparsity_mode\"].apply(lambda x: 10))\n",
    "    df.insert(\n",
    "        3, \"sparsity_value\", df[\"sparsity_mode\"].apply(lambda x: sparsity_dict[x][0])\n",
    "    )\n",
    "    df.to_csv(csv_path, index=False)"
   ]
  },
  {
   "cell_type": "markdown",
   "id": "e51eba0a35d91e8b",
   "metadata": {
    "collapsed": false
   },
   "source": [
    "## Delete Config Param\n"
   ]
  },
  {
   "cell_type": "code",
   "execution_count": null,
   "id": "2f340a29a4a3e80c",
   "metadata": {
    "collapsed": false
   },
   "outputs": [],
   "source": [
    "import os\n",
    "\n",
    "\n",
    "def delete_config_param(\n",
    "    output_path: str, exp_path: str, config_filename: str, params: list[str]\n",
    ") -> None:\n",
    "    config_filepath = os.path.join(output_path, exp_path, config_filename)\n",
    "    if not os.path.exists(config_filepath):\n",
    "        return\n",
    "\n",
    "    with open(config_filepath, \"r\") as config_file:\n",
    "        config = json.load(config_file)\n",
    "    for param in params:\n",
    "        config.pop(param, None)\n",
    "    with open(config_filepath, \"w\") as config_file:\n",
    "        json.dump(config, config_file, indent=4)"
   ]
  },
  {
   "cell_type": "code",
   "execution_count": null,
   "id": "63085b4a4367ffdd",
   "metadata": {
    "collapsed": false
   },
   "outputs": [],
   "source": [
    "for exp_name in filter(lambda x: \" PS\" in x, os.listdir(\"outputs\")):\n",
    "    delete_config_param(\"outputs\", exp_name, \"config.json\", [\"weasel\"])"
   ]
  },
  {
   "cell_type": "markdown",
   "id": "d56e7ff5595e817a",
   "metadata": {
    "collapsed": false
   },
   "source": [
    "# Logging\n"
   ]
  },
  {
   "cell_type": "markdown",
   "id": "c302fd9e12271a03",
   "metadata": {
    "collapsed": false
   },
   "source": [
    "## GPU Usage\n"
   ]
  },
  {
   "cell_type": "code",
   "execution_count": null,
   "id": "e2e300e78dcbbb01",
   "metadata": {
    "collapsed": false
   },
   "outputs": [],
   "source": [
    "import torch\n",
    "\n",
    "print(torch.cuda.get_device_properties(0).total_memory)\n",
    "print(torch.cuda.memory_reserved(0))\n",
    "print(torch.cuda.memory_allocated(0))\n",
    "print(torch.cuda.memory_stats(0))"
   ]
  },
  {
   "cell_type": "code",
   "execution_count": null,
   "id": "52caf7c0bcc1d083",
   "metadata": {
    "collapsed": false
   },
   "outputs": [],
   "source": [
    "nvidia_smi_text = b\"Thu Dec 21 07:17:44 2023       \\n+-----------------------------------------------------------------------------+\\n| NVIDIA-SMI 450.191.01   Driver Version: 450.191.01   CUDA Version: 11.0     |\\n|-------------------------------+----------------------+----------------------+\\n| GPU  Name        Persistence-M| Bus-Id        Disp.A | Volatile Uncorr. ECC |\\n| Fan  Temp  Perf  Pwr:Usage/Cap|         Memory-Usage | GPU-Util  Compute M. |\\n|                               |                      |               MIG M. |\\n|===============================+======================+======================|\\n|   0  Tesla V100-SXM2...  On   | 00000000:8A:00.0 Off |                    0 |\\n| N/A   44C    P0   199W / 300W |  10256MiB / 32510MiB |     51%      Default |\\n|                               |                      |                  N/A |\\n+-------------------------------+----------------------+----------------------+\\n                                                                               \\n+-----------------------------------------------------------------------------+\\n| Processes:                                                                  |\\n|  GPU   GI   CI        PID   Type   Process name                  GPU Memory |\\n|        ID   ID                                                   Usage      |\\n|=============================================================================|\\n+-----------------------------------------------------------------------------+\\n\"\n",
    "\n",
    "# extract memory usage and available memory"
   ]
  },
  {
   "cell_type": "code",
   "execution_count": null,
   "id": "a03a4b608cf1a0d2",
   "metadata": {
    "collapsed": false
   },
   "outputs": [],
   "source": [
    "import re\n",
    "\n",
    "# command = 'nvidia-smi'\n",
    "# nvidia_smi_text = subprocess.check_output(command)\n",
    "[used_ram, total_ram] = re.findall(r\"\\b\\d+MiB\", str(nvidia_smi_text))\n",
    "used_ram = int(used_ram[:-3])\n",
    "total_ram = int(total_ram[:-3])\n",
    "percent_ram = used_ram * 100 / total_ram\n",
    "\n",
    "percent_ram, total_ram"
   ]
  },
  {
   "cell_type": "markdown",
   "id": "78de24727b2db0e3",
   "metadata": {
    "collapsed": false
   },
   "source": [
    "## Error Logging\n"
   ]
  },
  {
   "cell_type": "code",
   "execution_count": null,
   "id": "df0706495f6b32ae",
   "metadata": {
    "collapsed": false
   },
   "outputs": [],
   "source": [
    "import logging\n",
    "\n",
    "# import sys\n",
    "# import traceback\n",
    "import time"
   ]
  },
  {
   "cell_type": "code",
   "execution_count": null,
   "id": "c49b41c1dc47fb5b",
   "metadata": {
    "collapsed": false
   },
   "outputs": [],
   "source": [
    "logging.basicConfig(\n",
    "    filename=\"test.log\",\n",
    "    encoding=\"utf-8\",\n",
    "    level=logging.INFO,\n",
    "    format=\"%(asctime)s | %(message)s\",\n",
    "    datefmt=\"%Y-%m-%d %H:%M:%S\",\n",
    "    force=True,\n",
    ")"
   ]
  },
  {
   "cell_type": "code",
   "execution_count": null,
   "id": "a3a4bc910dbfc702",
   "metadata": {
    "collapsed": false
   },
   "outputs": [],
   "source": [
    "try:\n",
    "    for i in range(1000):\n",
    "        logging.info(i)\n",
    "        time.sleep(1)\n",
    "except BaseException as e:\n",
    "    # traceback.print_exception(*sys.exc_info())\n",
    "    # logging.warning(traceback.format_exc())\n",
    "    # logging.error(traceback.format_exc())\n",
    "    logging.error(\"Exception:\", exc_info=True, stack_info=True)\n",
    "    raise e\n",
    "finally:\n",
    "    logging.info(\"End\")\n",
    "    logger = logging.getLogger()\n",
    "    while logger.hasHandlers():\n",
    "        logger.removeHandler(logger.handlers[0])"
   ]
  },
  {
   "cell_type": "markdown",
   "id": "823b42963ddd1d61",
   "metadata": {
    "collapsed": false
   },
   "source": [
    "# Main Processing\n"
   ]
  },
  {
   "cell_type": "markdown",
   "id": "281816b35dc3665",
   "metadata": {
    "collapsed": false
   },
   "source": [
    "## Data Loader\n"
   ]
  },
  {
   "cell_type": "code",
   "execution_count": null,
   "id": "d6d12e52862f5a14",
   "metadata": {
    "collapsed": false
   },
   "outputs": [],
   "source": [
    "from torch.utils.data import DataLoader\n",
    "\n",
    "from tasks.optic_disc_cup.datasets import RimOneDataset\n",
    "\n",
    "rim_one_sparsity_params: dict = {\n",
    "    \"point_dot_size\": 5,\n",
    "    \"grid_dot_size\": 4,\n",
    "    \"contour_radius_dist\": 4,\n",
    "    \"contour_radius_thick\": 2,\n",
    "    \"skeleton_radius_thick\": 4,\n",
    "    \"region_compactness\": 0.5,\n",
    "}\n",
    "\n",
    "rim_one_data = RimOneDataset(\n",
    "    mode=\"train\",\n",
    "    num_classes=3,\n",
    "    num_shots=10,\n",
    "    resize_to=(256, 256),\n",
    "    split_seed=0,\n",
    "    sparsity_mode=\"point\",\n",
    "    sparsity_value=20,\n",
    "    sparsity_params=rim_one_sparsity_params,\n",
    ")\n",
    "\n",
    "rim_one_loader = DataLoader(\n",
    "    rim_one_data, batch_size=4, num_workers=3, shuffle=False, pin_memory=False\n",
    ")\n"
   ]
  },
  {
   "cell_type": "markdown",
   "id": "7f39821b6814010e",
   "metadata": {
    "collapsed": false
   },
   "source": [
    "## ProtoSeg Prototypes on Different Batch Size\n"
   ]
  },
  {
   "cell_type": "code",
   "execution_count": null,
   "id": "ac1a4cd091e90a75",
   "metadata": {
    "collapsed": false
   },
   "outputs": [],
   "source": [
    "import time\n",
    "\n",
    "import numpy as np\n",
    "import torch\n",
    "from torch.nn import functional\n"
   ]
  },
  {
   "cell_type": "code",
   "execution_count": null,
   "id": "6455bf9c7e4e4bef",
   "metadata": {
    "collapsed": false
   },
   "outputs": [],
   "source": [
    "torch.tensor([1, 2, 3]) - torch.tensor([[1, 2, 3], [4, 5, 6]])\n",
    "\n",
    "aa = torch.tensor([[1, 2, 3]])\n",
    "bb = torch.tensor([[1, 2, 3], [4, 5, 6]])\n",
    "print(aa.shape, bb.shape)\n",
    "print(aa - bb, (aa - bb).shape)"
   ]
  },
  {
   "cell_type": "code",
   "execution_count": null,
   "id": "7b78a5bd751c86ea",
   "metadata": {
    "collapsed": false
   },
   "outputs": [],
   "source": [
    "proto = torch.randn([30, 3, 4]).type(torch.FloatTensor)\n",
    "embed = torch.randn([30, 100, 4]).type(torch.FloatTensor)\n",
    "target = torch.randint(0, 3, [30, 100]).type(torch.LongTensor)"
   ]
  },
  {
   "cell_type": "code",
   "execution_count": null,
   "id": "cadd3d938d162144",
   "metadata": {
    "collapsed": false
   },
   "outputs": [],
   "source": [
    "squared_distances_loss = torch.sum(\n",
    "    (proto.unsqueeze(2) - embed.unsqueeze(1)) ** 2, dim=-1\n",
    ")\n",
    "loss = functional.cross_entropy(-squared_distances_loss, target, ignore_index=-1)\n",
    "\n",
    "squared_distances_pred = torch.sum(\n",
    "    (proto.unsqueeze(1) - embed.unsqueeze(2)) ** 2, dim=-1\n",
    ")\n",
    "pred = torch.argmin(squared_distances_pred, dim=-1)\n",
    "\n",
    "print(squared_distances_loss.shape)\n",
    "print(squared_distances_pred.shape)\n",
    "print(loss)\n",
    "print(pred.shape)\n",
    "print(pred)"
   ]
  },
  {
   "cell_type": "code",
   "execution_count": null,
   "id": "ad0eba18baa08236",
   "metadata": {
    "collapsed": false
   },
   "outputs": [],
   "source": [
    "loss_list = []\n",
    "for i in range(proto.shape[0]):\n",
    "    proto_item = proto[i : i + 1, :, :]\n",
    "    squared_distances_loss = torch.sum(\n",
    "        (proto_item.unsqueeze(2) - embed.unsqueeze(1)) ** 2, dim=-1\n",
    "    )\n",
    "    loss = functional.cross_entropy(-squared_distances_loss, target, ignore_index=-1)\n",
    "    loss_list.append(loss)\n",
    "\n",
    "print(torch.mean(torch.stack(loss_list)))"
   ]
  },
  {
   "cell_type": "code",
   "execution_count": null,
   "id": "a2e4c0b42e89711e",
   "metadata": {
    "collapsed": false
   },
   "outputs": [],
   "source": [
    "lcm = np.lcm(proto.shape[0], embed.shape[0])\n",
    "proto_repeat = proto.repeat(lcm // proto.shape[0], 1, 1)\n",
    "embed_repeat = embed.repeat(lcm // embed.shape[0], 1, 1)\n",
    "target_repeat = target.repeat(lcm // target.shape[0], 1)\n",
    "squared_distances_loss = torch.sum(\n",
    "    (proto_repeat.unsqueeze(2) - embed_repeat.unsqueeze(1)) ** 2, dim=-1\n",
    ")\n",
    "loss = functional.cross_entropy(-squared_distances_loss, target_repeat, ignore_index=-1)\n",
    "print(loss)"
   ]
  },
  {
   "cell_type": "code",
   "execution_count": null,
   "id": "2924cef98fcb4df0",
   "metadata": {
    "collapsed": false
   },
   "outputs": [],
   "source": [
    "batch_diff = proto.shape[0] - embed.shape[0]\n",
    "if batch_diff > 0:\n",
    "    new_embed = torch.cat([embed, embed[:batch_diff]], dim=0)\n",
    "    new_target = torch.cat([target, target[:batch_diff]], dim=0)\n",
    "else:\n",
    "    new_embed = embed[: proto.shape[0]]\n",
    "    new_target = target[: proto.shape[0]]\n",
    "squared_distances_loss = torch.sum(\n",
    "    (proto.unsqueeze(2) - new_embed.unsqueeze(1)) ** 2, dim=-1\n",
    ")\n",
    "loss = functional.cross_entropy(-squared_distances_loss, new_target, ignore_index=-1)\n",
    "print(loss)"
   ]
  },
  {
   "cell_type": "code",
   "execution_count": null,
   "id": "6d54834333a1b8e2",
   "metadata": {
    "collapsed": false
   },
   "outputs": [],
   "source": [
    "loss_list_1 = []\n",
    "total_time_1 = 0\n",
    "loss_list_2 = []\n",
    "total_time_2 = 0\n",
    "loss_list_3 = []\n",
    "total_time_3 = 0\n",
    "loss_list_4 = []\n",
    "total_time_4 = 0\n",
    "for i in range(1000):\n",
    "    proto = torch.randn([30, 3, 4]).type(torch.FloatTensor)\n",
    "    embed = torch.randn([30, 100, 4]).type(torch.FloatTensor)\n",
    "    target = torch.randint(0, 3, [30, 100]).type(torch.LongTensor)\n",
    "\n",
    "    start_1 = time.time()\n",
    "    squared_distances_loss = torch.sum(\n",
    "        (proto.unsqueeze(2) - embed.unsqueeze(1)) ** 2, dim=-1\n",
    "    )\n",
    "    loss = functional.cross_entropy(-squared_distances_loss, target, ignore_index=-1)\n",
    "    loss_list_1.append(loss)\n",
    "    total_time_1 += time.time() - start_1\n",
    "\n",
    "    start_2 = time.time()\n",
    "    loss_list_inner = []\n",
    "    for j in range(proto.shape[0]):\n",
    "        proto_item = proto[j : j + 1, :, :]\n",
    "        squared_distances_loss = torch.sum(\n",
    "            (proto_item.unsqueeze(2) - embed.unsqueeze(1)) ** 2, dim=-1\n",
    "        )\n",
    "        loss = functional.cross_entropy(\n",
    "            -squared_distances_loss, target, ignore_index=-1\n",
    "        )\n",
    "        loss_list_inner.append(loss)\n",
    "    loss_list_2.append(torch.mean(torch.stack(loss_list_inner)))\n",
    "    total_time_2 += time.time() - start_2\n",
    "\n",
    "    start_3 = time.time()\n",
    "    lcm = np.lcm(proto.shape[0], embed.shape[0])\n",
    "    proto_repeat = proto.repeat(lcm // proto.shape[0], 1, 1)\n",
    "    embed_repeat = embed.repeat(lcm // embed.shape[0], 1, 1)\n",
    "    target_repeat = target.repeat(lcm // target.shape[0], 1)\n",
    "    squared_distances_loss = torch.sum(\n",
    "        (proto_repeat.unsqueeze(2) - embed_repeat.unsqueeze(1)) ** 2, dim=-1\n",
    "    )\n",
    "    loss = functional.cross_entropy(\n",
    "        -squared_distances_loss, target_repeat, ignore_index=-1\n",
    "    )\n",
    "    loss_list_3.append(loss)\n",
    "    total_time_3 += time.time() - start_3\n",
    "\n",
    "    start_4 = time.time()\n",
    "    batch_diff = proto.shape[0] - embed.shape[0]\n",
    "    if batch_diff > 0:\n",
    "        new_embed = torch.cat([embed, embed[:batch_diff]], dim=0)\n",
    "        new_target = torch.cat([target, target[:batch_diff]], dim=0)\n",
    "    else:\n",
    "        new_embed = embed[: proto.shape[0]]\n",
    "        new_target = target[: proto.shape[0]]\n",
    "    squared_distances_loss = torch.sum(\n",
    "        (proto.unsqueeze(2) - new_embed.unsqueeze(1)) ** 2, dim=-1\n",
    "    )\n",
    "    loss = functional.cross_entropy(\n",
    "        -squared_distances_loss, new_target, ignore_index=-1\n",
    "    )\n",
    "    loss_list_4.append(loss)\n",
    "    total_time_4 += time.time() - start_4\n",
    "\n",
    "print(torch.mean(torch.stack(loss_list_1)), torch.std(torch.stack(loss_list_1)))\n",
    "print(torch.mean(torch.stack(loss_list_2)), torch.std(torch.stack(loss_list_2)))\n",
    "print(torch.mean(torch.stack(loss_list_3)), torch.std(torch.stack(loss_list_3)))\n",
    "print(torch.mean(torch.stack(loss_list_4)), torch.std(torch.stack(loss_list_4)))\n",
    "print(total_time_1, total_time_2, total_time_3, total_time_4)"
   ]
  },
  {
   "cell_type": "code",
   "execution_count": null,
   "id": "af08d3e2c3b6de08",
   "metadata": {
    "collapsed": false
   },
   "outputs": [],
   "source": [
    "# not working, usage of mean give different distribution\n",
    "\n",
    "embed_mean = torch.mean(embed, dim=0, keepdim=True)\n",
    "new_embed = embed_mean.repeat(30, 1, 1)\n",
    "\n",
    "squared_distances_loss = torch.sum(\n",
    "    (proto.unsqueeze(2) - new_embed.unsqueeze(1)) ** 2, dim=-1\n",
    ")\n",
    "loss = functional.cross_entropy(-squared_distances_loss, target, ignore_index=-1)\n",
    "loss"
   ]
  },
  {
   "cell_type": "markdown",
   "id": "4d5a40f13f3eb3e6",
   "metadata": {
    "collapsed": false
   },
   "source": [
    "## Loss Functions\n"
   ]
  },
  {
   "cell_type": "code",
   "execution_count": null,
   "id": "a0d88407e3efdc8c",
   "metadata": {
    "collapsed": false
   },
   "outputs": [],
   "source": [
    "import time\n",
    "\n",
    "import torch\n",
    "\n",
    "from models.u_net import UNet\n",
    "from tasks.optic_disc_cup.losses import DiscCupLoss\n"
   ]
  },
  {
   "cell_type": "code",
   "execution_count": null,
   "id": "1ef341460c93dc0",
   "metadata": {
    "collapsed": false
   },
   "outputs": [],
   "source": [
    "ce_loss = DiscCupLoss(\"ce\")\n",
    "random_msk = torch.randint(0, 3, [4, 256, 256]).type(torch.LongTensor)\n",
    "random_pred = torch.randn([4, 3, 256, 256]).type(torch.FloatTensor)\n",
    "print(\n",
    "    random_msk.shape,\n",
    "    random_pred.shape,\n",
    "    torch.unique(random_msk, return_counts=True),\n",
    "    random_pred.max(),\n",
    "    random_pred.min(),\n",
    ")\n",
    "\n",
    "ce_loss(random_pred, random_msk)"
   ]
  },
  {
   "cell_type": "code",
   "execution_count": null,
   "id": "a9e25b5fbbf5edbd",
   "metadata": {
    "collapsed": false
   },
   "outputs": [],
   "source": [
    "rim_one_iterator = iter(rim_one_loader)\n",
    "img, msk, sparse_msk, img_filename = next(rim_one_iterator)"
   ]
  },
  {
   "cell_type": "code",
   "execution_count": null,
   "id": "47f60c33ca8c2c38",
   "metadata": {
    "collapsed": false
   },
   "outputs": [],
   "source": [
    "loss, loss_2 = 0.0, 0.0\n",
    "\n",
    "net = UNet(3, 3)\n",
    "pred = net(img)\n",
    "pred = pred\n",
    "\n",
    "net.load_state_dict(torch.load(\"ckpt/v3 RO-DR S PS all/net.pth\"))\n",
    "pred_2 = net(img)\n",
    "pred_2 = pred_2"
   ]
  },
  {
   "cell_type": "code",
   "execution_count": null,
   "id": "b476edc5302ca2b3",
   "metadata": {
    "collapsed": false
   },
   "outputs": [],
   "source": [
    "print(img_filename)\n",
    "print(img.dtype, msk.dtype, sparse_msk.dtype, pred.dtype, pred_2.dtype)\n",
    "print(img.shape, msk.shape, sparse_msk.shape, pred.shape, pred_2.shape)\n",
    "print(\n",
    "    torch.unique(msk, return_counts=True), torch.unique(sparse_msk, return_counts=True)\n",
    ")\n",
    "print(pred.max(), pred.min())\n",
    "print(pred_2.max(), pred_2.min())"
   ]
  },
  {
   "cell_type": "code",
   "execution_count": null,
   "id": "d0feb142ef42e977",
   "metadata": {
    "collapsed": false
   },
   "outputs": [],
   "source": [
    "start_time = time.time()\n",
    "for i in range(1):\n",
    "    ce_loss = DiscCupLoss(\"ce\")\n",
    "    loss = ce_loss(pred, msk)\n",
    "    loss_2 = ce_loss(pred_2, msk)\n",
    "print(time.time() - start_time)\n",
    "print(loss, loss_2)"
   ]
  },
  {
   "cell_type": "code",
   "execution_count": null,
   "id": "9b3868069becdc12",
   "metadata": {
    "collapsed": false
   },
   "outputs": [],
   "source": [
    "start_time = time.time()\n",
    "for i in range(1):\n",
    "    bce_loss = DiscCupLoss(\"bce\")\n",
    "    loss = bce_loss(pred, msk)\n",
    "    loss_2 = bce_loss(pred_2, msk)\n",
    "print(time.time() - start_time)\n",
    "print(loss, loss_2)"
   ]
  },
  {
   "cell_type": "code",
   "execution_count": null,
   "id": "abcd23093f438ea8",
   "metadata": {
    "collapsed": false
   },
   "outputs": [],
   "source": [
    "start_time = time.time()\n",
    "for i in range(1):\n",
    "    iou_loss = DiscCupLoss(\"iou\")\n",
    "    loss = iou_loss(pred, msk)\n",
    "    loss_2 = iou_loss(pred_2, msk)\n",
    "print(time.time() - start_time)\n",
    "print(loss, loss_2)"
   ]
  },
  {
   "cell_type": "code",
   "execution_count": null,
   "id": "906b98157bb02d73",
   "metadata": {
    "collapsed": false
   },
   "outputs": [],
   "source": [
    "start_time = time.time()\n",
    "for i in range(1):\n",
    "    iou_bce_loss = DiscCupLoss(\"iou_bce\")\n",
    "    loss = iou_bce_loss(pred, msk)\n",
    "    loss_2 = iou_bce_loss(pred_2, msk)\n",
    "print(time.time() - start_time)\n",
    "print(loss, loss_2)"
   ]
  },
  {
   "cell_type": "markdown",
   "id": "f6da130e54b4ab55",
   "metadata": {
    "collapsed": false
   },
   "source": [
    "## GuidedNet Prototypes with More Efficient Calc\n"
   ]
  },
  {
   "cell_type": "code",
   "execution_count": null,
   "id": "d253b762a18226ba",
   "metadata": {
    "collapsed": false
   },
   "outputs": [],
   "source": [
    "import torch\n",
    "from torch import nn\n",
    "\n",
    "from models.u_net import UNet\n"
   ]
  },
  {
   "cell_type": "code",
   "execution_count": null,
   "id": "f7d433b5a5c7edc2",
   "metadata": {
    "collapsed": false
   },
   "outputs": [],
   "source": [
    "rim_one_iterator = iter(rim_one_loader)\n",
    "img, msk, sparse_msk, img_filename = next(rim_one_iterator)\n",
    "img = img.cuda()\n",
    "msk = msk.cuda()\n",
    "sparse_msk = sparse_msk.cuda()"
   ]
  },
  {
   "cell_type": "code",
   "execution_count": null,
   "id": "28af540c883e259b",
   "metadata": {
    "collapsed": false
   },
   "outputs": [],
   "source": [
    "m_img = torch.vstack([img, img])\n",
    "m_sparse_msk = torch.vstack([sparse_msk, sparse_msk])"
   ]
  },
  {
   "cell_type": "code",
   "execution_count": null,
   "id": "35de4017422f4ebf",
   "metadata": {
    "collapsed": false
   },
   "outputs": [],
   "source": [
    "net_image = UNet(3, 8, prototype=True).cuda()\n",
    "\n",
    "net_mask = UNet(1, 8, prototype=True).cuda()\n",
    "\n",
    "net_head = nn.Sequential(\n",
    "    nn.Conv2d(32 * 2, 32 * 1, kernel_size=3, padding=1),\n",
    "    nn.ReLU(),\n",
    "    nn.Conv2d(32 * 1, 2, kernel_size=1),\n",
    ").cuda()\n",
    "\n",
    "nn.init.ones_(net_head[0].weight)\n",
    "nn.init.ones_(net_head[-1].weight)\n",
    "\n",
    "net_merge = nn.AdaptiveAvgPool2d((1, 1)).cuda()"
   ]
  },
  {
   "cell_type": "code",
   "execution_count": null,
   "id": "e534e578c4b68a5a",
   "metadata": {
    "collapsed": false
   },
   "outputs": [],
   "source": [
    "def one_hot_masks(ori_mask, num_classes):\n",
    "    c_masks = []\n",
    "    for c in range(num_classes):\n",
    "        c_mask = torch.zeros_like(ori_mask).float()\n",
    "        c_mask[ori_mask == c] = 1\n",
    "        c_mask.unsqueeze_(1)\n",
    "        c_masks.append(c_mask)\n",
    "    return c_masks"
   ]
  },
  {
   "cell_type": "code",
   "execution_count": null,
   "id": "d980e60a11482229",
   "metadata": {
    "collapsed": false
   },
   "outputs": [],
   "source": [
    "m_sparse_msk_list = one_hot_masks(m_sparse_msk, 3)\n",
    "m_img_embed = net_image(m_img)\n",
    "m_sparse_msk_embed_list = [net_mask(msk) for msk in m_sparse_msk_list]"
   ]
  },
  {
   "cell_type": "code",
   "execution_count": null,
   "id": "1f6f46c3ea76e630",
   "metadata": {
    "collapsed": false
   },
   "outputs": [],
   "source": [
    "print(img.shape, msk.shape, sparse_msk.shape)\n",
    "print(img.dtype, msk.dtype, sparse_msk.dtype)\n",
    "print(m_img.shape, m_sparse_msk.shape, m_sparse_msk_list[0].shape)\n",
    "print(m_img_embed.shape, m_sparse_msk_embed_list[0].shape)\n",
    "print(m_img_embed.dtype, m_sparse_msk_embed_list[0].dtype)"
   ]
  },
  {
   "cell_type": "code",
   "execution_count": null,
   "id": "f5a9a9b5f465dc32",
   "metadata": {
    "collapsed": false
   },
   "outputs": [],
   "source": [
    "no_net_mask = True\n",
    "\n",
    "if no_net_mask:\n",
    "    combined_mask = torch.zeros_like(m_sparse_msk_list[0])\n",
    "    for i, mask in enumerate(m_sparse_msk_list):\n",
    "        combined_mask += mask\n",
    "    combined_embeddings = m_img_embed * combined_mask\n",
    "else:\n",
    "    combined_embeddings = torch.clone(m_img_embed)\n",
    "    for mask_embedding in m_sparse_msk_embed_list:\n",
    "        combined_embeddings *= mask_embedding\n",
    "\n",
    "merged_embeddings = net_merge(combined_embeddings)\n",
    "prototypes = torch.mean(merged_embeddings, dim=0, keepdim=True)\n",
    "tiled_prototypes = torch.tile(prototypes, (1, 1, 256, 256))\n",
    "\n",
    "print(\n",
    "    combined_embeddings.shape,\n",
    "    merged_embeddings.shape,\n",
    "    prototypes.shape,\n",
    "    tiled_prototypes.shape,\n",
    ")\n",
    "print(\n",
    "    combined_embeddings.dtype,\n",
    "    merged_embeddings.dtype,\n",
    "    prototypes.dtype,\n",
    "    tiled_prototypes.dtype,\n",
    ")"
   ]
  },
  {
   "cell_type": "markdown",
   "id": "dba89ff87cbc03e0",
   "metadata": {
    "collapsed": false
   },
   "source": [
    "# Other\n"
   ]
  }
 ],
 "metadata": {
  "kernelspec": {
   "display_name": "Python 3",
   "language": "python",
   "name": "python3"
  },
  "language_info": {
   "codemirror_mode": {
    "name": "ipython",
    "version": 3
   },
   "file_extension": ".py",
   "mimetype": "text/x-python",
   "name": "python",
   "nbconvert_exporter": "python",
   "pygments_lexer": "ipython3",
   "version": "3.10.13"
  }
 },
 "nbformat": 4,
 "nbformat_minor": 5
}
