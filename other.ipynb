{
 "cells": [
  {
   "cell_type": "markdown",
   "id": "6d5c718deb8cba1",
   "metadata": {
    "collapsed": false
   },
   "source": [
    "# Sparsification"
   ]
  },
  {
   "cell_type": "code",
   "execution_count": null,
   "outputs": [],
   "source": [
    "from data.types import SparsityValue\n",
    "from tasks.optic_disc_cup.datasets import RimOneDataset\n",
    "\n",
    "rim_one_sparsity_params: dict = {\n",
    "    'point_dot_size': 5,\n",
    "    'grid_dot_size': 4,\n",
    "    'contour_radius_dist': 4,\n",
    "    'contour_radius_thick': 2,\n",
    "    'skeleton_radius_thick': 4,\n",
    "    'region_compactness': 0.5\n",
    "}\n",
    "\n",
    "rim_one_data = RimOneDataset(\n",
    "    mode='train',\n",
    "    num_classes=3,\n",
    "    num_shots=5,\n",
    "    resize_to=(256, 256),\n",
    "    split_seed=0,\n",
    "    sparsity_params=rim_one_sparsity_params\n",
    ")\n",
    "\n",
    "sparsity_values: dict[str, SparsityValue] = {\n",
    "    'point': 10,\n",
    "    'grid': 20,\n",
    "    'contour': 1,\n",
    "    'skeleton': 1,\n",
    "    'region': 1,\n",
    "    'point_old': 10,\n",
    "    'grid_old': 20\n",
    "}\n",
    "image, mask, sparse_masks, image_filename = rim_one_data.get_data_with_sparse_all(0, sparsity_values)"
   ],
   "metadata": {
    "collapsed": false
   },
   "id": "cc2ac2e85a37c1a6"
  },
  {
   "cell_type": "code",
   "execution_count": null,
   "id": "df2a96919048a892",
   "metadata": {
    "collapsed": false
   },
   "outputs": [],
   "source": [
    "import numpy as np\n",
    "import matplotlib.pyplot as plt\n",
    "from skimage import feature, morphology\n",
    "\n",
    "edge_mask = feature.canny(mask.astype(np.float64))\n",
    "edge_mask_dilated = morphology.binary_dilation(edge_mask, footprint=morphology.disk(2))\n",
    "\n",
    "print(np.unique(mask), np.unique(edge_mask), np.unique(edge_mask_dilated))\n",
    "plt.imshow(edge_mask_dilated)"
   ]
  },
  {
   "cell_type": "markdown",
   "id": "dce5d770586f88d9",
   "metadata": {
    "collapsed": false
   },
   "source": [
    "# File Processing"
   ]
  },
  {
   "cell_type": "markdown",
   "id": "817f7d1cf02635fb",
   "metadata": {
    "collapsed": false
   },
   "source": [
    "## Mixed Print and Log"
   ]
  },
  {
   "cell_type": "code",
   "execution_count": null,
   "id": "c8772d11eda41c10",
   "metadata": {
    "collapsed": false
   },
   "outputs": [],
   "source": [
    "# log_file_ori = open('outputs/protoseg_long_rimone_to_drishti/learn_log_ori.txt', 'r')\n",
    "# log_file = open('outputs/protoseg_long_rimone_to_drishti/learn_log.txt', 'w')\n",
    "# \n",
    "# for i in range(1, 4900):\n",
    "#     line = log_file_ori.readline()\n",
    "#     \n",
    "#     if not line.startswith('INFO'):\n",
    "#         continue\n",
    "#     \n",
    "#     log_file.write(line.removeprefix('INFO:root:'))\n",
    "# \n",
    "# log_file_ori.close()\n",
    "# log_file.close()"
   ]
  },
  {
   "cell_type": "markdown",
   "id": "d7c155b951815154",
   "metadata": {
    "collapsed": false
   },
   "source": [
    "## Exp Name Update"
   ]
  },
  {
   "cell_type": "code",
   "execution_count": 1,
   "id": "6b0d5007ae7264ed",
   "metadata": {
    "collapsed": false,
    "ExecuteTime": {
     "end_time": "2023-12-30T06:24:57.605659900Z",
     "start_time": "2023-12-30T06:24:47.436553600Z"
    }
   },
   "outputs": [],
   "source": [
    "from config.config_type import AllConfig\n",
    "import json, os\n",
    "\n",
    "def change_exp_name(old_name: str, new_name: str, output_path: str, checkpoint_path: str, config_filename: str) -> None:\n",
    "    checkpoint_old_path = os.path.join(checkpoint_path, old_name)\n",
    "    if os.path.exists(checkpoint_old_path):\n",
    "        os.rename(checkpoint_old_path, os.path.join(checkpoint_path, new_name))\n",
    "    \n",
    "    os.rename(os.path.join(output_path, old_name), os.path.join(output_path, new_name))\n",
    "    \n",
    "    config_filepath = os.path.join(output_path, new_name, config_filename)\n",
    "    if not os.path.exists(config_filepath):\n",
    "        return\n",
    "    \n",
    "    with open(config_filepath, 'r') as config_file:\n",
    "        config: AllConfig = json.load(config_file)\n",
    "    config['learn']['exp_name'] = new_name\n",
    "    with open(config_filepath, 'w') as config_file:\n",
    "        json.dump(config, config_file, indent=4)"
   ]
  },
  {
   "cell_type": "code",
   "execution_count": 2,
   "outputs": [],
   "source": [
    "change_exp_name('', '', 'outputs', 'ckpt', 'config.json')"
   ],
   "metadata": {
    "collapsed": false,
    "ExecuteTime": {
     "end_time": "2023-12-30T06:25:01.898039500Z",
     "start_time": "2023-12-30T06:25:01.848962900Z"
    }
   },
   "id": "a5d7802ab23ff11e"
  },
  {
   "cell_type": "code",
   "execution_count": 45,
   "id": "e30e735b7ae7d03",
   "metadata": {
    "collapsed": false,
    "ExecuteTime": {
     "end_time": "2023-12-29T04:15:00.079614300Z",
     "start_time": "2023-12-29T04:15:00.017120700Z"
    }
   },
   "outputs": [],
   "source": [
    "for exp_name in filter(lambda x: x.startswith(''), os.listdir('outputs')):\n",
    "    change_exp_name(exp_name, exp_name.replace('', ''), 'outputs', 'ckpt', 'config.json')"
   ]
  },
  {
   "cell_type": "markdown",
   "source": [
    "## Prediction Image Rename"
   ],
   "metadata": {
    "collapsed": false
   },
   "id": "d2ac14ea6cbf48a5"
  },
  {
   "cell_type": "code",
   "execution_count": null,
   "outputs": [],
   "source": [
    "import os\n",
    "\n",
    "for exp_name in os.listdir('outputs'):\n",
    "    pred_filenames = list(filter(lambda x: x.startswith('('), os.listdir(os.path.join('outputs', exp_name, 'predictions'))))\n",
    "    for pred_filename in pred_filenames:\n",
    "        new_pred_filename = pred_filename.replace('(', '').replace(')', '').replace(',', '').replace(\"'\", '')\n",
    "        os.rename(\n",
    "            os.path.join('outputs', exp_name, 'predictions', pred_filename), \n",
    "            os.path.join('outputs', exp_name, 'predictions', new_pred_filename)\n",
    "        )"
   ],
   "metadata": {
    "collapsed": false
   },
   "id": "826950b0edbaa74c"
  },
  {
   "cell_type": "markdown",
   "source": [
    "## Add Column to CSV"
   ],
   "metadata": {
    "collapsed": false
   },
   "id": "34400bacdc6c1aa"
  },
  {
   "cell_type": "code",
   "execution_count": 8,
   "outputs": [],
   "source": [
    "import os\n",
    "import pandas as pd"
   ],
   "metadata": {
    "collapsed": false,
    "ExecuteTime": {
     "end_time": "2023-12-28T23:20:05.445192400Z",
     "start_time": "2023-12-28T23:20:04.797090400Z"
    }
   },
   "id": "4d066a33ec03746d"
  },
  {
   "cell_type": "code",
   "execution_count": 9,
   "outputs": [
    {
     "ename": "FileNotFoundError",
     "evalue": "[Errno 2] No such file or directory: 'dummy.csv'",
     "output_type": "error",
     "traceback": [
      "\u001B[1;31m---------------------------------------------------------------------------\u001B[0m",
      "\u001B[1;31mFileNotFoundError\u001B[0m                         Traceback (most recent call last)",
      "Cell \u001B[1;32mIn[9], line 13\u001B[0m\n\u001B[0;32m      1\u001B[0m csv_path \u001B[38;5;241m=\u001B[39m \u001B[38;5;124m'\u001B[39m\u001B[38;5;124mdummy.csv\u001B[39m\u001B[38;5;124m'\u001B[39m\n\u001B[0;32m      3\u001B[0m sparsity_dict \u001B[38;5;241m=\u001B[39m {\n\u001B[0;32m      4\u001B[0m     \u001B[38;5;124m'\u001B[39m\u001B[38;5;124mpoint\u001B[39m\u001B[38;5;124m'\u001B[39m: [\u001B[38;5;241m10\u001B[39m],\n\u001B[0;32m      5\u001B[0m     \u001B[38;5;124m'\u001B[39m\u001B[38;5;124mgrid\u001B[39m\u001B[38;5;124m'\u001B[39m: [\u001B[38;5;241m25\u001B[39m],\n\u001B[1;32m   (...)\u001B[0m\n\u001B[0;32m     10\u001B[0m     \u001B[38;5;124m'\u001B[39m\u001B[38;5;124mgrid_old\u001B[39m\u001B[38;5;124m'\u001B[39m: [\u001B[38;5;241m25\u001B[39m]\n\u001B[0;32m     11\u001B[0m }\n\u001B[1;32m---> 13\u001B[0m df \u001B[38;5;241m=\u001B[39m \u001B[43mpd\u001B[49m\u001B[38;5;241;43m.\u001B[39;49m\u001B[43mread_csv\u001B[49m\u001B[43m(\u001B[49m\u001B[43mcsv_path\u001B[49m\u001B[43m)\u001B[49m\n\u001B[0;32m     14\u001B[0m df\u001B[38;5;241m.\u001B[39minsert(\u001B[38;5;241m1\u001B[39m, \u001B[38;5;124m'\u001B[39m\u001B[38;5;124mn_shots\u001B[39m\u001B[38;5;124m'\u001B[39m, df[\u001B[38;5;124m'\u001B[39m\u001B[38;5;124msparsity_mode\u001B[39m\u001B[38;5;124m'\u001B[39m]\u001B[38;5;241m.\u001B[39mapply(\u001B[38;5;28;01mlambda\u001B[39;00m x: \u001B[38;5;241m10\u001B[39m))\n\u001B[0;32m     15\u001B[0m df\u001B[38;5;241m.\u001B[39minsert(\u001B[38;5;241m3\u001B[39m, \u001B[38;5;124m'\u001B[39m\u001B[38;5;124msparsity_value\u001B[39m\u001B[38;5;124m'\u001B[39m, df[\u001B[38;5;124m'\u001B[39m\u001B[38;5;124msparsity_mode\u001B[39m\u001B[38;5;124m'\u001B[39m]\u001B[38;5;241m.\u001B[39mapply(\u001B[38;5;28;01mlambda\u001B[39;00m x: sparsity_dict[x][\u001B[38;5;241m0\u001B[39m]))\n",
      "File \u001B[1;32m~\\anaconda3\\lib\\site-packages\\pandas\\util\\_decorators.py:211\u001B[0m, in \u001B[0;36mdeprecate_kwarg.<locals>._deprecate_kwarg.<locals>.wrapper\u001B[1;34m(*args, **kwargs)\u001B[0m\n\u001B[0;32m    209\u001B[0m     \u001B[38;5;28;01melse\u001B[39;00m:\n\u001B[0;32m    210\u001B[0m         kwargs[new_arg_name] \u001B[38;5;241m=\u001B[39m new_arg_value\n\u001B[1;32m--> 211\u001B[0m \u001B[38;5;28;01mreturn\u001B[39;00m func(\u001B[38;5;241m*\u001B[39margs, \u001B[38;5;241m*\u001B[39m\u001B[38;5;241m*\u001B[39mkwargs)\n",
      "File \u001B[1;32m~\\anaconda3\\lib\\site-packages\\pandas\\util\\_decorators.py:331\u001B[0m, in \u001B[0;36mdeprecate_nonkeyword_arguments.<locals>.decorate.<locals>.wrapper\u001B[1;34m(*args, **kwargs)\u001B[0m\n\u001B[0;32m    325\u001B[0m \u001B[38;5;28;01mif\u001B[39;00m \u001B[38;5;28mlen\u001B[39m(args) \u001B[38;5;241m>\u001B[39m num_allow_args:\n\u001B[0;32m    326\u001B[0m     warnings\u001B[38;5;241m.\u001B[39mwarn(\n\u001B[0;32m    327\u001B[0m         msg\u001B[38;5;241m.\u001B[39mformat(arguments\u001B[38;5;241m=\u001B[39m_format_argument_list(allow_args)),\n\u001B[0;32m    328\u001B[0m         \u001B[38;5;167;01mFutureWarning\u001B[39;00m,\n\u001B[0;32m    329\u001B[0m         stacklevel\u001B[38;5;241m=\u001B[39mfind_stack_level(),\n\u001B[0;32m    330\u001B[0m     )\n\u001B[1;32m--> 331\u001B[0m \u001B[38;5;28;01mreturn\u001B[39;00m func(\u001B[38;5;241m*\u001B[39margs, \u001B[38;5;241m*\u001B[39m\u001B[38;5;241m*\u001B[39mkwargs)\n",
      "File \u001B[1;32m~\\anaconda3\\lib\\site-packages\\pandas\\io\\parsers\\readers.py:950\u001B[0m, in \u001B[0;36mread_csv\u001B[1;34m(filepath_or_buffer, sep, delimiter, header, names, index_col, usecols, squeeze, prefix, mangle_dupe_cols, dtype, engine, converters, true_values, false_values, skipinitialspace, skiprows, skipfooter, nrows, na_values, keep_default_na, na_filter, verbose, skip_blank_lines, parse_dates, infer_datetime_format, keep_date_col, date_parser, dayfirst, cache_dates, iterator, chunksize, compression, thousands, decimal, lineterminator, quotechar, quoting, doublequote, escapechar, comment, encoding, encoding_errors, dialect, error_bad_lines, warn_bad_lines, on_bad_lines, delim_whitespace, low_memory, memory_map, float_precision, storage_options)\u001B[0m\n\u001B[0;32m    935\u001B[0m kwds_defaults \u001B[38;5;241m=\u001B[39m _refine_defaults_read(\n\u001B[0;32m    936\u001B[0m     dialect,\n\u001B[0;32m    937\u001B[0m     delimiter,\n\u001B[1;32m   (...)\u001B[0m\n\u001B[0;32m    946\u001B[0m     defaults\u001B[38;5;241m=\u001B[39m{\u001B[38;5;124m\"\u001B[39m\u001B[38;5;124mdelimiter\u001B[39m\u001B[38;5;124m\"\u001B[39m: \u001B[38;5;124m\"\u001B[39m\u001B[38;5;124m,\u001B[39m\u001B[38;5;124m\"\u001B[39m},\n\u001B[0;32m    947\u001B[0m )\n\u001B[0;32m    948\u001B[0m kwds\u001B[38;5;241m.\u001B[39mupdate(kwds_defaults)\n\u001B[1;32m--> 950\u001B[0m \u001B[38;5;28;01mreturn\u001B[39;00m \u001B[43m_read\u001B[49m\u001B[43m(\u001B[49m\u001B[43mfilepath_or_buffer\u001B[49m\u001B[43m,\u001B[49m\u001B[43m \u001B[49m\u001B[43mkwds\u001B[49m\u001B[43m)\u001B[49m\n",
      "File \u001B[1;32m~\\anaconda3\\lib\\site-packages\\pandas\\io\\parsers\\readers.py:605\u001B[0m, in \u001B[0;36m_read\u001B[1;34m(filepath_or_buffer, kwds)\u001B[0m\n\u001B[0;32m    602\u001B[0m _validate_names(kwds\u001B[38;5;241m.\u001B[39mget(\u001B[38;5;124m\"\u001B[39m\u001B[38;5;124mnames\u001B[39m\u001B[38;5;124m\"\u001B[39m, \u001B[38;5;28;01mNone\u001B[39;00m))\n\u001B[0;32m    604\u001B[0m \u001B[38;5;66;03m# Create the parser.\u001B[39;00m\n\u001B[1;32m--> 605\u001B[0m parser \u001B[38;5;241m=\u001B[39m TextFileReader(filepath_or_buffer, \u001B[38;5;241m*\u001B[39m\u001B[38;5;241m*\u001B[39mkwds)\n\u001B[0;32m    607\u001B[0m \u001B[38;5;28;01mif\u001B[39;00m chunksize \u001B[38;5;129;01mor\u001B[39;00m iterator:\n\u001B[0;32m    608\u001B[0m     \u001B[38;5;28;01mreturn\u001B[39;00m parser\n",
      "File \u001B[1;32m~\\anaconda3\\lib\\site-packages\\pandas\\io\\parsers\\readers.py:1442\u001B[0m, in \u001B[0;36mTextFileReader.__init__\u001B[1;34m(self, f, engine, **kwds)\u001B[0m\n\u001B[0;32m   1439\u001B[0m     \u001B[38;5;28mself\u001B[39m\u001B[38;5;241m.\u001B[39moptions[\u001B[38;5;124m\"\u001B[39m\u001B[38;5;124mhas_index_names\u001B[39m\u001B[38;5;124m\"\u001B[39m] \u001B[38;5;241m=\u001B[39m kwds[\u001B[38;5;124m\"\u001B[39m\u001B[38;5;124mhas_index_names\u001B[39m\u001B[38;5;124m\"\u001B[39m]\n\u001B[0;32m   1441\u001B[0m \u001B[38;5;28mself\u001B[39m\u001B[38;5;241m.\u001B[39mhandles: IOHandles \u001B[38;5;241m|\u001B[39m \u001B[38;5;28;01mNone\u001B[39;00m \u001B[38;5;241m=\u001B[39m \u001B[38;5;28;01mNone\u001B[39;00m\n\u001B[1;32m-> 1442\u001B[0m \u001B[38;5;28mself\u001B[39m\u001B[38;5;241m.\u001B[39m_engine \u001B[38;5;241m=\u001B[39m \u001B[38;5;28;43mself\u001B[39;49m\u001B[38;5;241;43m.\u001B[39;49m\u001B[43m_make_engine\u001B[49m\u001B[43m(\u001B[49m\u001B[43mf\u001B[49m\u001B[43m,\u001B[49m\u001B[43m \u001B[49m\u001B[38;5;28;43mself\u001B[39;49m\u001B[38;5;241;43m.\u001B[39;49m\u001B[43mengine\u001B[49m\u001B[43m)\u001B[49m\n",
      "File \u001B[1;32m~\\anaconda3\\lib\\site-packages\\pandas\\io\\parsers\\readers.py:1735\u001B[0m, in \u001B[0;36mTextFileReader._make_engine\u001B[1;34m(self, f, engine)\u001B[0m\n\u001B[0;32m   1733\u001B[0m     \u001B[38;5;28;01mif\u001B[39;00m \u001B[38;5;124m\"\u001B[39m\u001B[38;5;124mb\u001B[39m\u001B[38;5;124m\"\u001B[39m \u001B[38;5;129;01mnot\u001B[39;00m \u001B[38;5;129;01min\u001B[39;00m mode:\n\u001B[0;32m   1734\u001B[0m         mode \u001B[38;5;241m+\u001B[39m\u001B[38;5;241m=\u001B[39m \u001B[38;5;124m\"\u001B[39m\u001B[38;5;124mb\u001B[39m\u001B[38;5;124m\"\u001B[39m\n\u001B[1;32m-> 1735\u001B[0m \u001B[38;5;28mself\u001B[39m\u001B[38;5;241m.\u001B[39mhandles \u001B[38;5;241m=\u001B[39m \u001B[43mget_handle\u001B[49m\u001B[43m(\u001B[49m\n\u001B[0;32m   1736\u001B[0m \u001B[43m    \u001B[49m\u001B[43mf\u001B[49m\u001B[43m,\u001B[49m\n\u001B[0;32m   1737\u001B[0m \u001B[43m    \u001B[49m\u001B[43mmode\u001B[49m\u001B[43m,\u001B[49m\n\u001B[0;32m   1738\u001B[0m \u001B[43m    \u001B[49m\u001B[43mencoding\u001B[49m\u001B[38;5;241;43m=\u001B[39;49m\u001B[38;5;28;43mself\u001B[39;49m\u001B[38;5;241;43m.\u001B[39;49m\u001B[43moptions\u001B[49m\u001B[38;5;241;43m.\u001B[39;49m\u001B[43mget\u001B[49m\u001B[43m(\u001B[49m\u001B[38;5;124;43m\"\u001B[39;49m\u001B[38;5;124;43mencoding\u001B[39;49m\u001B[38;5;124;43m\"\u001B[39;49m\u001B[43m,\u001B[49m\u001B[43m \u001B[49m\u001B[38;5;28;43;01mNone\u001B[39;49;00m\u001B[43m)\u001B[49m\u001B[43m,\u001B[49m\n\u001B[0;32m   1739\u001B[0m \u001B[43m    \u001B[49m\u001B[43mcompression\u001B[49m\u001B[38;5;241;43m=\u001B[39;49m\u001B[38;5;28;43mself\u001B[39;49m\u001B[38;5;241;43m.\u001B[39;49m\u001B[43moptions\u001B[49m\u001B[38;5;241;43m.\u001B[39;49m\u001B[43mget\u001B[49m\u001B[43m(\u001B[49m\u001B[38;5;124;43m\"\u001B[39;49m\u001B[38;5;124;43mcompression\u001B[39;49m\u001B[38;5;124;43m\"\u001B[39;49m\u001B[43m,\u001B[49m\u001B[43m \u001B[49m\u001B[38;5;28;43;01mNone\u001B[39;49;00m\u001B[43m)\u001B[49m\u001B[43m,\u001B[49m\n\u001B[0;32m   1740\u001B[0m \u001B[43m    \u001B[49m\u001B[43mmemory_map\u001B[49m\u001B[38;5;241;43m=\u001B[39;49m\u001B[38;5;28;43mself\u001B[39;49m\u001B[38;5;241;43m.\u001B[39;49m\u001B[43moptions\u001B[49m\u001B[38;5;241;43m.\u001B[39;49m\u001B[43mget\u001B[49m\u001B[43m(\u001B[49m\u001B[38;5;124;43m\"\u001B[39;49m\u001B[38;5;124;43mmemory_map\u001B[39;49m\u001B[38;5;124;43m\"\u001B[39;49m\u001B[43m,\u001B[49m\u001B[43m \u001B[49m\u001B[38;5;28;43;01mFalse\u001B[39;49;00m\u001B[43m)\u001B[49m\u001B[43m,\u001B[49m\n\u001B[0;32m   1741\u001B[0m \u001B[43m    \u001B[49m\u001B[43mis_text\u001B[49m\u001B[38;5;241;43m=\u001B[39;49m\u001B[43mis_text\u001B[49m\u001B[43m,\u001B[49m\n\u001B[0;32m   1742\u001B[0m \u001B[43m    \u001B[49m\u001B[43merrors\u001B[49m\u001B[38;5;241;43m=\u001B[39;49m\u001B[38;5;28;43mself\u001B[39;49m\u001B[38;5;241;43m.\u001B[39;49m\u001B[43moptions\u001B[49m\u001B[38;5;241;43m.\u001B[39;49m\u001B[43mget\u001B[49m\u001B[43m(\u001B[49m\u001B[38;5;124;43m\"\u001B[39;49m\u001B[38;5;124;43mencoding_errors\u001B[39;49m\u001B[38;5;124;43m\"\u001B[39;49m\u001B[43m,\u001B[49m\u001B[43m \u001B[49m\u001B[38;5;124;43m\"\u001B[39;49m\u001B[38;5;124;43mstrict\u001B[39;49m\u001B[38;5;124;43m\"\u001B[39;49m\u001B[43m)\u001B[49m\u001B[43m,\u001B[49m\n\u001B[0;32m   1743\u001B[0m \u001B[43m    \u001B[49m\u001B[43mstorage_options\u001B[49m\u001B[38;5;241;43m=\u001B[39;49m\u001B[38;5;28;43mself\u001B[39;49m\u001B[38;5;241;43m.\u001B[39;49m\u001B[43moptions\u001B[49m\u001B[38;5;241;43m.\u001B[39;49m\u001B[43mget\u001B[49m\u001B[43m(\u001B[49m\u001B[38;5;124;43m\"\u001B[39;49m\u001B[38;5;124;43mstorage_options\u001B[39;49m\u001B[38;5;124;43m\"\u001B[39;49m\u001B[43m,\u001B[49m\u001B[43m \u001B[49m\u001B[38;5;28;43;01mNone\u001B[39;49;00m\u001B[43m)\u001B[49m\u001B[43m,\u001B[49m\n\u001B[0;32m   1744\u001B[0m \u001B[43m\u001B[49m\u001B[43m)\u001B[49m\n\u001B[0;32m   1745\u001B[0m \u001B[38;5;28;01massert\u001B[39;00m \u001B[38;5;28mself\u001B[39m\u001B[38;5;241m.\u001B[39mhandles \u001B[38;5;129;01mis\u001B[39;00m \u001B[38;5;129;01mnot\u001B[39;00m \u001B[38;5;28;01mNone\u001B[39;00m\n\u001B[0;32m   1746\u001B[0m f \u001B[38;5;241m=\u001B[39m \u001B[38;5;28mself\u001B[39m\u001B[38;5;241m.\u001B[39mhandles\u001B[38;5;241m.\u001B[39mhandle\n",
      "File \u001B[1;32m~\\anaconda3\\lib\\site-packages\\pandas\\io\\common.py:856\u001B[0m, in \u001B[0;36mget_handle\u001B[1;34m(path_or_buf, mode, encoding, compression, memory_map, is_text, errors, storage_options)\u001B[0m\n\u001B[0;32m    851\u001B[0m \u001B[38;5;28;01melif\u001B[39;00m \u001B[38;5;28misinstance\u001B[39m(handle, \u001B[38;5;28mstr\u001B[39m):\n\u001B[0;32m    852\u001B[0m     \u001B[38;5;66;03m# Check whether the filename is to be opened in binary mode.\u001B[39;00m\n\u001B[0;32m    853\u001B[0m     \u001B[38;5;66;03m# Binary mode does not support 'encoding' and 'newline'.\u001B[39;00m\n\u001B[0;32m    854\u001B[0m     \u001B[38;5;28;01mif\u001B[39;00m ioargs\u001B[38;5;241m.\u001B[39mencoding \u001B[38;5;129;01mand\u001B[39;00m \u001B[38;5;124m\"\u001B[39m\u001B[38;5;124mb\u001B[39m\u001B[38;5;124m\"\u001B[39m \u001B[38;5;129;01mnot\u001B[39;00m \u001B[38;5;129;01min\u001B[39;00m ioargs\u001B[38;5;241m.\u001B[39mmode:\n\u001B[0;32m    855\u001B[0m         \u001B[38;5;66;03m# Encoding\u001B[39;00m\n\u001B[1;32m--> 856\u001B[0m         handle \u001B[38;5;241m=\u001B[39m \u001B[38;5;28;43mopen\u001B[39;49m\u001B[43m(\u001B[49m\n\u001B[0;32m    857\u001B[0m \u001B[43m            \u001B[49m\u001B[43mhandle\u001B[49m\u001B[43m,\u001B[49m\n\u001B[0;32m    858\u001B[0m \u001B[43m            \u001B[49m\u001B[43mioargs\u001B[49m\u001B[38;5;241;43m.\u001B[39;49m\u001B[43mmode\u001B[49m\u001B[43m,\u001B[49m\n\u001B[0;32m    859\u001B[0m \u001B[43m            \u001B[49m\u001B[43mencoding\u001B[49m\u001B[38;5;241;43m=\u001B[39;49m\u001B[43mioargs\u001B[49m\u001B[38;5;241;43m.\u001B[39;49m\u001B[43mencoding\u001B[49m\u001B[43m,\u001B[49m\n\u001B[0;32m    860\u001B[0m \u001B[43m            \u001B[49m\u001B[43merrors\u001B[49m\u001B[38;5;241;43m=\u001B[39;49m\u001B[43merrors\u001B[49m\u001B[43m,\u001B[49m\n\u001B[0;32m    861\u001B[0m \u001B[43m            \u001B[49m\u001B[43mnewline\u001B[49m\u001B[38;5;241;43m=\u001B[39;49m\u001B[38;5;124;43m\"\u001B[39;49m\u001B[38;5;124;43m\"\u001B[39;49m\u001B[43m,\u001B[49m\n\u001B[0;32m    862\u001B[0m \u001B[43m        \u001B[49m\u001B[43m)\u001B[49m\n\u001B[0;32m    863\u001B[0m     \u001B[38;5;28;01melse\u001B[39;00m:\n\u001B[0;32m    864\u001B[0m         \u001B[38;5;66;03m# Binary mode\u001B[39;00m\n\u001B[0;32m    865\u001B[0m         handle \u001B[38;5;241m=\u001B[39m \u001B[38;5;28mopen\u001B[39m(handle, ioargs\u001B[38;5;241m.\u001B[39mmode)\n",
      "\u001B[1;31mFileNotFoundError\u001B[0m: [Errno 2] No such file or directory: 'dummy.csv'"
     ]
    }
   ],
   "source": [
    "csv_path = 'dummy.csv'\n",
    "\n",
    "sparsity_dict = {\n",
    "    'point': [10],\n",
    "    'grid': [25],\n",
    "    'contour': [1],\n",
    "    'skeleton': [1],\n",
    "    'region': [1],\n",
    "    'point_old': [10],\n",
    "    'grid_old': [25]\n",
    "}\n",
    "\n",
    "df = pd.read_csv(csv_path)\n",
    "df.insert(1, 'n_shots', df['sparsity_mode'].apply(lambda x: 10))\n",
    "df.insert(3, 'sparsity_value', df['sparsity_mode'].apply(lambda x: sparsity_dict[x][0]))\n",
    "df.to_csv(csv_path, index=False)"
   ],
   "metadata": {
    "collapsed": false,
    "ExecuteTime": {
     "end_time": "2023-12-28T23:20:22.230993400Z",
     "start_time": "2023-12-28T23:20:20.030727Z"
    }
   },
   "id": "3b40130a5710920a"
  },
  {
   "cell_type": "code",
   "execution_count": 12,
   "outputs": [],
   "source": [
    "for exp_name in list(filter(lambda x: x.startswith('PS') and 'v3' in x and not 'all' in x, os.listdir('outputs'))):\n",
    "    csv_path = os.path.join('outputs', exp_name, 'tuned_score.csv')\n",
    "    df = pd.read_csv(csv_path)\n",
    "    df.insert(1, 'n_shots', df['sparsity_mode'].apply(lambda x: 10))\n",
    "    df.insert(3, 'sparsity_value', df['sparsity_mode'].apply(lambda x: sparsity_dict[x][0]))\n",
    "    df.to_csv(csv_path, index=False)"
   ],
   "metadata": {
    "collapsed": false,
    "ExecuteTime": {
     "end_time": "2023-12-28T23:21:38.890681800Z",
     "start_time": "2023-12-28T23:21:38.828150700Z"
    }
   },
   "id": "539140981f5243aa"
  },
  {
   "cell_type": "markdown",
   "source": [
    "# Logging"
   ],
   "metadata": {
    "collapsed": false
   },
   "id": "d56e7ff5595e817a"
  },
  {
   "cell_type": "markdown",
   "id": "c302fd9e12271a03",
   "metadata": {
    "collapsed": false
   },
   "source": [
    "## GPU Usage"
   ]
  },
  {
   "cell_type": "code",
   "execution_count": null,
   "id": "e2e300e78dcbbb01",
   "metadata": {
    "collapsed": false
   },
   "outputs": [],
   "source": [
    "import torch\n",
    "\n",
    "print(torch.cuda.get_device_properties(0).total_memory)\n",
    "print(torch.cuda.memory_reserved(0))\n",
    "print(torch.cuda.memory_allocated(0))\n",
    "print(torch.cuda.memory_stats(0))"
   ]
  },
  {
   "cell_type": "code",
   "execution_count": null,
   "id": "52caf7c0bcc1d083",
   "metadata": {
    "collapsed": false
   },
   "outputs": [],
   "source": [
    "nvidia_smi_text = b'Thu Dec 21 07:17:44 2023       \\n+-----------------------------------------------------------------------------+\\n| NVIDIA-SMI 450.191.01   Driver Version: 450.191.01   CUDA Version: 11.0     |\\n|-------------------------------+----------------------+----------------------+\\n| GPU  Name        Persistence-M| Bus-Id        Disp.A | Volatile Uncorr. ECC |\\n| Fan  Temp  Perf  Pwr:Usage/Cap|         Memory-Usage | GPU-Util  Compute M. |\\n|                               |                      |               MIG M. |\\n|===============================+======================+======================|\\n|   0  Tesla V100-SXM2...  On   | 00000000:8A:00.0 Off |                    0 |\\n| N/A   44C    P0   199W / 300W |  10256MiB / 32510MiB |     51%      Default |\\n|                               |                      |                  N/A |\\n+-------------------------------+----------------------+----------------------+\\n                                                                               \\n+-----------------------------------------------------------------------------+\\n| Processes:                                                                  |\\n|  GPU   GI   CI        PID   Type   Process name                  GPU Memory |\\n|        ID   ID                                                   Usage      |\\n|=============================================================================|\\n+-----------------------------------------------------------------------------+\\n'\n",
    "\n",
    "# extract memory usage and available memory\n"
   ]
  },
  {
   "cell_type": "code",
   "execution_count": null,
   "id": "a03a4b608cf1a0d2",
   "metadata": {
    "collapsed": false
   },
   "outputs": [],
   "source": [
    "import re\n",
    "\n",
    "# command = 'nvidia-smi'\n",
    "# nvidia_smi_text = subprocess.check_output(command)\n",
    "[used_ram, total_ram] = re.findall(r'\\b\\d+MiB', str(nvidia_smi_text))\n",
    "used_ram = int(used_ram[:-3])\n",
    "total_ram = int(total_ram[:-3])\n",
    "percent_ram = used_ram * 100 / total_ram\n",
    "\n",
    "percent_ram, total_ram"
   ]
  },
  {
   "cell_type": "markdown",
   "id": "78de24727b2db0e3",
   "metadata": {
    "collapsed": false
   },
   "source": [
    "## Error Logging"
   ]
  },
  {
   "cell_type": "code",
   "execution_count": null,
   "outputs": [],
   "source": [
    "import logging\n",
    "# import sys\n",
    "# import traceback\n",
    "import time"
   ],
   "metadata": {
    "collapsed": false
   },
   "id": "df0706495f6b32ae"
  },
  {
   "cell_type": "code",
   "execution_count": null,
   "outputs": [],
   "source": [
    "logging.basicConfig(filename='test.log',\n",
    "                    encoding='utf-8',\n",
    "                    level=logging.INFO,\n",
    "                    format='%(asctime)s | %(message)s',\n",
    "                    datefmt='%Y-%m-%d %H:%M:%S',\n",
    "                    force=True)"
   ],
   "metadata": {
    "collapsed": false
   },
   "id": "c49b41c1dc47fb5b"
  },
  {
   "cell_type": "code",
   "execution_count": null,
   "outputs": [],
   "source": [
    "try:\n",
    "    for i in range(1000):\n",
    "        logging.info(i)\n",
    "        time.sleep(1)\n",
    "except BaseException as e:\n",
    "    # traceback.print_exception(*sys.exc_info())\n",
    "    # logging.warning(traceback.format_exc())\n",
    "    # logging.error(traceback.format_exc())\n",
    "    logging.error(\"Exception:\", exc_info=True, stack_info=True)\n",
    "    raise e\n",
    "finally:\n",
    "    logging.info('End')\n",
    "    logger = logging.getLogger()\n",
    "    while logger.hasHandlers():\n",
    "        logger.removeHandler(logger.handlers[0])"
   ],
   "metadata": {
    "collapsed": false
   },
   "id": "a3a4bc910dbfc702"
  },
  {
   "cell_type": "markdown",
   "source": [
    "# Main Processing"
   ],
   "metadata": {
    "collapsed": false
   },
   "id": "823b42963ddd1d61"
  },
  {
   "cell_type": "markdown",
   "source": [
    "## Prototype on Different Batch Size"
   ],
   "metadata": {
    "collapsed": false
   },
   "id": "7f39821b6814010e"
  },
  {
   "cell_type": "code",
   "execution_count": null,
   "outputs": [],
   "source": [
    "import time\n",
    "import torch\n",
    "import numpy as np\n",
    "from torch.nn import functional"
   ],
   "metadata": {
    "collapsed": false
   },
   "id": "ac1a4cd091e90a75"
  },
  {
   "cell_type": "code",
   "execution_count": null,
   "outputs": [],
   "source": [
    "torch.tensor([1, 2, 3]) - torch.tensor([[1, 2, 3], [4, 5, 6]])\n",
    "\n",
    "aa = torch.tensor([[1, 2, 3]])\n",
    "bb = torch.tensor([[1, 2, 3], [4, 5, 6]])\n",
    "print(aa.shape, bb.shape)\n",
    "print(aa - bb, (aa - bb).shape)"
   ],
   "metadata": {
    "collapsed": false
   },
   "id": "6455bf9c7e4e4bef"
  },
  {
   "cell_type": "code",
   "execution_count": null,
   "outputs": [],
   "source": [
    "proto = torch.randn([30, 3, 4]).type(torch.FloatTensor)\n",
    "embed = torch.randn([30, 100, 4]).type(torch.FloatTensor)\n",
    "target = torch.randint(0, 3, [30, 100]).type(torch.LongTensor)"
   ],
   "metadata": {
    "collapsed": false
   },
   "id": "7b78a5bd751c86ea"
  },
  {
   "cell_type": "code",
   "execution_count": null,
   "outputs": [],
   "source": [
    "squared_distances_loss = torch.sum((proto.unsqueeze(2) - embed.unsqueeze(1)) ** 2, dim=-1)\n",
    "loss = functional.cross_entropy(-squared_distances_loss, target, ignore_index=-1)\n",
    "\n",
    "squared_distances_pred = torch.sum((proto.unsqueeze(1) - embed.unsqueeze(2)) ** 2, dim=-1)\n",
    "pred = torch.argmin(squared_distances_pred, dim=-1)\n",
    "\n",
    "print(squared_distances_loss.shape)\n",
    "print(squared_distances_pred.shape)\n",
    "print(loss)\n",
    "print(pred.shape)\n",
    "print(pred)"
   ],
   "metadata": {
    "collapsed": false
   },
   "id": "cadd3d938d162144"
  },
  {
   "cell_type": "code",
   "execution_count": null,
   "outputs": [],
   "source": [
    "loss_list = []\n",
    "for i in range(proto.shape[0]):\n",
    "    proto_item = proto[i:i+1, :, :]\n",
    "    squared_distances_loss = torch.sum((proto_item.unsqueeze(2) - embed.unsqueeze(1)) ** 2, dim=-1)\n",
    "    loss = functional.cross_entropy(-squared_distances_loss, target, ignore_index=-1)\n",
    "    loss_list.append(loss)\n",
    "    \n",
    "print(torch.mean(torch.stack(loss_list)))"
   ],
   "metadata": {
    "collapsed": false
   },
   "id": "ad0eba18baa08236"
  },
  {
   "cell_type": "code",
   "execution_count": null,
   "outputs": [],
   "source": [
    "lcm = np.lcm(proto.shape[0], embed.shape[0])\n",
    "proto_repeat = proto.repeat(lcm // proto.shape[0], 1, 1)\n",
    "embed_repeat = embed.repeat(lcm // embed.shape[0], 1, 1)\n",
    "target_repeat = target.repeat(lcm // target.shape[0], 1)\n",
    "squared_distances_loss = torch.sum((proto_repeat.unsqueeze(2) - embed_repeat.unsqueeze(1)) ** 2, dim=-1)\n",
    "loss = functional.cross_entropy(-squared_distances_loss, target_repeat, ignore_index=-1)\n",
    "print(loss)"
   ],
   "metadata": {
    "collapsed": false
   },
   "id": "a2e4c0b42e89711e"
  },
  {
   "cell_type": "code",
   "execution_count": null,
   "outputs": [],
   "source": [
    "batch_diff = proto.shape[0] - embed.shape[0]\n",
    "if batch_diff > 0:\n",
    "    new_embed = torch.cat([embed, embed[:batch_diff]], dim=0)\n",
    "    new_target = torch.cat([target, target[:batch_diff]], dim=0)\n",
    "else:\n",
    "    new_embed = embed[:proto.shape[0]]\n",
    "    new_target = target[:proto.shape[0]]\n",
    "squared_distances_loss = torch.sum((proto.unsqueeze(2) - new_embed.unsqueeze(1)) ** 2, dim=-1)\n",
    "loss = functional.cross_entropy(-squared_distances_loss, new_target, ignore_index=-1)\n",
    "print(loss)"
   ],
   "metadata": {
    "collapsed": false
   },
   "id": "2924cef98fcb4df0"
  },
  {
   "cell_type": "code",
   "execution_count": null,
   "outputs": [],
   "source": [
    "loss_list_1 = []\n",
    "total_time_1 = 0\n",
    "loss_list_2 = []\n",
    "total_time_2 = 0\n",
    "loss_list_3 = []\n",
    "total_time_3 = 0\n",
    "loss_list_4 = []\n",
    "total_time_4 = 0\n",
    "for i in range(1000):\n",
    "    proto = torch.randn([30, 3, 4]).type(torch.FloatTensor)\n",
    "    embed = torch.randn([30, 100, 4]).type(torch.FloatTensor)\n",
    "    target = torch.randint(0, 3, [30, 100]).type(torch.LongTensor)\n",
    "    \n",
    "    start_1 = time.time()\n",
    "    squared_distances_loss = torch.sum((proto.unsqueeze(2) - embed.unsqueeze(1)) ** 2, dim=-1)\n",
    "    loss = functional.cross_entropy(-squared_distances_loss, target, ignore_index=-1)\n",
    "    loss_list_1.append(loss)\n",
    "    total_time_1 += time.time() - start_1\n",
    "    \n",
    "    start_2 = time.time()\n",
    "    loss_list_inner = []\n",
    "    for j in range(proto.shape[0]):\n",
    "        proto_item = proto[j:j+1, :, :]\n",
    "        squared_distances_loss = torch.sum((proto_item.unsqueeze(2) - embed.unsqueeze(1)) ** 2, dim=-1)\n",
    "        loss = functional.cross_entropy(-squared_distances_loss, target, ignore_index=-1)\n",
    "        loss_list_inner.append(loss)\n",
    "    loss_list_2.append(torch.mean(torch.stack(loss_list_inner)))\n",
    "    total_time_2 += time.time() - start_2\n",
    "    \n",
    "    start_3 = time.time()\n",
    "    lcm = np.lcm(proto.shape[0], embed.shape[0])\n",
    "    proto_repeat = proto.repeat(lcm // proto.shape[0], 1, 1)\n",
    "    embed_repeat = embed.repeat(lcm // embed.shape[0], 1, 1)\n",
    "    target_repeat = target.repeat(lcm // target.shape[0], 1)\n",
    "    squared_distances_loss = torch.sum((proto_repeat.unsqueeze(2) - embed_repeat.unsqueeze(1)) ** 2, dim=-1)\n",
    "    loss = functional.cross_entropy(-squared_distances_loss, target_repeat, ignore_index=-1)\n",
    "    loss_list_3.append(loss)\n",
    "    total_time_3 += time.time() - start_3\n",
    "    \n",
    "    start_4 = time.time()\n",
    "    batch_diff = proto.shape[0] - embed.shape[0]\n",
    "    if batch_diff > 0:\n",
    "        new_embed = torch.cat([embed, embed[:batch_diff]], dim=0)\n",
    "        new_target = torch.cat([target, target[:batch_diff]], dim=0)\n",
    "    else:\n",
    "        new_embed = embed[:proto.shape[0]]\n",
    "        new_target = target[:proto.shape[0]]\n",
    "    squared_distances_loss = torch.sum((proto.unsqueeze(2) - new_embed.unsqueeze(1)) ** 2, dim=-1)\n",
    "    loss = functional.cross_entropy(-squared_distances_loss, new_target, ignore_index=-1)\n",
    "    loss_list_4.append(loss)\n",
    "    total_time_4 += time.time() - start_4\n",
    "\n",
    "print(torch.mean(torch.stack(loss_list_1)), torch.std(torch.stack(loss_list_1)))\n",
    "print(torch.mean(torch.stack(loss_list_2)), torch.std(torch.stack(loss_list_2)))\n",
    "print(torch.mean(torch.stack(loss_list_3)), torch.std(torch.stack(loss_list_3)))\n",
    "print(torch.mean(torch.stack(loss_list_4)), torch.std(torch.stack(loss_list_4)))\n",
    "print(total_time_1, total_time_2, total_time_3, total_time_4)"
   ],
   "metadata": {
    "collapsed": false
   },
   "id": "6d54834333a1b8e2"
  },
  {
   "cell_type": "code",
   "execution_count": null,
   "outputs": [],
   "source": [
    "# not working, usage of mean give different distribution \n",
    "\n",
    "embed_mean = torch.mean(embed, dim=0, keepdim=True)\n",
    "new_embed = embed_mean.repeat(30, 1, 1)\n",
    "\n",
    "squared_distances_loss = torch.sum((proto.unsqueeze(2) - new_embed.unsqueeze(1)) ** 2, dim=-1)\n",
    "loss = functional.cross_entropy(-squared_distances_loss, target, ignore_index=-1)\n",
    "loss"
   ],
   "metadata": {
    "collapsed": false
   },
   "id": "af08d3e2c3b6de08"
  },
  {
   "cell_type": "markdown",
   "source": [
    "# Other"
   ],
   "metadata": {
    "collapsed": false
   },
   "id": "dba89ff87cbc03e0"
  }
 ],
 "metadata": {
  "kernelspec": {
   "display_name": "Python 3",
   "language": "python",
   "name": "python3"
  },
  "language_info": {
   "codemirror_mode": {
    "name": "ipython",
    "version": 3
   },
   "file_extension": ".py",
   "mimetype": "text/x-python",
   "name": "python",
   "nbconvert_exporter": "python",
   "pygments_lexer": "ipython3",
   "version": "3.10.13"
  }
 },
 "nbformat": 4,
 "nbformat_minor": 5
}
