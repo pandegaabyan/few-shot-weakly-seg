{
 "cells": [
  {
   "cell_type": "markdown",
   "id": "6d5c718deb8cba1",
   "metadata": {
    "collapsed": false
   },
   "source": [
    "# Sparsification"
   ]
  },
  {
   "cell_type": "code",
   "execution_count": null,
   "outputs": [],
   "source": [
    "from data.types import SparsityValue\n",
    "from tasks.optic_disc_cup.datasets import RimOneDataset\n",
    "\n",
    "rim_one_sparsity_params: dict = {\n",
    "    'point_dot_size': 5,\n",
    "    'grid_dot_size': 4,\n",
    "    'contour_radius_dist': 4,\n",
    "    'contour_radius_thick': 2,\n",
    "    'skeleton_radius_thick': 4,\n",
    "    'region_compactness': 0.5\n",
    "}\n",
    "\n",
    "rim_one_data = RimOneDataset(\n",
    "    mode='train',\n",
    "    num_classes=3,\n",
    "    num_shots=5,\n",
    "    resize_to=(256, 256),\n",
    "    split_seed=0,\n",
    "    sparsity_params=rim_one_sparsity_params\n",
    ")\n",
    "\n",
    "sparsity_values: dict[str, SparsityValue] = {\n",
    "    'point': 10,\n",
    "    'grid': 20,\n",
    "    'contour': 1,\n",
    "    'skeleton': 1,\n",
    "    'region': 1,\n",
    "    'point_old': 10,\n",
    "    'grid_old': 20\n",
    "}\n",
    "image, mask, sparse_masks, image_filename = rim_one_data.get_data_with_sparse_all(0, sparsity_values)"
   ],
   "metadata": {
    "collapsed": false
   },
   "id": "cc2ac2e85a37c1a6"
  },
  {
   "cell_type": "code",
   "execution_count": 78,
   "id": "df2a96919048a892",
   "metadata": {
    "ExecuteTime": {
     "end_time": "2023-12-20T02:37:04.171291300Z",
     "start_time": "2023-12-20T02:37:03.837684300Z"
    },
    "collapsed": false
   },
   "outputs": [
    {
     "name": "stdout",
     "output_type": "stream",
     "text": [
      "[0 1 2] [False  True] [False  True]\n"
     ]
    },
    {
     "data": {
      "text/plain": [
       "<matplotlib.image.AxesImage at 0x27080c11bd0>"
      ]
     },
     "execution_count": 78,
     "metadata": {},
     "output_type": "execute_result"
    },
    {
     "data": {
      "image/png": "[encoded data removed]",
      "text/plain": [
       "<Figure size 640x480 with 1 Axes>"
      ]
     },
     "metadata": {},
     "output_type": "display_data"
    }
   ],
   "source": [
    "import numpy as np\n",
    "import matplotlib.pyplot as plt\n",
    "from skimage import feature, morphology\n",
    "\n",
    "edge_mask = feature.canny(mask.astype(np.float64))\n",
    "edge_mask_dilated = morphology.binary_dilation(edge_mask, footprint=morphology.disk(2))\n",
    "\n",
    "print(np.unique(mask), np.unique(edge_mask), np.unique(edge_mask_dilated))\n",
    "plt.imshow(edge_mask_dilated)"
   ]
  },
  {
   "cell_type": "markdown",
   "id": "dce5d770586f88d9",
   "metadata": {
    "collapsed": false
   },
   "source": [
    "# File Processing"
   ]
  },
  {
   "cell_type": "markdown",
   "id": "817f7d1cf02635fb",
   "metadata": {
    "collapsed": false
   },
   "source": [
    "## Mixed Print and Log"
   ]
  },
  {
   "cell_type": "code",
   "execution_count": 29,
   "id": "c8772d11eda41c10",
   "metadata": {
    "collapsed": false
   },
   "outputs": [],
   "source": [
    "# log_file_ori = open('outputs/protoseg_long_rimone_to_drishti/learn_log_ori.txt', 'r')\n",
    "# log_file = open('outputs/protoseg_long_rimone_to_drishti/learn_log.txt', 'w')\n",
    "# \n",
    "# for i in range(1, 4900):\n",
    "#     line = log_file_ori.readline()\n",
    "#     \n",
    "#     if not line.startswith('INFO'):\n",
    "#         continue\n",
    "#     \n",
    "#     log_file.write(line.removeprefix('INFO:root:'))\n",
    "# \n",
    "# log_file_ori.close()\n",
    "# log_file.close()"
   ]
  },
  {
   "cell_type": "markdown",
   "id": "d7c155b951815154",
   "metadata": {
    "collapsed": false
   },
   "source": [
    "## Exp Name Update"
   ]
  },
  {
   "cell_type": "code",
   "execution_count": 1,
   "id": "6b0d5007ae7264ed",
   "metadata": {
    "collapsed": false,
    "ExecuteTime": {
     "end_time": "2023-12-25T06:36:12.693810100Z",
     "start_time": "2023-12-25T06:36:12.678158500Z"
    }
   },
   "outputs": [],
   "source": [
    "from config.config_type import AllConfig\n",
    "import json, os\n",
    "\n",
    "def change_exp_name(old_name: str, new_name: str, output_path: str, checkpoint_path: str, config_filename: str) -> None:\n",
    "    os.rename(os.path.join(output_path, old_name), os.path.join(output_path, new_name))\n",
    "    os.rename(os.path.join(checkpoint_path, old_name), os.path.join(checkpoint_path, new_name))\n",
    "\n",
    "    config_filepath = os.path.join(output_path, new_name, config_filename)\n",
    "    with open(config_filepath, 'r') as config_file:\n",
    "        config: AllConfig = json.load(config_file)\n",
    "        \n",
    "    config['learn']['exp_name'] = new_name\n",
    "    with open(config_filepath, 'w') as config_file:\n",
    "        json.dump(config, config_file, indent=4)"
   ]
  },
  {
   "cell_type": "code",
   "execution_count": 3,
   "id": "e30e735b7ae7d03",
   "metadata": {
    "collapsed": false,
    "ExecuteTime": {
     "end_time": "2023-12-25T06:36:42.719095900Z",
     "start_time": "2023-12-25T06:36:42.547223600Z"
    }
   },
   "outputs": [],
   "source": [
    "# change_exp_name('PS RO-DR short v2 proper-split', 'PS RO-DR short v2- proper-split', 'outputs', 'ckpt', 'config.json')\n",
    "\n",
    "for exp_name in filter(lambda x: 'v2-' in x, os.listdir('outputs')):\n",
    "    change_exp_name(exp_name, exp_name.replace('v2-', 'v2'), 'outputs', 'ckpt', 'config.json')"
   ]
  },
  {
   "cell_type": "markdown",
   "id": "c302fd9e12271a03",
   "metadata": {
    "collapsed": false
   },
   "source": [
    "## GPU Usage"
   ]
  },
  {
   "cell_type": "code",
   "execution_count": 45,
   "id": "e2e300e78dcbbb01",
   "metadata": {
    "ExecuteTime": {
     "end_time": "2023-12-22T09:07:42.306611400Z",
     "start_time": "2023-12-22T09:07:42.075778400Z"
    },
    "collapsed": false
   },
   "outputs": [
    {
     "name": "stdout",
     "output_type": "stream",
     "text": [
      "2147352576\n",
      "0\n",
      "0\n",
      "OrderedDict([('active.all.allocated', 0), ('active.all.current', 0), ('active.all.freed', 0), ('active.all.peak', 0), ('active.large_pool.allocated', 0), ('active.large_pool.current', 0), ('active.large_pool.freed', 0), ('active.large_pool.peak', 0), ('active.small_pool.allocated', 0), ('active.small_pool.current', 0), ('active.small_pool.freed', 0), ('active.small_pool.peak', 0), ('active_bytes.all.allocated', 0), ('active_bytes.all.current', 0), ('active_bytes.all.freed', 0), ('active_bytes.all.peak', 0), ('active_bytes.large_pool.allocated', 0), ('active_bytes.large_pool.current', 0), ('active_bytes.large_pool.freed', 0), ('active_bytes.large_pool.peak', 0), ('active_bytes.small_pool.allocated', 0), ('active_bytes.small_pool.current', 0), ('active_bytes.small_pool.freed', 0), ('active_bytes.small_pool.peak', 0), ('allocated_bytes.all.allocated', 0), ('allocated_bytes.all.current', 0), ('allocated_bytes.all.freed', 0), ('allocated_bytes.all.peak', 0), ('allocated_bytes.large_pool.allocated', 0), ('allocated_bytes.large_pool.current', 0), ('allocated_bytes.large_pool.freed', 0), ('allocated_bytes.large_pool.peak', 0), ('allocated_bytes.small_pool.allocated', 0), ('allocated_bytes.small_pool.current', 0), ('allocated_bytes.small_pool.freed', 0), ('allocated_bytes.small_pool.peak', 0), ('allocation.all.allocated', 0), ('allocation.all.current', 0), ('allocation.all.freed', 0), ('allocation.all.peak', 0), ('allocation.large_pool.allocated', 0), ('allocation.large_pool.current', 0), ('allocation.large_pool.freed', 0), ('allocation.large_pool.peak', 0), ('allocation.small_pool.allocated', 0), ('allocation.small_pool.current', 0), ('allocation.small_pool.freed', 0), ('allocation.small_pool.peak', 0), ('inactive_split.all.allocated', 0), ('inactive_split.all.current', 0), ('inactive_split.all.freed', 0), ('inactive_split.all.peak', 0), ('inactive_split.large_pool.allocated', 0), ('inactive_split.large_pool.current', 0), ('inactive_split.large_pool.freed', 0), ('inactive_split.large_pool.peak', 0), ('inactive_split.small_pool.allocated', 0), ('inactive_split.small_pool.current', 0), ('inactive_split.small_pool.freed', 0), ('inactive_split.small_pool.peak', 0), ('inactive_split_bytes.all.allocated', 0), ('inactive_split_bytes.all.current', 0), ('inactive_split_bytes.all.freed', 0), ('inactive_split_bytes.all.peak', 0), ('inactive_split_bytes.large_pool.allocated', 0), ('inactive_split_bytes.large_pool.current', 0), ('inactive_split_bytes.large_pool.freed', 0), ('inactive_split_bytes.large_pool.peak', 0), ('inactive_split_bytes.small_pool.allocated', 0), ('inactive_split_bytes.small_pool.current', 0), ('inactive_split_bytes.small_pool.freed', 0), ('inactive_split_bytes.small_pool.peak', 0), ('max_split_size', -1), ('num_alloc_retries', 0), ('num_ooms', 0), ('oversize_allocations.allocated', 0), ('oversize_allocations.current', 0), ('oversize_allocations.freed', 0), ('oversize_allocations.peak', 0), ('oversize_segments.allocated', 0), ('oversize_segments.current', 0), ('oversize_segments.freed', 0), ('oversize_segments.peak', 0), ('requested_bytes.all.allocated', 0), ('requested_bytes.all.current', 0), ('requested_bytes.all.freed', 0), ('requested_bytes.all.peak', 0), ('requested_bytes.large_pool.allocated', 0), ('requested_bytes.large_pool.current', 0), ('requested_bytes.large_pool.freed', 0), ('requested_bytes.large_pool.peak', 0), ('requested_bytes.small_pool.allocated', 0), ('requested_bytes.small_pool.current', 0), ('requested_bytes.small_pool.freed', 0), ('requested_bytes.small_pool.peak', 0), ('reserved_bytes.all.allocated', 0), ('reserved_bytes.all.current', 0), ('reserved_bytes.all.freed', 0), ('reserved_bytes.all.peak', 0), ('reserved_bytes.large_pool.allocated', 0), ('reserved_bytes.large_pool.current', 0), ('reserved_bytes.large_pool.freed', 0), ('reserved_bytes.large_pool.peak', 0), ('reserved_bytes.small_pool.allocated', 0), ('reserved_bytes.small_pool.current', 0), ('reserved_bytes.small_pool.freed', 0), ('reserved_bytes.small_pool.peak', 0), ('segment.all.allocated', 0), ('segment.all.current', 0), ('segment.all.freed', 0), ('segment.all.peak', 0), ('segment.large_pool.allocated', 0), ('segment.large_pool.current', 0), ('segment.large_pool.freed', 0), ('segment.large_pool.peak', 0), ('segment.small_pool.allocated', 0), ('segment.small_pool.current', 0), ('segment.small_pool.freed', 0), ('segment.small_pool.peak', 0)])\n"
     ]
    }
   ],
   "source": [
    "import torch\n",
    "\n",
    "print(torch.cuda.get_device_properties(0).total_memory)\n",
    "print(torch.cuda.memory_reserved(0))\n",
    "print(torch.cuda.memory_allocated(0))\n",
    "print(torch.cuda.memory_stats(0))"
   ]
  },
  {
   "cell_type": "code",
   "execution_count": 8,
   "id": "52caf7c0bcc1d083",
   "metadata": {
    "ExecuteTime": {
     "end_time": "2023-12-22T08:45:26.004013700Z",
     "start_time": "2023-12-22T08:45:25.976816Z"
    },
    "collapsed": false
   },
   "outputs": [],
   "source": [
    "nvidia_smi_text = b'Thu Dec 21 07:17:44 2023       \\n+-----------------------------------------------------------------------------+\\n| NVIDIA-SMI 450.191.01   Driver Version: 450.191.01   CUDA Version: 11.0     |\\n|-------------------------------+----------------------+----------------------+\\n| GPU  Name        Persistence-M| Bus-Id        Disp.A | Volatile Uncorr. ECC |\\n| Fan  Temp  Perf  Pwr:Usage/Cap|         Memory-Usage | GPU-Util  Compute M. |\\n|                               |                      |               MIG M. |\\n|===============================+======================+======================|\\n|   0  Tesla V100-SXM2...  On   | 00000000:8A:00.0 Off |                    0 |\\n| N/A   44C    P0   199W / 300W |  10256MiB / 32510MiB |     51%      Default |\\n|                               |                      |                  N/A |\\n+-------------------------------+----------------------+----------------------+\\n                                                                               \\n+-----------------------------------------------------------------------------+\\n| Processes:                                                                  |\\n|  GPU   GI   CI        PID   Type   Process name                  GPU Memory |\\n|        ID   ID                                                   Usage      |\\n|=============================================================================|\\n+-----------------------------------------------------------------------------+\\n'\n",
    "\n",
    "# extract memory usage and available memory\n"
   ]
  },
  {
   "cell_type": "code",
   "execution_count": 34,
   "id": "a03a4b608cf1a0d2",
   "metadata": {
    "ExecuteTime": {
     "end_time": "2023-12-22T08:53:09.204017Z",
     "start_time": "2023-12-22T08:53:08.570718800Z"
    },
    "collapsed": false
   },
   "outputs": [
    {
     "data": {
      "text/plain": [
       "(0.0, 2048)"
      ]
     },
     "execution_count": 34,
     "metadata": {},
     "output_type": "execute_result"
    }
   ],
   "source": [
    "import re\n",
    "\n",
    "# command = 'nvidia-smi'\n",
    "# nvidia_smi_text = subprocess.check_output(command)\n",
    "[used_ram, total_ram] = re.findall(r'\\b\\d+MiB', str(nvidia_smi_text))\n",
    "used_ram = int(used_ram[:-3])\n",
    "total_ram = int(total_ram[:-3])\n",
    "percent_ram = used_ram * 100 / total_ram\n",
    "\n",
    "percent_ram, total_ram"
   ]
  },
  {
   "cell_type": "markdown",
   "id": "78de24727b2db0e3",
   "metadata": {
    "collapsed": false
   },
   "source": [
    "# Error Logging"
   ]
  },
  {
   "cell_type": "code",
   "execution_count": 1,
   "outputs": [],
   "source": [
    "import logging\n",
    "# import sys\n",
    "# import traceback\n",
    "import time"
   ],
   "metadata": {
    "collapsed": false,
    "ExecuteTime": {
     "end_time": "2023-12-26T14:15:23.269743400Z",
     "start_time": "2023-12-26T14:15:23.254103700Z"
    }
   },
   "id": "df0706495f6b32ae"
  },
  {
   "cell_type": "code",
   "execution_count": 2,
   "outputs": [],
   "source": [
    "logging.basicConfig(filename='test.log',\n",
    "                    encoding='utf-8',\n",
    "                    level=logging.INFO,\n",
    "                    format='%(asctime)s | %(message)s',\n",
    "                    datefmt='%Y-%m-%d %H:%M:%S',\n",
    "                    force=True)"
   ],
   "metadata": {
    "collapsed": false,
    "ExecuteTime": {
     "end_time": "2023-12-26T14:15:23.892341700Z",
     "start_time": "2023-12-26T14:15:23.861119500Z"
    }
   },
   "id": "c49b41c1dc47fb5b"
  },
  {
   "cell_type": "code",
   "execution_count": null,
   "outputs": [],
   "source": [
    "try:\n",
    "    for i in range(1000):\n",
    "        logging.info(i)\n",
    "        time.sleep(1)\n",
    "except BaseException as e:\n",
    "    # traceback.print_exception(*sys.exc_info())\n",
    "    # logging.warning(traceback.format_exc())\n",
    "    # logging.error(traceback.format_exc())\n",
    "    logging.error(\"Exception:\", exc_info=True, stack_info=True)\n",
    "    raise e\n",
    "finally:\n",
    "    logging.info('End')\n",
    "    logger = logging.getLogger()\n",
    "    while logger.hasHandlers():\n",
    "        logger.removeHandler(logger.handlers[0])"
   ],
   "metadata": {
    "collapsed": false,
    "ExecuteTime": {
     "start_time": "2023-12-26T14:15:24.857603800Z"
    }
   },
   "id": "a3a4bc910dbfc702"
  },
  {
   "cell_type": "markdown",
   "source": [
    "# Other"
   ],
   "metadata": {
    "collapsed": false
   },
   "id": "7f39821b6814010e"
  },
  {
   "cell_type": "code",
   "execution_count": null,
   "outputs": [],
   "source": [],
   "metadata": {
    "collapsed": false
   },
   "id": "88db75c1f0b4f502"
  }
 ],
 "metadata": {
  "kernelspec": {
   "display_name": "Python 3",
   "language": "python",
   "name": "python3"
  },
  "language_info": {
   "codemirror_mode": {
    "name": "ipython",
    "version": 3
   },
   "file_extension": ".py",
   "mimetype": "text/x-python",
   "name": "python",
   "nbconvert_exporter": "python",
   "pygments_lexer": "ipython3",
   "version": "3.10.13"
  }
 },
 "nbformat": 4,
 "nbformat_minor": 5
}
