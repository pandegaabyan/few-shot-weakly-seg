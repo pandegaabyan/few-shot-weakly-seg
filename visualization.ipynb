{
 "cells": [
  {
   "cell_type": "markdown",
   "id": "48e80e4d5e80357b",
   "metadata": {
    "collapsed": false
   },
   "source": []
  },
  {
   "cell_type": "markdown",
   "id": "b3444878d2f88752",
   "metadata": {
    "collapsed": false
   },
   "source": [
    "# Lets-Plot\n"
   ]
  },
  {
   "cell_type": "markdown",
   "id": "44115807fbc39618",
   "metadata": {
    "collapsed": false
   },
   "source": [
    "## Initialization\n"
   ]
  },
  {
   "cell_type": "markdown",
   "id": "b372475f679cfe6f",
   "metadata": {
    "collapsed": false
   },
   "source": [
    "### Imports\n"
   ]
  },
  {
   "cell_type": "code",
   "execution_count": null,
   "id": "2d972472a5d4e4c8",
   "metadata": {
    "collapsed": false
   },
   "outputs": [],
   "source": [
    "import os\n",
    "import re\n",
    "from typing import Callable\n",
    "\n",
    "import pandas as pd\n",
    "import scipy\n",
    "from lets_plot import *\n",
    "from lets_plot.mapping import as_discrete\n",
    "from lets_plot.plot.subplots import SupPlotsSpec\n",
    "\n",
    "from config.config_type import AllConfig\n"
   ]
  },
  {
   "cell_type": "code",
   "execution_count": null,
   "id": "a1f94bac9d1f4877",
   "metadata": {
    "collapsed": false
   },
   "outputs": [],
   "source": [
    "LetsPlot.setup_html()"
   ]
  },
  {
   "cell_type": "markdown",
   "id": "2a6d184be7d3a94",
   "metadata": {
    "collapsed": false
   },
   "source": [
    "### General Functions\n"
   ]
  },
  {
   "cell_type": "code",
   "execution_count": null,
   "id": "baba72bfe1f66077",
   "metadata": {
    "collapsed": false
   },
   "outputs": [],
   "source": [
    "DataframeItemList = list[tuple[str, pd.DataFrame]]\n",
    "NamePathList = tuple[list[str], list[str]]\n",
    "DataSliceDict = dict[str, tuple[int | None, int | None]]\n",
    "ConfigIndexDict = dict[str, int]"
   ]
  },
  {
   "cell_type": "code",
   "execution_count": null,
   "id": "1804f91a193afca9",
   "metadata": {
    "collapsed": false
   },
   "outputs": [],
   "source": [
    "sparsity_modes = [\"point\", \"grid\", \"contour\", \"skeleton\", \"region\"]"
   ]
  },
  {
   "cell_type": "code",
   "execution_count": null,
   "id": "3efe67343211efdb",
   "metadata": {
    "collapsed": false
   },
   "outputs": [],
   "source": [
    "def read_config(ref_path: str, config_index: int = 0) -> AllConfig:\n",
    "    import json\n",
    "\n",
    "    filename = f\"config_{config_index}.json\" if config_index != 0 else \"config.json\"\n",
    "    path = os.path.join(os.path.split(ref_path)[0], filename)\n",
    "    with open(path, \"r\") as f:\n",
    "        return json.load(f)"
   ]
  },
  {
   "cell_type": "code",
   "execution_count": null,
   "id": "39515ea28ce0f33b",
   "metadata": {
    "collapsed": false
   },
   "outputs": [],
   "source": [
    "def get_paths_and_names(\n",
    "    filter_func: Callable[[str], bool],\n",
    "    filename: str,\n",
    "    replace_name_func: Callable[[str], str],\n",
    "    path: str = \"outputs\",\n",
    ") -> NamePathList:\n",
    "    exp_name_list = list(filter(filter_func, os.listdir(path)))\n",
    "    path_list = [os.path.join(path, exp_name, filename) for exp_name in exp_name_list]\n",
    "    name_list = [replace_name_func(exp_name) for exp_name in exp_name_list]\n",
    "    return path_list, name_list"
   ]
  },
  {
   "cell_type": "code",
   "execution_count": null,
   "id": "460aee31deaf6eb9",
   "metadata": {
    "collapsed": false
   },
   "outputs": [],
   "source": [
    "def get_dataframes(\n",
    "    path_list: list[str],\n",
    "    name_list: list[str],\n",
    "    data_slice_dict: DataSliceDict | None = None,\n",
    "    config_index_dict: ConfigIndexDict | None = None,\n",
    ") -> DataframeItemList:\n",
    "    df_items = []\n",
    "    for path, name in zip(path_list, name_list):\n",
    "        df = pd.read_csv(path)\n",
    "        if data_slice_dict is not None and data_slice_dict.get(name) is not None:\n",
    "            df = df.iloc[data_slice_dict[name][0] : data_slice_dict[name][1]]\n",
    "        if config_index_dict is not None:\n",
    "            config_index = config_index_dict.get(name, 0)\n",
    "        else:\n",
    "            config_index = 0\n",
    "        config = read_config(path, config_index)\n",
    "        df[\"batch_size\"] = config[\"data\"][\"batch_size\"]\n",
    "        df_items.append((name, df))\n",
    "    return df_items"
   ]
  },
  {
   "cell_type": "code",
   "execution_count": null,
   "id": "7a10074909ca89a9",
   "metadata": {
    "collapsed": false
   },
   "outputs": [],
   "source": [
    "def combine_dataframes(\n",
    "    df_item_list: DataframeItemList, new_column: str\n",
    ") -> pd.DataFrame:\n",
    "    df_list = []\n",
    "    for name, df in df_item_list:\n",
    "        new_df = df.copy()\n",
    "        new_df[new_column] = name\n",
    "        df_list.append(new_df)\n",
    "    return pd.concat(df_list)"
   ]
  },
  {
   "cell_type": "code",
   "execution_count": null,
   "id": "e12f119948041d3e",
   "metadata": {
    "collapsed": false
   },
   "outputs": [],
   "source": [
    "def combine_columns(\n",
    "    df: pd.DataFrame, column_list: list[str], new_column: str\n",
    ") -> pd.DataFrame:\n",
    "    df_list = []\n",
    "    for col in column_list:\n",
    "        new_df = df.copy()\n",
    "        new_df.drop(columns=filter(lambda x: x != col, column_list), inplace=True)\n",
    "        new_df.rename(columns={col: new_column + \"_value\"}, inplace=True)\n",
    "        new_df[new_column] = col\n",
    "        df_list.append(new_df)\n",
    "    return pd.concat(df_list)"
   ]
  },
  {
   "cell_type": "markdown",
   "id": "41924effe558e7e3",
   "metadata": {
    "collapsed": false
   },
   "source": [
    "### Data Functions\n"
   ]
  },
  {
   "cell_type": "code",
   "execution_count": null,
   "id": "350d01ef18c26ac9",
   "metadata": {
    "collapsed": false
   },
   "outputs": [],
   "source": [
    "def replace_method_name(name: str) -> str:\n",
    "    return name.replace(\"WS \", \"weasel \").replace(\"PS \", \"protoseg \")\n",
    "\n",
    "\n",
    "def replace_scenario_name(name: str) -> str:\n",
    "    return re.sub(f'({\"|\".join(sparsity_modes)})', \"separated\", name)"
   ]
  },
  {
   "cell_type": "code",
   "execution_count": null,
   "id": "86587c31bcba4703",
   "metadata": {
    "collapsed": false
   },
   "outputs": [],
   "source": [
    "def get_paths_and_names_with(\n",
    "    prefix_text: str, suffix_list: list[str] | None, filename: str\n",
    ") -> tuple[list[str], list[str]]:\n",
    "    return get_paths_and_names(\n",
    "        lambda x: x.startswith(prefix_text)\n",
    "        and (\"dummy\" not in x)\n",
    "        and (x.split(\" \")[-1] in suffix_list if suffix_list is not None else True),\n",
    "        filename,\n",
    "        lambda x: replace_method_name(x.replace(prefix_text + \" \", \"\")),\n",
    "    )"
   ]
  },
  {
   "cell_type": "code",
   "execution_count": null,
   "id": "b393c07af45b7ae6",
   "metadata": {
    "collapsed": false
   },
   "outputs": [],
   "source": [
    "def get_meta_dataframe(name_path_list: NamePathList, **kwargs) -> pd.DataFrame:\n",
    "    path_list, name_list = name_path_list\n",
    "    df_item_list = get_dataframes(path_list, name_list, **kwargs)\n",
    "    combined_dataframe = combine_dataframes(df_item_list, \"method\")\n",
    "    combined_dataframe[\"duration\"] = combined_dataframe[\"duration\"] / 1000\n",
    "    combined_dataframe[[\"method\", \"scenario\"]] = combined_dataframe[\"method\"].str.split(\n",
    "        \" \", expand=True\n",
    "    )\n",
    "    return combined_dataframe"
   ]
  },
  {
   "cell_type": "code",
   "execution_count": null,
   "id": "d4f9312ad93c5d20",
   "metadata": {
    "collapsed": false
   },
   "outputs": [],
   "source": [
    "def get_tune_dataframe(name_path_list: NamePathList, **kwargs) -> pd.DataFrame:\n",
    "    path_list, name_list = name_path_list\n",
    "    df_item_list = get_dataframes(path_list, name_list, **kwargs)\n",
    "    dataframe = combine_dataframes(df_item_list, \"method\")\n",
    "    dataframe[\"duration\"] = dataframe[\"duration\"] / 1000\n",
    "    dataframe[[\"method\", \"scenario\"]] = dataframe[\"method\"].str.split(\" \", expand=True)\n",
    "    dataframe[\"scenario\"] = dataframe[\"scenario\"].apply(replace_scenario_name)\n",
    "    dataframe[\"sparsity\"] = (\n",
    "        dataframe[\"sparsity_mode\"] + \"=\" + dataframe[\"sparsity_value\"].astype(str)\n",
    "    )\n",
    "    return dataframe"
   ]
  },
  {
   "cell_type": "code",
   "execution_count": null,
   "id": "6d877fe622de173e",
   "metadata": {
    "collapsed": false
   },
   "outputs": [],
   "source": [
    "def get_weasel_tune_dataframe(name_path_list: NamePathList, **kwargs) -> pd.DataFrame:\n",
    "    path_list, name_list = name_path_list\n",
    "    df_item_list = get_dataframes(path_list, name_list, **kwargs)\n",
    "    dataframe = combine_dataframes(df_item_list, \"scenario\")\n",
    "    dataframe[\"test_duration\"] = dataframe[\"test_duration\"] / 1000\n",
    "    dataframe[\"scenario\"] = dataframe[\"scenario\"].apply(replace_scenario_name)\n",
    "    dataframe[\"sparsity\"] = (\n",
    "        dataframe[\"sparsity_mode\"] + \"=\" + dataframe[\"sparsity_value\"].astype(str)\n",
    "    )\n",
    "    return dataframe"
   ]
  },
  {
   "cell_type": "markdown",
   "id": "fd7f999fcb8bd0e0",
   "metadata": {
    "collapsed": false
   },
   "source": [
    "### Chart Functions\n"
   ]
  },
  {
   "cell_type": "code",
   "execution_count": null,
   "id": "7db9a8cb949be0e4",
   "metadata": {
    "collapsed": false
   },
   "outputs": [],
   "source": [
    "def plot_meta_loss(dataframe: pd.DataFrame) -> ggplot:\n",
    "    num_methods = len(dataframe[\"method\"].unique())\n",
    "    return (\n",
    "        ggplot(dataframe)\n",
    "        + geom_line(aes(x=\"epoch\", y=\"loss\", color=\"scenario\"))\n",
    "        + facet_grid(y=\"method\", scales=\"free_y\", y_order=0)\n",
    "        + ggsize(1200, 400 * num_methods)\n",
    "        + flavor_darcula()\n",
    "    )"
   ]
  },
  {
   "cell_type": "code",
   "execution_count": null,
   "id": "2567a8887f34a8c0",
   "metadata": {
    "collapsed": false
   },
   "outputs": [],
   "source": [
    "def plot_meta_loss_multiple(dataframe: pd.DataFrame) -> ggplot:\n",
    "    num_methods = len(dataframe[\"method\"].unique())\n",
    "    num_scenarios = len(dataframe[\"scenario\"].unique())\n",
    "    return (\n",
    "        ggplot(dataframe)\n",
    "        + geom_line(aes(x=\"epoch\", y=\"loss\", color=\"scenario\"))\n",
    "        + facet_grid(x=\"method\", y=\"scenario\", scales=\"free\", x_order=0, y_order=0)\n",
    "        + ggsize(600 * num_methods, 200 * num_scenarios + 50)\n",
    "        + flavor_darcula()\n",
    "        + theme(panel_border=element_rect(size=1), legend_position=\"bottom\")\n",
    "    )"
   ]
  },
  {
   "cell_type": "code",
   "execution_count": null,
   "id": "87c0e3bc167bc50a",
   "metadata": {
    "collapsed": false
   },
   "outputs": [],
   "source": [
    "def plot_meta_metric(dataframe: pd.DataFrame, size_col: str = \"\") -> ggplot:\n",
    "    new_dataframe = combine_columns(\n",
    "        dataframe, [\"duration\", \"post_gpu_percent\"], \"metric\"\n",
    "    )\n",
    "    num_methods = len(new_dataframe[\"method\"].unique())\n",
    "    return (\n",
    "        ggplot(new_dataframe)\n",
    "        + geom_line(\n",
    "            aes(\n",
    "                x=\"epoch\",\n",
    "                y=\"metric_value\",\n",
    "                color=\"scenario\",\n",
    "                size=as_discrete(size_col, order=1) if size_col != \"\" else None,\n",
    "            )\n",
    "        )\n",
    "        + facet_grid(x=\"method\", y=\"metric\", scales=\"free_y\", x_order=0, y_order=0)\n",
    "        + ggsize(600 * num_methods, 800)\n",
    "        + flavor_darcula()\n",
    "        + scale_size(range=[0.5, 1])\n",
    "        + theme(panel_border=element_rect(size=1), legend_position=\"bottom\")\n",
    "    )"
   ]
  },
  {
   "cell_type": "code",
   "execution_count": null,
   "id": "a1443766a1935606",
   "metadata": {
    "collapsed": false
   },
   "outputs": [],
   "source": [
    "def plot_tune_score_by_scenario(dataframe: pd.DataFrame, size_col: str = \"\") -> ggplot:\n",
    "    new_dataframe = combine_columns(dataframe, [\"iou_od\", \"iou_oc\"], \"iou\")\n",
    "    num_sparsity = len(new_dataframe[\"sparsity\"].unique())\n",
    "    return (\n",
    "        ggplot(new_dataframe)\n",
    "        + geom_line(\n",
    "            aes(\n",
    "                x=as_discrete(\"epoch\"),\n",
    "                y=\"iou_value\",\n",
    "                color=\"scenario\",\n",
    "                linetype=\"method\",\n",
    "                size=as_discrete(size_col, order=1) if size_col != \"\" else None,\n",
    "            ),\n",
    "            tooltips=layer_tooltips().line(\"@method @scenario\").line(\"@iou_value\"),\n",
    "        )\n",
    "        + facet_grid(x=\"sparsity\", y=\"iou\", scales=\"fixed\", x_order=1, y_order=0)\n",
    "        + ggsize(200 * num_sparsity, 600)\n",
    "        + flavor_darcula()\n",
    "        + scale_size(range=[0.5, 1])\n",
    "        + theme(panel_border=element_rect(size=1), legend_position=\"top\")\n",
    "    )"
   ]
  },
  {
   "cell_type": "code",
   "execution_count": null,
   "id": "a519d32a5c340d5b",
   "metadata": {
    "collapsed": false
   },
   "outputs": [],
   "source": [
    "def plot_tune_metric_by_scenario(dataframe: pd.DataFrame, size_col: str = \"\") -> ggplot:\n",
    "    new_dataframe = combine_columns(\n",
    "        dataframe, [\"duration\", \"post_gpu_percent\"], \"metric\"\n",
    "    )\n",
    "    num_sparsity = len(new_dataframe[\"sparsity\"].unique())\n",
    "    return (\n",
    "        ggplot(new_dataframe)\n",
    "        + geom_line(\n",
    "            aes(\n",
    "                x=as_discrete(\"epoch\"),\n",
    "                y=\"metric_value\",\n",
    "                color=\"scenario\",\n",
    "                linetype=\"method\",\n",
    "                size=as_discrete(size_col, order=1) if size_col != \"\" else None,\n",
    "            ),\n",
    "            tooltips=layer_tooltips()\n",
    "            .line(\"@method @scenario\")\n",
    "            .format(\"@metric_value\", \".2f\")\n",
    "            .line(\"@metric_value\"),\n",
    "        )\n",
    "        + facet_grid(x=\"sparsity\", y=\"metric\", scales=\"free_y\", x_order=1, y_order=0)\n",
    "        + ggsize(200 * num_sparsity, 600)\n",
    "        + flavor_darcula()\n",
    "        + scale_size(range=[0.5, 1])\n",
    "        + theme(panel_border=element_rect(size=1), legend_position=\"top\")\n",
    "    )"
   ]
  },
  {
   "cell_type": "code",
   "execution_count": null,
   "id": "a4e11096dbc2c19f",
   "metadata": {
    "collapsed": false
   },
   "outputs": [],
   "source": [
    "def plot_weasel_tune_score_by_scenario(\n",
    "    dataframe: pd.DataFrame, value_col: str, size_col: str = \"\"\n",
    ") -> ggplot:\n",
    "    num_epoch = len(dataframe[\"epoch\"].unique())\n",
    "    num_sparsity = len(dataframe[\"sparsity\"].unique())\n",
    "    return (\n",
    "        ggplot(dataframe)\n",
    "        + geom_line(\n",
    "            aes(\n",
    "                x=as_discrete(\"tune_epoch\"),\n",
    "                y=value_col,\n",
    "                color=\"scenario\",\n",
    "                size=as_discrete(size_col, order=1) if size_col != \"\" else None,\n",
    "            )\n",
    "        )\n",
    "        + facet_grid(x=\"epoch\", y=\"sparsity\", scales=\"fixed\", x_order=1, y_order=1)\n",
    "        + ggsize(250 * num_epoch, 200 * num_sparsity + 50)\n",
    "        + flavor_darcula()\n",
    "        + scale_size(range=[0.5, 1])\n",
    "        + theme(panel_border=element_rect(size=1), legend_position=\"top\")\n",
    "    )"
   ]
  },
  {
   "cell_type": "code",
   "execution_count": null,
   "id": "1868d1af6a1dbd3e",
   "metadata": {
    "collapsed": false
   },
   "outputs": [],
   "source": [
    "def plot_tune_score_by_sparsity(dataframe: pd.DataFrame) -> SupPlotsSpec:\n",
    "    new_dataframe = combine_columns(dataframe, [\"iou_od\", \"iou_oc\"], \"iou\")\n",
    "    plot_list = []\n",
    "    sorted_sparsity_modes = sorted(new_dataframe[\"sparsity_mode\"].unique())\n",
    "    num_sparsity = len(sorted_sparsity_modes)\n",
    "    for index, sparsity_mode in enumerate(sorted_sparsity_modes):\n",
    "        sparsity_plot = (\n",
    "            ggplot(new_dataframe[new_dataframe[\"sparsity_mode\"] == sparsity_mode])\n",
    "            + geom_line(\n",
    "                aes(\n",
    "                    x=\"sparsity_value\",\n",
    "                    y=\"iou_value\",\n",
    "                    color=\"method\",\n",
    "                    linetype=as_discrete(\"epoch\", order=-1),\n",
    "                ),\n",
    "                tooltips=layer_tooltips().line(\"@method ep=@epoch\").line(\"@iou_value\"),\n",
    "            )\n",
    "            + ggtitle(sparsity_mode)\n",
    "            + facet_grid(x=\"n_shots\", y=\"iou\", scales=\"free_x\", x_order=0, y_order=0)\n",
    "            + ylim(0, 1)\n",
    "            + flavor_darcula()\n",
    "            + theme(panel_border=element_rect(size=1), title=element_text(hjust=0.5))\n",
    "        )\n",
    "        if (\n",
    "            index == num_sparsity - 1\n",
    "            or index == num_sparsity - 2\n",
    "            and num_sparsity % 2 == 0\n",
    "        ):\n",
    "            sparsity_plot += theme(legend_position=\"bottom\")\n",
    "        else:\n",
    "            sparsity_plot += theme(legend_position=\"none\")\n",
    "        plot_list.append(sparsity_plot)\n",
    "    num_rows = num_sparsity // 2 + num_sparsity % 2\n",
    "    row_relative_heights = [1 for _ in range(num_rows - 1)] + [1.25]\n",
    "    return (\n",
    "        gggrid(plot_list, ncol=2, vspace=30, heights=row_relative_heights)\n",
    "        + ggsize(1200, 400 * num_rows)\n",
    "        + flavor_darcula()\n",
    "    )"
   ]
  },
  {
   "cell_type": "code",
   "execution_count": null,
   "id": "a09719d075f05ac1",
   "metadata": {
    "collapsed": false
   },
   "outputs": [],
   "source": [
    "def plot_tune_metric_by_sparsity(dataframe: pd.DataFrame, size_col: str = \"\") -> ggplot:\n",
    "    new_dataframe = combine_columns(\n",
    "        dataframe, [\"duration\", \"post_gpu_percent\"], \"metric\"\n",
    "    )\n",
    "    new_dataframe[\"method__sparsity_value\"] = (\n",
    "        new_dataframe[\"method\"] + \" s=\" + new_dataframe[\"sparsity_value\"].astype(str)\n",
    "    )\n",
    "    num_sparsity = len(new_dataframe[\"sparsity_mode\"].unique())\n",
    "    return (\n",
    "        ggplot(new_dataframe)\n",
    "        + geom_line(\n",
    "            aes(\n",
    "                x=\"n_shots\",\n",
    "                y=\"metric_value\",\n",
    "                color=\"method__sparsity_value\",\n",
    "                linetype=as_discrete(\"epoch\", order=-1),\n",
    "                size=as_discrete(size_col, order=1) if size_col != \"\" else None,\n",
    "            ),\n",
    "            tooltips=layer_tooltips()\n",
    "            .line(\"@method ep=@epoch s=@sparsity_value\")\n",
    "            .format(\"@metric_value\", \".2f\")\n",
    "            .line(\"@metric_value\"),\n",
    "        )\n",
    "        + facet_grid(\n",
    "            x=\"sparsity_mode\", y=\"metric\", scales=\"free_y\", x_order=1, y_order=0\n",
    "        )\n",
    "        + ggsize(200 * num_sparsity, 700)\n",
    "        + flavor_darcula()\n",
    "        + scale_size(range=[0.5, 1])\n",
    "        + scale_color_discrete(guide=guide_legend(ncol=6))\n",
    "        + theme(panel_border=element_rect(size=1), legend_position=\"top\")\n",
    "    )"
   ]
  },
  {
   "cell_type": "markdown",
   "id": "74deedf000d6ac26",
   "metadata": {
    "collapsed": false
   },
   "source": [
    "## Exp - Scenario\n"
   ]
  },
  {
   "cell_type": "code",
   "execution_count": null,
   "id": "b71b3f38b0226d3f",
   "metadata": {
    "collapsed": false
   },
   "outputs": [],
   "source": [
    "prefix = \"v3 RO-DR L\"\n",
    "suffixes = [\"all\"] + sparsity_modes + list(map(lambda x: x + \"-var\", sparsity_modes))\n",
    "slice_dict = {\"weasel all\": (0, 70), \"protoseg all\": (0, 25)}"
   ]
  },
  {
   "cell_type": "markdown",
   "id": "fe0b691bd81e2d87",
   "metadata": {
    "collapsed": false
   },
   "source": [
    "### Meta\n"
   ]
  },
  {
   "cell_type": "code",
   "execution_count": null,
   "id": "a57506730ad4d8a4",
   "metadata": {
    "collapsed": false
   },
   "outputs": [],
   "source": [
    "paths, names = get_paths_and_names_with(prefix, suffixes, \"train_loss.csv\")\n",
    "combined_df = get_meta_dataframe((paths, names))\n",
    "\n",
    "print(names)\n",
    "combined_df"
   ]
  },
  {
   "cell_type": "code",
   "execution_count": null,
   "id": "c4580ba83f66212a",
   "metadata": {
    "collapsed": false
   },
   "outputs": [],
   "source": [
    "plot_meta_loss(combined_df)"
   ]
  },
  {
   "cell_type": "markdown",
   "id": "872b92dbf2231f04",
   "metadata": {
    "collapsed": false
   },
   "source": [
    "-   \"weasel\" method is less stable than \"protoseg\" method, but better at optimizing \"all\" scenarios and others.\n",
    "-   \"protoseg\" method has trouble optimizing \"all\" scenarios and \"contour\" scenario.\n",
    "-   \"all\" scenarios is less stable than \"separated\" scenarios, especially for \"protoseg\" method.\n",
    "-   \"all-more-embeds\" scenario for \"protoseg\" method is not significantly different than \"all\" scenario.\n"
   ]
  },
  {
   "cell_type": "code",
   "execution_count": null,
   "id": "ba40d980ebfefde8",
   "metadata": {
    "collapsed": false
   },
   "outputs": [],
   "source": [
    "plot_meta_metric(combined_df, \"batch_size\")"
   ]
  },
  {
   "cell_type": "markdown",
   "id": "3d9f792707869000",
   "metadata": {
    "collapsed": false
   },
   "source": [
    "-   \"weasel\" method is slower than \"protoseg\" method, but the GPU usage is little bit lower, note that \"protoseg\" method has a much higher batch size.\n",
    "-   Order of scenarios from slowest to fastest: \"region\" > \"all\" = \"skeleton\" > \"contour\" > \"point\" > \"grid\".\n",
    "-   Note that \"all\" scenarios include \"point_old\" and \"grid_old\".\n",
    "-   \"region\" scenario is significantly slower than others.\n",
    "-   \"all-more-embeds\" scenario use same amount of time, but higher GPU usage than the \"all\" scenario.\n",
    "-   \"point\" scenarios has significantly higher GPU usage than others.\n"
   ]
  },
  {
   "cell_type": "markdown",
   "id": "1f0befbd22ea574f",
   "metadata": {
    "collapsed": false
   },
   "source": []
  },
  {
   "cell_type": "markdown",
   "id": "1abc44408c829345",
   "metadata": {
    "collapsed": false
   },
   "source": [
    "### Tune\n"
   ]
  },
  {
   "cell_type": "code",
   "execution_count": null,
   "id": "673f5c5f5d3034ad",
   "metadata": {
    "collapsed": false
   },
   "outputs": [],
   "source": [
    "paths, names = get_paths_and_names_with(prefix, suffixes, \"tuned_score.csv\")\n",
    "combined_df = get_tune_dataframe((paths, names), data_slice_dict=slice_dict)\n",
    "combined_df_full = combined_df.copy()\n",
    "# combined_df = combined_df[combined_df['n_shots'] == 10]\n",
    "\n",
    "print(names)\n",
    "combined_df"
   ]
  },
  {
   "cell_type": "code",
   "execution_count": null,
   "id": "16a0a0e9454eefbd",
   "metadata": {
    "collapsed": false
   },
   "outputs": [],
   "source": [
    "plot_tune_score_by_scenario(combined_df, \"n_shots\")"
   ]
  },
  {
   "cell_type": "code",
   "execution_count": null,
   "id": "a6184c5c14ef8c98",
   "metadata": {
    "collapsed": false
   },
   "outputs": [],
   "source": [
    "combined_df_flat = combine_columns(combined_df, [\"iou_od\", \"iou_oc\"], \"iou\")\n",
    "combined_df_flat = combined_df_flat[combined_df_flat[\"n_shots\"] == 10]\n",
    "point_grid_df_flat = combined_df_flat[combined_df_flat[\"scenario\"] == \"all\"]\n",
    "point_grid_df_flat = point_grid_df_flat[\n",
    "    point_grid_df_flat[\"sparsity_mode\"].isin([\"point\", \"grid\", \"point_old\", \"grid_old\"])\n",
    "]\n",
    "point_grid_df_flat[\"sparsity_newness\"] = point_grid_df_flat[\"sparsity_mode\"].apply(\n",
    "    lambda x: \"new\" if \"old\" not in x else \"old\"\n",
    ")\n",
    "point_grid_df_flat[\"sparsity_mode\"] = point_grid_df_flat[\"sparsity_mode\"].apply(\n",
    "    lambda x: x.replace(\"_old\", \"\")\n",
    ")\n",
    "point_grid_df_flat[\"method__sparsity_mode\"] = (\n",
    "    point_grid_df_flat[\"method\"] + \" \" + point_grid_df_flat[\"sparsity_mode\"]\n",
    ")\n",
    "\n",
    "(\n",
    "    ggplot(point_grid_df_flat)\n",
    "    + geom_line(aes(x=as_discrete(\"epoch\"), y=\"iou_value\", color=\"sparsity_newness\"))\n",
    "    + facet_grid(\n",
    "        x=\"method__sparsity_mode\", y=\"iou\", scales=\"fixed\", x_order=0, y_order=0\n",
    "    )\n",
    "    + ggsize(1200, 600)\n",
    "    + flavor_darcula()\n",
    "    + theme(panel_border=element_rect(size=1), legend_position=\"top\")\n",
    ")"
   ]
  },
  {
   "cell_type": "code",
   "execution_count": null,
   "id": "1c69c77e81606594",
   "metadata": {
    "collapsed": false
   },
   "outputs": [],
   "source": [
    "plot_tune_metric_by_scenario(combined_df_full, \"n_shots\")"
   ]
  },
  {
   "cell_type": "markdown",
   "id": "dc35378fcc6ee3a3",
   "metadata": {
    "collapsed": false
   },
   "source": []
  },
  {
   "cell_type": "markdown",
   "id": "1bd0fd31e9ab5bd",
   "metadata": {
    "collapsed": false
   },
   "source": [
    "### Weasel Tune\n"
   ]
  },
  {
   "cell_type": "code",
   "execution_count": null,
   "id": "5e88d42b67dc68d4",
   "metadata": {
    "collapsed": false
   },
   "outputs": [],
   "source": [
    "paths, names = get_paths_and_names_with(\"v3 RO-DR L WS\", suffixes, \"tuning_score.csv\")\n",
    "\n",
    "combined_df = get_weasel_tune_dataframe(\n",
    "    (paths, names), data_slice_dict={\"all\": (0, 70)}\n",
    ")\n",
    "combined_df = combined_df[combined_df[\"n_shots\"] == 10]\n",
    "\n",
    "print(names)\n",
    "combined_df"
   ]
  },
  {
   "cell_type": "code",
   "execution_count": null,
   "id": "da225e4c8cc66f09",
   "metadata": {
    "collapsed": false
   },
   "outputs": [],
   "source": [
    "plot_weasel_tune_score_by_scenario(combined_df, \"iou_oc\")"
   ]
  },
  {
   "cell_type": "markdown",
   "id": "30bf621f15b9bfd0",
   "metadata": {
    "collapsed": false
   },
   "source": [
    "## Exp - Loss - Short\n"
   ]
  },
  {
   "cell_type": "code",
   "execution_count": null,
   "id": "2ced901b344868e3",
   "metadata": {
    "collapsed": false
   },
   "outputs": [],
   "source": [
    "prefix = \"v3 RO-DR S\"\n",
    "suffixes = [\"all\", \"all-bce\", \"all-bce_2\", \"all-iou\", \"all-iou_bce\"]"
   ]
  },
  {
   "cell_type": "markdown",
   "id": "1c140b6662f879d9",
   "metadata": {
    "collapsed": false
   },
   "source": [
    "### Meta\n"
   ]
  },
  {
   "cell_type": "code",
   "execution_count": null,
   "id": "9bd9c911d6c3773e",
   "metadata": {
    "collapsed": false
   },
   "outputs": [],
   "source": [
    "paths, names = get_paths_and_names_with(prefix, suffixes, \"train_loss.csv\")\n",
    "combined_df = get_meta_dataframe((paths, names))\n",
    "\n",
    "print(names)\n",
    "combined_df"
   ]
  },
  {
   "cell_type": "code",
   "execution_count": null,
   "id": "2e8d46f169422337",
   "metadata": {
    "collapsed": false
   },
   "outputs": [],
   "source": [
    "plot_meta_loss_multiple(combined_df)"
   ]
  },
  {
   "cell_type": "code",
   "execution_count": null,
   "id": "4900530d59280503",
   "metadata": {
    "collapsed": false
   },
   "outputs": [],
   "source": [
    "plot_meta_metric(combined_df)"
   ]
  },
  {
   "cell_type": "markdown",
   "id": "6f7b2fd157690e89",
   "metadata": {
    "collapsed": false
   },
   "source": []
  },
  {
   "cell_type": "markdown",
   "id": "dcc71974e83e457c",
   "metadata": {
    "collapsed": false
   },
   "source": [
    "### Tune\n"
   ]
  },
  {
   "cell_type": "code",
   "execution_count": null,
   "id": "d1b0f6915d71180a",
   "metadata": {
    "collapsed": false
   },
   "outputs": [],
   "source": [
    "paths, names = get_paths_and_names_with(prefix, suffixes, \"tuned_score.csv\")\n",
    "combined_df = get_tune_dataframe((paths, names))\n",
    "\n",
    "print(names)\n",
    "combined_df"
   ]
  },
  {
   "cell_type": "code",
   "execution_count": null,
   "id": "2cda62a49cc7d7a2",
   "metadata": {
    "collapsed": false
   },
   "outputs": [],
   "source": [
    "plot_tune_score_by_scenario(combined_df)"
   ]
  },
  {
   "cell_type": "code",
   "execution_count": null,
   "id": "967a08c27c3124d5",
   "metadata": {
    "collapsed": false
   },
   "outputs": [],
   "source": [
    "plot_tune_metric_by_scenario(combined_df)"
   ]
  },
  {
   "cell_type": "markdown",
   "id": "1e49929c6db21579",
   "metadata": {
    "collapsed": false
   },
   "source": []
  },
  {
   "cell_type": "markdown",
   "id": "332f017de05086fb",
   "metadata": {
    "collapsed": false
   },
   "source": [
    "### Weasel Tune\n"
   ]
  },
  {
   "cell_type": "code",
   "execution_count": null,
   "id": "fcc401de1c195b5d",
   "metadata": {
    "collapsed": false
   },
   "outputs": [],
   "source": [
    "paths, names = get_paths_and_names_with(\"v3 RO-DR S WS\", suffixes, \"tuning_score.csv\")\n",
    "combined_df = get_weasel_tune_dataframe((paths, names))\n",
    "\n",
    "print(names)\n",
    "combined_df"
   ]
  },
  {
   "cell_type": "code",
   "execution_count": null,
   "id": "9c7283d4df43d22",
   "metadata": {
    "collapsed": false
   },
   "outputs": [],
   "source": [
    "plot_weasel_tune_score_by_scenario(combined_df, \"iou_od\")"
   ]
  },
  {
   "cell_type": "markdown",
   "id": "d20edc3d97c7b70d",
   "metadata": {
    "collapsed": false
   },
   "source": [
    "## Exp - Loss - Long\n"
   ]
  },
  {
   "cell_type": "code",
   "execution_count": null,
   "id": "f2fb7f40ec0514ca",
   "metadata": {
    "collapsed": false
   },
   "outputs": [],
   "source": [
    "prefix = \"v3 RO-DR L\"\n",
    "suffixes = [\"all\", \"all-iou\", \"all-poor\"]\n",
    "slice_dict = {\"weasel all\": (0, 70), \"protoseg all\": (0, 25)}"
   ]
  },
  {
   "cell_type": "markdown",
   "id": "d2933af6e322f686",
   "metadata": {
    "collapsed": false
   },
   "source": [
    "### Meta\n"
   ]
  },
  {
   "cell_type": "code",
   "execution_count": null,
   "id": "2272f43c1d36d3a1",
   "metadata": {
    "collapsed": false
   },
   "outputs": [],
   "source": [
    "paths, names = get_paths_and_names_with(prefix, suffixes, \"train_loss.csv\")\n",
    "combined_df = get_meta_dataframe((paths, names))\n",
    "\n",
    "print(names)\n",
    "combined_df"
   ]
  },
  {
   "cell_type": "code",
   "execution_count": null,
   "id": "21734a7929302d64",
   "metadata": {
    "collapsed": false
   },
   "outputs": [],
   "source": [
    "plot_meta_loss_multiple(combined_df)"
   ]
  },
  {
   "cell_type": "code",
   "execution_count": null,
   "id": "9c8392f34831e441",
   "metadata": {
    "collapsed": false
   },
   "outputs": [],
   "source": [
    "plot_meta_metric(combined_df, \"batch_size\")"
   ]
  },
  {
   "cell_type": "markdown",
   "id": "96949ae5894dc028",
   "metadata": {
    "collapsed": false
   },
   "source": []
  },
  {
   "cell_type": "markdown",
   "id": "5c2a5aa235db76a4",
   "metadata": {
    "collapsed": false
   },
   "source": [
    "### Tune\n"
   ]
  },
  {
   "cell_type": "code",
   "execution_count": null,
   "id": "ee7b326140caf20e",
   "metadata": {
    "collapsed": false
   },
   "outputs": [],
   "source": [
    "paths, names = get_paths_and_names_with(prefix, suffixes, \"tuned_score.csv\")\n",
    "combined_df = get_tune_dataframe((paths, names), data_slice_dict=slice_dict)\n",
    "\n",
    "print(names)\n",
    "combined_df"
   ]
  },
  {
   "cell_type": "code",
   "execution_count": null,
   "id": "c1b58c15f117ebb6",
   "metadata": {
    "collapsed": false
   },
   "outputs": [],
   "source": [
    "plot_tune_score_by_scenario(combined_df, \"n_shots\")"
   ]
  },
  {
   "cell_type": "code",
   "execution_count": null,
   "id": "5ab24b530d23b3f3",
   "metadata": {
    "collapsed": false
   },
   "outputs": [],
   "source": [
    "plot_tune_metric_by_scenario(combined_df, \"n_shots\")"
   ]
  },
  {
   "cell_type": "markdown",
   "id": "8c3475399ba3bfb7",
   "metadata": {
    "collapsed": false
   },
   "source": []
  },
  {
   "cell_type": "markdown",
   "id": "7329fbcf2362a40b",
   "metadata": {
    "collapsed": false
   },
   "source": [
    "### Weasel Tune\n"
   ]
  },
  {
   "cell_type": "code",
   "execution_count": null,
   "id": "256d630c5f7dd6d3",
   "metadata": {
    "collapsed": false
   },
   "outputs": [],
   "source": [
    "paths, names = get_paths_and_names_with(\"v3 RO-DR L WS\", suffixes, \"tuning_score.csv\")\n",
    "combined_df = get_weasel_tune_dataframe(\n",
    "    (paths, names), data_slice_dict={\"all\": (0, 350)}\n",
    ")\n",
    "\n",
    "print(names)\n",
    "combined_df"
   ]
  },
  {
   "cell_type": "code",
   "execution_count": null,
   "id": "49fdd9e1b13fec26",
   "metadata": {
    "collapsed": false
   },
   "outputs": [],
   "source": [
    "plot_weasel_tune_score_by_scenario(combined_df, \"iou_od\", \"n_shots\")"
   ]
  },
  {
   "cell_type": "markdown",
   "id": "2d38e8289e5c0b79",
   "metadata": {
    "collapsed": false
   },
   "source": [
    "## Exp - Sparsity Value\n"
   ]
  },
  {
   "cell_type": "code",
   "execution_count": null,
   "id": "8b621bdd65b1e776",
   "metadata": {
    "collapsed": false
   },
   "outputs": [],
   "source": [
    "prefix = \"v3 RO-DR L\"\n",
    "suffixes = [\"all\"]\n",
    "slice_dict = {\"weasel all\": (70, None), \"protoseg all\": (25, None)}"
   ]
  },
  {
   "cell_type": "markdown",
   "id": "1e25ed1171eba50b",
   "metadata": {
    "collapsed": false
   },
   "source": [
    "### Tune\n"
   ]
  },
  {
   "cell_type": "code",
   "execution_count": null,
   "id": "65d0ba09a5697115",
   "metadata": {
    "collapsed": false
   },
   "outputs": [],
   "source": [
    "paths, names = get_paths_and_names_with(prefix, suffixes, \"tuned_score.csv\")\n",
    "combined_df = get_tune_dataframe((paths, names), data_slice_dict=slice_dict)\n",
    "\n",
    "print(names)\n",
    "combined_df"
   ]
  },
  {
   "cell_type": "code",
   "execution_count": null,
   "id": "93282bdf00348aa3",
   "metadata": {
    "collapsed": false
   },
   "outputs": [],
   "source": [
    "plot_tune_score_by_sparsity(\n",
    "    combined_df[(combined_df[\"method\"] == \"weasel\") & (combined_df[\"epoch\"] == 200)]\n",
    ")"
   ]
  },
  {
   "cell_type": "code",
   "execution_count": null,
   "id": "6a8f72b60077cf71",
   "metadata": {
    "collapsed": false
   },
   "outputs": [],
   "source": [
    "plot_tune_metric_by_sparsity(combined_df, \"batch_size\")"
   ]
  },
  {
   "cell_type": "markdown",
   "id": "96c0b491ad0bb434",
   "metadata": {
    "collapsed": false
   },
   "source": [
    "### Tune Distribution\n"
   ]
  },
  {
   "cell_type": "code",
   "execution_count": null,
   "id": "3ac40c4f05c061d0",
   "metadata": {
    "collapsed": false
   },
   "outputs": [],
   "source": [
    "iou_od_low, iou_oc_low = 0.8647, 0.5202\n",
    "iou_od_high, iou_oc_high = 0.9386, 0.8382"
   ]
  },
  {
   "cell_type": "code",
   "execution_count": null,
   "id": "f3daebc4eec859b8",
   "metadata": {
    "collapsed": false
   },
   "outputs": [],
   "source": [
    "combined_df_2 = combine_columns(combined_df, [\"iou_od\", \"iou_oc\"], \"iou\")\n",
    "combined_df_2[\"iou_low\"] = combined_df_2.apply(\n",
    "    lambda x: iou_od_low if x[\"iou\"] == \"iou_od\" else iou_oc_low, axis=1\n",
    ")\n",
    "combined_df_2[\"iou_high\"] = combined_df_2.apply(\n",
    "    lambda x: iou_od_high if x[\"iou\"] == \"iou_od\" else iou_oc_high, axis=1\n",
    ")"
   ]
  },
  {
   "cell_type": "code",
   "execution_count": null,
   "id": "d1d6fe6bc849064b",
   "metadata": {
    "collapsed": false
   },
   "outputs": [],
   "source": [
    "(\n",
    "    ggplot(combined_df_2[combined_df_2[\"sparsity_mode\"] != \"skeleton\"])\n",
    "    + geom_density(\n",
    "        aes(x=\"iou_value\", group=\"method\", color=\"method\", fill=\"method\"), alpha=0.3\n",
    "    )\n",
    "    + geom_vline(aes(xintercept=\"iou_low\"), size=0.5, linetype=\"longdash\")\n",
    "    + geom_vline(aes(xintercept=\"iou_high\"), size=0.5, linetype=\"longdash\")\n",
    "    + facet_grid(x=\"iou\", scales=\"fixed\")\n",
    "    + ggsize(1200, 400)\n",
    "    + flavor_darcula()\n",
    "    + theme(legend_position=\"top\")\n",
    ")"
   ]
  },
  {
   "cell_type": "code",
   "execution_count": null,
   "id": "687014ad095b0100",
   "metadata": {
    "collapsed": false
   },
   "outputs": [],
   "source": [
    "(\n",
    "    ggplot(combined_df_2)\n",
    "    + geom_density(\n",
    "        aes(x=\"iou_value\", group=\"method\", color=\"method\", fill=\"method\"), alpha=0.3\n",
    "    )\n",
    "    + geom_vline(aes(xintercept=\"iou_low\"), size=0.5, linetype=\"longdash\")\n",
    "    + geom_vline(aes(xintercept=\"iou_high\"), size=0.5, linetype=\"longdash\")\n",
    "    + facet_grid(x=\"iou\", y=\"sparsity_mode\", scales=\"fixed\")\n",
    "    + ggsize(1200, 1400)\n",
    "    + flavor_darcula()\n",
    "    + theme(legend_position=\"top\")\n",
    ")"
   ]
  },
  {
   "cell_type": "code",
   "execution_count": null,
   "id": "ae2406c8fd0d3ffe",
   "metadata": {
    "collapsed": false
   },
   "outputs": [],
   "source": [
    "alpha = 0.05\n",
    "get_t_value = lambda n: scipy.stats.t.ppf(1 - alpha / 2, n - 1)\n",
    "\n",
    "combined_df_3 = combined_df.groupby([\"method\", \"sparsity_mode\"])[\n",
    "    [\"iou_od\", \"iou_oc\"]\n",
    "].agg(\n",
    "    count=(\"iou_od\", \"count\"),\n",
    "    iou_od_mean=(\"iou_od\", \"mean\"),\n",
    "    iou_oc_mean=(\"iou_oc\", \"mean\"),\n",
    "    iou_od_std=(\"iou_od\", \"std\"),\n",
    "    iou_oc_std=(\"iou_oc\", \"std\"),\n",
    ")\n",
    "\n",
    "combined_df_3_od = combined_df_3.drop(columns=[\"iou_oc_mean\", \"iou_oc_std\"])\n",
    "combined_df_3_od = combined_df_3_od.rename(\n",
    "    columns={\"iou_od_mean\": \"mean_value\", \"iou_od_std\": \"std_value\"}\n",
    ")\n",
    "combined_df_3_od[\"iou\"] = \"iou_od\"\n",
    "combined_df_3_oc = combined_df_3.drop(columns=[\"iou_od_mean\", \"iou_od_std\"])\n",
    "combined_df_3_oc = combined_df_3_oc.rename(\n",
    "    columns={\"iou_oc_mean\": \"mean_value\", \"iou_oc_std\": \"std_value\"}\n",
    ")\n",
    "combined_df_3_oc[\"iou\"] = \"iou_oc\"\n",
    "combined_df_3 = pd.concat([combined_df_3_od, combined_df_3_oc])\n",
    "\n",
    "combined_df_3[\"iou_low\"] = combined_df_3.apply(\n",
    "    lambda x: iou_od_low if x[\"iou\"] == \"iou_od\" else iou_oc_low, axis=1\n",
    ")\n",
    "combined_df_3[\"iou_high\"] = combined_df_3.apply(\n",
    "    lambda x: iou_od_high if x[\"iou\"] == \"iou_od\" else iou_oc_high, axis=1\n",
    ")\n",
    "\n",
    "combined_df_3[\"mean_error\"] = combined_df_3.apply(\n",
    "    lambda x: get_t_value(x[\"count\"]) * x[\"std_value\"] / x[\"count\"] ** 0.5, axis=1\n",
    ")\n",
    "combined_df_3[\"mean_low_limit\"] = (\n",
    "    combined_df_3[\"mean_value\"] - combined_df_3[\"mean_error\"]\n",
    ")\n",
    "combined_df_3[\"mean_high_limit\"] = (\n",
    "    combined_df_3[\"mean_value\"] + combined_df_3[\"mean_error\"]\n",
    ")\n",
    "\n",
    "combined_df_3.reset_index(inplace=True)\n",
    "combined_df_3"
   ]
  },
  {
   "cell_type": "code",
   "execution_count": null,
   "id": "bdbdf9db0282eff9",
   "metadata": {
    "collapsed": false
   },
   "outputs": [],
   "source": [
    "(\n",
    "    ggplot(combined_df_3)\n",
    "    + geom_pointrange(\n",
    "        aes(\n",
    "            x=\"sparsity_mode\",\n",
    "            y=\"mean_value\",\n",
    "            ymin=\"mean_low_limit\",\n",
    "            ymax=\"mean_high_limit\",\n",
    "            color=\"sparsity_mode\",\n",
    "        )\n",
    "    )\n",
    "    + geom_hline(aes(yintercept=\"iou_low\"), size=0.5, linetype=\"longdash\")\n",
    "    + geom_hline(aes(yintercept=\"iou_high\"), size=0.5, linetype=\"longdash\")\n",
    "    + facet_grid(x=\"method\", y=\"iou\", scales=\"fixed\")\n",
    "    + ggsize(1200, 800)\n",
    "    + flavor_darcula()\n",
    ")"
   ]
  },
  {
   "cell_type": "markdown",
   "id": "fe8443fdf07fabd1",
   "metadata": {
    "collapsed": false
   },
   "source": [
    "## Exploration - All Exp\n"
   ]
  },
  {
   "cell_type": "code",
   "execution_count": null,
   "id": "10ad3a3abc6b0727",
   "metadata": {
    "collapsed": false
   },
   "outputs": [],
   "source": [
    "prefix = \"v3 RO-DR L\"\n",
    "suffixes = None"
   ]
  },
  {
   "cell_type": "code",
   "execution_count": null,
   "id": "16348b0662588d19",
   "metadata": {
    "collapsed": false
   },
   "outputs": [],
   "source": [
    "paths, names = get_paths_and_names_with(prefix, suffixes, \"tuned_score.csv\")\n",
    "combined_df = get_tune_dataframe((paths, names))\n",
    "\n",
    "print(names)\n",
    "combined_df"
   ]
  },
  {
   "cell_type": "code",
   "execution_count": null,
   "id": "dddc2fbb7f63c685",
   "metadata": {
    "collapsed": false
   },
   "outputs": [],
   "source": [
    "# threshold_od, threshold_oc = 0.94, 0.84\n",
    "threshold_od, threshold_oc = 0.9, 0.8\n",
    "score_good_df = combined_df[\n",
    "    (combined_df[\"iou_od\"] > threshold_od) & (combined_df[\"iou_oc\"] > threshold_oc)\n",
    "]\n",
    "\n",
    "print(score_good_df[\"iou_od\"].mean(), score_good_df[\"iou_oc\"].mean())\n",
    "\n",
    "score_good_df.groupby([\"method\", \"sparsity_mode\"])[[\"iou_od\", \"iou_oc\"]].agg(\n",
    "    count=(\"iou_od\", \"count\"),\n",
    "    iou_od_mean=(\"iou_od\", \"mean\"),\n",
    "    iou_oc_mean=(\"iou_oc\", \"mean\"),\n",
    ")"
   ]
  },
  {
   "cell_type": "code",
   "execution_count": null,
   "id": "72f2763b1099dcca",
   "metadata": {
    "collapsed": false
   },
   "outputs": [],
   "source": [
    "scenario_all_df = combined_df[combined_df[\"scenario\"] == \"all\"]\n",
    "scenario_all_df = scenario_all_df[\n",
    "    (scenario_all_df[\"iou_od\"] > 0.5) & (scenario_all_df[\"iou_oc\"] > 0.5)\n",
    "]\n",
    "\n",
    "scenario_all_df.groupby([\"method\", \"sparsity_mode\"])[[\"iou_od\", \"iou_oc\"]].agg(\n",
    "    count=(\"iou_od\", \"count\"),\n",
    "    iou_od_mean=(\"iou_od\", \"mean\"),\n",
    "    iou_oc_mean=(\"iou_oc\", \"mean\"),\n",
    ")"
   ]
  },
  {
   "cell_type": "code",
   "execution_count": null,
   "id": "2c43fc089b709e3",
   "metadata": {
    "collapsed": false
   },
   "outputs": [],
   "source": [
    "scenario_all_df = combined_df[combined_df[\"scenario\"] == \"all\"]\n",
    "\n",
    "scenario_all_df.groupby([\"method\", \"epoch\"])[[\"iou_od\", \"iou_oc\"]].agg(\n",
    "    count=(\"iou_od\", \"count\"),\n",
    "    iou_od_mean=(\"iou_od\", \"mean\"),\n",
    "    iou_oc_mean=(\"iou_oc\", \"mean\"),\n",
    ")"
   ]
  },
  {
   "cell_type": "markdown",
   "id": "60799b9e43d0a31e",
   "metadata": {
    "collapsed": false
   },
   "source": [
    "## Exploration - Plot\n"
   ]
  },
  {
   "cell_type": "code",
   "execution_count": null,
   "id": "6243503bbde7c1b6",
   "metadata": {
    "collapsed": false
   },
   "outputs": [],
   "source": [
    "weasel_train_loss = pd.read_csv(\"outputs/v1 RO-DR L WS/train_loss.csv\")\n",
    "protoseg_train_loss = pd.read_csv(\"outputs/v1 RO-DR L PS/train_loss.csv\")\n",
    "\n",
    "train_loss = combine_dataframes(\n",
    "    [(\"weasel\", weasel_train_loss), (\"protoseg\", protoseg_train_loss)], \"method\"\n",
    ")"
   ]
  },
  {
   "cell_type": "code",
   "execution_count": null,
   "id": "b7ecc33f16be81b0",
   "metadata": {
    "collapsed": false
   },
   "outputs": [],
   "source": [
    "(\n",
    "    ggplot(train_loss)\n",
    "    + geom_line(aes(x=\"epoch\", y=\"duration\", color=\"method\"))\n",
    "    + facet_grid(\"method\", scales=\"free\")\n",
    "    + ggsize(800, 300)\n",
    "    + flavor_darcula()\n",
    ")"
   ]
  },
  {
   "cell_type": "code",
   "execution_count": null,
   "id": "27ed6771d79d4582",
   "metadata": {
    "collapsed": false
   },
   "outputs": [],
   "source": [
    "(\n",
    "    ggplot(train_loss)\n",
    "    + geom_line(aes(x=\"epoch\", y=\"duration\", color=\"method\"))\n",
    "    + facet_grid(\"method\", scales=\"free\")\n",
    "    + ggsize(800, 300)\n",
    "    + flavor_darcula()\n",
    "    + theme(\n",
    "        legend_position=\"left\",\n",
    "        line=element_line(size=2),\n",
    "        # rect=element_rect(size=10),\n",
    "        text=element_text(size=10),\n",
    "        axis_text=element_text(size=5),\n",
    "        axis_title=element_text(size=20),\n",
    "        axis_line_y=element_line(size=2),\n",
    "        panel_border=element_rect(size=2, color=\"yellow\"),\n",
    "        plot_margin=margin(0.5, 0.5, 0.5, 0.5),\n",
    "        strip_text=\"blank\",\n",
    "    )\n",
    ")"
   ]
  },
  {
   "cell_type": "markdown",
   "id": "68c7179975fb75ae",
   "metadata": {
    "collapsed": false
   },
   "source": [
    "# Matplotlib\n"
   ]
  },
  {
   "cell_type": "markdown",
   "id": "9afca1f624e64b9a",
   "metadata": {
    "collapsed": false
   },
   "source": [
    "## Initialization\n"
   ]
  },
  {
   "cell_type": "markdown",
   "id": "5fd0c2bddbe58d68",
   "metadata": {
    "collapsed": false
   },
   "source": [
    "### Imports\n"
   ]
  },
  {
   "cell_type": "code",
   "execution_count": null,
   "id": "c4372a4704df7906",
   "metadata": {
    "collapsed": false
   },
   "outputs": [],
   "source": [
    "import matplotlib.pyplot as plt\n",
    "import pandas as pd\n",
    "\n",
    "plt.style.use(\"dark_background\")\n"
   ]
  },
  {
   "cell_type": "markdown",
   "id": "cfcf578b2d285fb8",
   "metadata": {
    "collapsed": false
   },
   "source": [
    "## Meta\n"
   ]
  },
  {
   "cell_type": "markdown",
   "id": "4fa663114e678694",
   "metadata": {
    "collapsed": false
   },
   "source": [
    "### Loss & Duration\n"
   ]
  },
  {
   "cell_type": "code",
   "execution_count": null,
   "id": "13cf499f9da62f31",
   "metadata": {
    "collapsed": false,
    "is_executing": true
   },
   "outputs": [],
   "source": [
    "weasel_train_loss = pd.read_csv(\"outputs/v1 RO-DR L WS/train_loss.csv\")\n",
    "protoseg_train_loss = pd.read_csv(\"outputs/v1 RO-DR L WS/train_loss.csv\")\n",
    "\n",
    "_, axs = plt.subplots(2, 2, figsize=(14, 10))\n",
    "\n",
    "axs[0][0].set_title(\"weasel - epoch vs loss\")\n",
    "axs[0][0].plot(weasel_train_loss[\"epoch\"], weasel_train_loss[\"loss\"])\n",
    "\n",
    "axs[0][1].set_title(\"protoseg - epoch vs loss\")\n",
    "axs[0][1].plot(protoseg_train_loss[\"epoch\"], protoseg_train_loss[\"loss\"])\n",
    "\n",
    "axs[1][0].set_title(\"epoch vs duration in ms\")\n",
    "axs[1][0].plot(\n",
    "    weasel_train_loss[\"epoch\"], weasel_train_loss[\"duration\"], label=\"weasel\"\n",
    ")\n",
    "axs[1][0].plot(\n",
    "    protoseg_train_loss[\"epoch\"], protoseg_train_loss[\"duration\"], label=\"protoseg\"\n",
    ")\n",
    "axs[1][0].legend()"
   ]
  },
  {
   "cell_type": "markdown",
   "id": "5f1aba0fe5cdcc56",
   "metadata": {
    "collapsed": false
   },
   "source": [
    "## Tune\n"
   ]
  },
  {
   "cell_type": "markdown",
   "id": "f7d191b095f209ea",
   "metadata": {
    "collapsed": false
   },
   "source": [
    "### Score\n"
   ]
  },
  {
   "cell_type": "code",
   "execution_count": null,
   "id": "60f7732d11c47a5c",
   "metadata": {
    "collapsed": false,
    "is_executing": true
   },
   "outputs": [],
   "source": [
    "weasel_tuned_score = pd.read_csv(\"outputs/v1 RO-DR L WS/tuned_score.csv\")\n",
    "protoseg_tuned_score = pd.read_csv(\"outputs/v1 RO-DR L WS/tuned_score.csv\")\n",
    "\n",
    "sparsity_modes = [\"point\", \"grid\", \"contour\", \"skeleton\", \"region\", \"dense\"]\n",
    "\n",
    "_, axs = plt.subplots(3, 2, figsize=(12, 15))\n",
    "\n",
    "for sm in sparsity_modes:\n",
    "    weasel_df = weasel_tuned_score[weasel_tuned_score[\"sparsity_mode\"] == sm]\n",
    "    weasel_epochs = [str(ep) for ep in weasel_df[\"epoch\"]]\n",
    "    axs[0][0].plot(weasel_epochs, weasel_df[\"iou_od\"], label=sm)\n",
    "    axs[1][0].plot(weasel_epochs, weasel_df[\"iou_oc\"], label=sm)\n",
    "    axs[2][0].plot(weasel_epochs, weasel_df[\"duration\"], label=sm)\n",
    "\n",
    "    protoseg_df = protoseg_tuned_score[protoseg_tuned_score[\"sparsity_mode\"] == sm]\n",
    "    protoseg_epochs = [str(ep) for ep in protoseg_df[\"epoch\"]]\n",
    "    axs[0][1].plot(protoseg_epochs, protoseg_df[\"iou_od\"], label=sm)\n",
    "    axs[1][1].plot(protoseg_epochs, protoseg_df[\"iou_oc\"], label=sm)\n",
    "    axs[2][1].plot(protoseg_epochs, protoseg_df[\"duration\"], label=sm)\n",
    "\n",
    "axs[0][0].set_title(\"weasel - epoch vs optic disc IoU\")\n",
    "axs[1][0].set_title(\"weasel - epoch vs optic cup IoU\")\n",
    "axs[2][0].set_title(\"weasel - epoch vs duration\")\n",
    "axs[0][0].legend()\n",
    "axs[1][0].legend()\n",
    "axs[2][0].legend()\n",
    "axs[0][0].set_ylim([0, 1])\n",
    "axs[1][0].set_ylim([0, 1])\n",
    "axs[0][1].set_title(\"protoseg - epoch vs optic disc IoU\")\n",
    "axs[1][1].set_title(\"protoseg - epoch vs optic cup IoU\")\n",
    "axs[2][1].set_title(\"protoseg - epoch vs duration\")\n",
    "axs[0][1].legend()\n",
    "axs[1][1].legend()\n",
    "axs[2][1].legend()\n",
    "axs[0][1].set_ylim([0, 1])\n",
    "axs[1][1].set_ylim([0, 1])"
   ]
  },
  {
   "cell_type": "markdown",
   "id": "6c67ba52b764be36",
   "metadata": {
    "collapsed": false
   },
   "source": [
    "## Weasel Tune\n"
   ]
  },
  {
   "cell_type": "markdown",
   "id": "9c7f57c3e92ed5ea",
   "metadata": {
    "collapsed": false
   },
   "source": [
    "### Score\n"
   ]
  },
  {
   "cell_type": "code",
   "execution_count": null,
   "id": "ed3fed381eec70ae",
   "metadata": {
    "collapsed": false,
    "is_executing": true
   },
   "outputs": [],
   "source": [
    "weasel_tuning_score = pd.read_csv(\"outputs/v1 RO-DR L WS/tuning_score.csv\")\n",
    "weasel_epochs = weasel_tuning_score[\"epoch\"].unique()\n",
    "\n",
    "sparsity_modes = [\"point\", \"grid\", \"contour\", \"skeleton\", \"region\", \"dense\"]\n",
    "\n",
    "_, axs = plt.subplots(len(weasel_epochs), 2, figsize=(12, 5 * len(weasel_epochs)))\n",
    "\n",
    "for i, ep in enumerate(weasel_epochs):\n",
    "    for sm in sparsity_modes:\n",
    "        weasel_df = weasel_tuning_score[\n",
    "            (weasel_tuning_score[\"sparsity_mode\"] == sm)\n",
    "            & (weasel_tuning_score[\"epoch\"] == ep)\n",
    "        ]\n",
    "        weasel_tune_epochs = [str(tep) for tep in weasel_df[\"tune_epoch\"]]\n",
    "        axs[i][0].plot(weasel_tune_epochs, weasel_df[\"iou_od\"], label=sm)\n",
    "        axs[i][1].plot(weasel_tune_epochs, weasel_df[\"iou_oc\"], label=sm)\n",
    "        # axs[i][2].plot(weasel_tune_epochs, weasel_df['test_duration'], label = sm)\n",
    "\n",
    "    axs[i][0].set_title(f\"weasel ep-{ep} - tune epoch vs optic disc IoU\")\n",
    "    axs[i][1].set_title(f\"weasel ep-{ep} - tune epoch vs optic cup IoU\")\n",
    "    # axs[i][2].set_title(f'weasel ep-{ep} - tune epoch vs test duration')\n",
    "    axs[i][0].legend()\n",
    "    axs[i][1].legend()\n",
    "    # axs[i][2].legend()\n",
    "    axs[i][0].set_ylim([0, 1])\n",
    "    axs[i][1].set_ylim([0, 1])"
   ]
  },
  {
   "cell_type": "markdown",
   "id": "be1b4f181bf993c2",
   "metadata": {
    "collapsed": false
   },
   "source": [
    "# Other\n"
   ]
  },
  {
   "cell_type": "code",
   "execution_count": null,
   "id": "aeb6f13c5e034636",
   "metadata": {
    "collapsed": false,
    "is_executing": true
   },
   "outputs": [],
   "source": []
  }
 ],
 "metadata": {
  "kernelspec": {
   "display_name": "Python 3",
   "language": "python",
   "name": "python3"
  },
  "language_info": {
   "codemirror_mode": {
    "name": "ipython",
    "version": 3
   },
   "file_extension": ".py",
   "mimetype": "text/x-python",
   "name": "python",
   "nbconvert_exporter": "python",
   "pygments_lexer": "ipython3",
   "version": "3.10.9"
  }
 },
 "nbformat": 4,
 "nbformat_minor": 5
}
