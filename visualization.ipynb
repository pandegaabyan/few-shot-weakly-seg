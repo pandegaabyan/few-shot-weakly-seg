{
 "cells": [
  {
   "cell_type": "markdown",
   "source": [],
   "metadata": {
    "collapsed": false
   },
   "id": "48e80e4d5e80357b"
  },
  {
   "cell_type": "markdown",
   "source": [
    "# Lets-Plot"
   ],
   "metadata": {
    "collapsed": false
   },
   "id": "b3444878d2f88752"
  },
  {
   "cell_type": "markdown",
   "source": [
    "## Initialization"
   ],
   "metadata": {
    "collapsed": false
   },
   "id": "44115807fbc39618"
  },
  {
   "cell_type": "markdown",
   "source": [
    "### Imports"
   ],
   "metadata": {
    "collapsed": false
   },
   "id": "b372475f679cfe6f"
  },
  {
   "cell_type": "code",
   "execution_count": null,
   "outputs": [],
   "source": [
    "import os\n",
    "import re\n",
    "from typing import Callable\n",
    "\n",
    "import pandas as pd\n",
    "\n",
    "from lets_plot import *\n",
    "from lets_plot.mapping import as_discrete\n",
    "from lets_plot.plot.subplots import SupPlotsSpec\n",
    "\n",
    "from config.config_type import AllConfig"
   ],
   "metadata": {
    "collapsed": false
   },
   "id": "2d972472a5d4e4c8"
  },
  {
   "cell_type": "code",
   "execution_count": null,
   "outputs": [],
   "source": [
    "LetsPlot.setup_html()"
   ],
   "metadata": {
    "collapsed": false
   },
   "id": "a1f94bac9d1f4877"
  },
  {
   "cell_type": "markdown",
   "source": [
    "### General Functions"
   ],
   "metadata": {
    "collapsed": false
   },
   "id": "2a6d184be7d3a94"
  },
  {
   "cell_type": "code",
   "execution_count": null,
   "outputs": [],
   "source": [
    "DataframeItemList = list[tuple[str, pd.DataFrame]]\n",
    "NamePathList = tuple[list[str], list[str]]\n",
    "DataSliceDict = dict[str, tuple[int | None, int | None]]\n",
    "ConfigIndexDict = dict[str, int]"
   ],
   "metadata": {
    "collapsed": false
   },
   "id": "baba72bfe1f66077"
  },
  {
   "cell_type": "code",
   "execution_count": null,
   "outputs": [],
   "source": [
    "sparsity_modes = ['point', 'grid', 'contour', 'skeleton', 'region']"
   ],
   "metadata": {
    "collapsed": false
   },
   "id": "1804f91a193afca9"
  },
  {
   "cell_type": "code",
   "execution_count": null,
   "outputs": [],
   "source": [
    "import json\n",
    "\n",
    "def read_config(ref_path: str, config_index: int = 0) -> AllConfig:\n",
    "    filename = f'config_{config_index}.json' if config_index != 0 else 'config.json'\n",
    "    path = os.path.join(os.path.split(ref_path)[0], filename)\n",
    "    with open(path, 'r') as f:\n",
    "        return json.load(f)"
   ],
   "metadata": {
    "collapsed": false
   },
   "id": "3efe67343211efdb"
  },
  {
   "cell_type": "code",
   "execution_count": null,
   "outputs": [],
   "source": [
    "def get_paths_and_names(filter_func: Callable[[str], bool], filename: str, replace_name_func: Callable[[str], str], path: str = 'outputs'\n",
    "                        ) -> NamePathList:\n",
    "    exp_name_list = list(filter(filter_func, os.listdir(path)))\n",
    "    path_list = [os.path.join(path, exp_name, filename) for exp_name in exp_name_list]\n",
    "    name_list = [replace_name_func(exp_name) for exp_name in exp_name_list]\n",
    "    return path_list, name_list"
   ],
   "metadata": {
    "collapsed": false
   },
   "id": "39515ea28ce0f33b"
  },
  {
   "cell_type": "code",
   "execution_count": null,
   "outputs": [],
   "source": [
    "def get_dataframes(path_list: list[str], name_list: list[str], \n",
    "                   data_slice_dict: DataSliceDict | None = None, config_index_dict: ConfigIndexDict | None = None\n",
    "                   ) -> DataframeItemList:\n",
    "    df_items = []\n",
    "    for path, name in zip(path_list, name_list):\n",
    "        df = pd.read_csv(path)\n",
    "        if data_slice_dict is not None and data_slice_dict.get(name) is not None:\n",
    "            df = df.iloc[data_slice_dict[name][0]:data_slice_dict[name][1]]\n",
    "        if config_index_dict is not None:\n",
    "            config_index = config_index_dict.get(name, 0)\n",
    "        else:\n",
    "            config_index = 0\n",
    "        config = read_config(path, config_index)\n",
    "        df['batch_size'] = config['data']['batch_size']\n",
    "        df_items.append((name, df))\n",
    "    return df_items"
   ],
   "metadata": {
    "collapsed": false
   },
   "id": "460aee31deaf6eb9"
  },
  {
   "cell_type": "code",
   "execution_count": null,
   "outputs": [],
   "source": [
    "def combine_dataframes(df_item_list: DataframeItemList, new_column: str) -> pd.DataFrame:\n",
    "    df_list = []\n",
    "    for name, df in df_item_list:\n",
    "        new_df = df.copy()\n",
    "        new_df[new_column] = name\n",
    "        df_list.append(new_df)\n",
    "    return pd.concat(df_list)"
   ],
   "metadata": {
    "collapsed": false
   },
   "id": "7a10074909ca89a9"
  },
  {
   "cell_type": "code",
   "execution_count": null,
   "outputs": [],
   "source": [
    "def combine_columns(df: pd.DataFrame, column_list: list[str], new_column: str) -> pd.DataFrame:\n",
    "    df_list = []\n",
    "    for col in column_list:\n",
    "        new_df = df.copy()\n",
    "        new_df.drop(columns = filter(lambda x: x != col, column_list), inplace = True)\n",
    "        new_df.rename(columns = {col: new_column + '_value'}, inplace = True)\n",
    "        new_df[new_column] = col\n",
    "        df_list.append(new_df)\n",
    "    return pd.concat(df_list)"
   ],
   "metadata": {
    "collapsed": false
   },
   "id": "e12f119948041d3e"
  },
  {
   "cell_type": "markdown",
   "source": [
    "### Data Functions"
   ],
   "metadata": {
    "collapsed": false
   },
   "id": "41924effe558e7e3"
  },
  {
   "cell_type": "code",
   "execution_count": null,
   "outputs": [],
   "source": [
    "def replace_method_name(name: str) -> str:\n",
    "    return name.replace('WS ', 'weasel ').replace('PS ', 'protoseg ')\n",
    "\n",
    "def replace_scenario_name(name: str) -> str:\n",
    "    return re.sub(f'({\"|\".join(sparsity_modes)})', 'separated', name)"
   ],
   "metadata": {
    "collapsed": false
   },
   "id": "350d01ef18c26ac9"
  },
  {
   "cell_type": "code",
   "execution_count": null,
   "outputs": [],
   "source": [
    "def get_paths_and_names_with(prefix_text: str, suffix_list: list[str], filename: str) -> tuple[list[str], list[str]]:\n",
    "    return get_paths_and_names(lambda x: x.startswith(prefix_text) and 'dummy' not in x and x.split(' ')[-1] in suffix_list, filename, \n",
    "                               lambda x: replace_method_name(x.replace(prefix_text + ' ', '')))"
   ],
   "metadata": {
    "collapsed": false
   },
   "id": "86587c31bcba4703"
  },
  {
   "cell_type": "code",
   "execution_count": null,
   "outputs": [],
   "source": [
    "def get_meta_dataframe(name_path_list: NamePathList, **kwargs) -> pd.DataFrame:\n",
    "    path_list, name_list = name_path_list\n",
    "    df_item_list = get_dataframes(path_list, name_list, **kwargs)\n",
    "    combined_dataframe = combine_dataframes(df_item_list, 'method')\n",
    "    combined_dataframe['duration'] = combined_dataframe['duration'] / 1000\n",
    "    combined_dataframe[['method', 'scenario']] = combined_dataframe['method'].str.split(' ', expand = True)\n",
    "    return combined_dataframe"
   ],
   "metadata": {
    "collapsed": false
   },
   "id": "b393c07af45b7ae6"
  },
  {
   "cell_type": "code",
   "execution_count": null,
   "outputs": [],
   "source": [
    "def get_tune_dataframe(name_path_list: NamePathList, **kwargs) -> pd.DataFrame:\n",
    "    path_list, name_list = name_path_list\n",
    "    df_item_list = get_dataframes(path_list, name_list, **kwargs)\n",
    "    dataframe = combine_dataframes(df_item_list, 'method')\n",
    "    dataframe['duration'] = dataframe['duration'] / 1000\n",
    "    dataframe[['method', 'scenario']] = dataframe['method'].str.split(' ', expand = True)\n",
    "    dataframe['scenario'] = dataframe['scenario'].apply(replace_scenario_name)\n",
    "    dataframe['sparsity'] = dataframe['sparsity_mode'] + '=' + dataframe['sparsity_value'].astype(str)\n",
    "    return dataframe"
   ],
   "metadata": {
    "collapsed": false
   },
   "id": "d4f9312ad93c5d20"
  },
  {
   "cell_type": "code",
   "execution_count": null,
   "outputs": [],
   "source": [
    "def get_weasel_tune_dataframe(name_path_list: NamePathList, **kwargs) -> pd.DataFrame:\n",
    "    path_list, name_list = name_path_list\n",
    "    df_item_list = get_dataframes(path_list, name_list, **kwargs)\n",
    "    dataframe = combine_dataframes(df_item_list, 'scenario')\n",
    "    dataframe['test_duration'] = dataframe['test_duration'] / 1000\n",
    "    dataframe['scenario'] = dataframe['scenario'].apply(replace_scenario_name)\n",
    "    dataframe['sparsity'] = dataframe['sparsity_mode'] + '=' + dataframe['sparsity_value'].astype(str)\n",
    "    return dataframe"
   ],
   "metadata": {
    "collapsed": false
   },
   "id": "6d877fe622de173e"
  },
  {
   "cell_type": "markdown",
   "source": [
    "### Chart Functions"
   ],
   "metadata": {
    "collapsed": false
   },
   "id": "fd7f999fcb8bd0e0"
  },
  {
   "cell_type": "code",
   "execution_count": null,
   "outputs": [],
   "source": [
    "def plot_meta_loss(dataframe: pd.DataFrame) -> ggplot:\n",
    "    num_methods = len(dataframe['method'].unique())\n",
    "    return ggplot(dataframe) \\\n",
    "        + geom_line(aes(x = 'epoch', y = 'loss', color = 'scenario')) \\\n",
    "        + facet_grid(y = 'method', scales = 'free_y', y_order=0) \\\n",
    "        + ggsize(1200, 400 * num_methods) \\\n",
    "        + flavor_darcula()"
   ],
   "metadata": {
    "collapsed": false
   },
   "id": "7db9a8cb949be0e4"
  },
  {
   "cell_type": "code",
   "execution_count": null,
   "outputs": [],
   "source": [
    "def plot_meta_loss_multiple(dataframe: pd.DataFrame) -> ggplot:\n",
    "    num_methods = len(dataframe['method'].unique())\n",
    "    num_scenarios = len(dataframe['scenario'].unique())\n",
    "    return ggplot(dataframe) \\\n",
    "        + geom_line(aes(x = 'epoch', y = 'loss', color = 'scenario')) \\\n",
    "        + facet_grid(x = 'method', y = 'scenario', scales = 'free', x_order=0, y_order=0) \\\n",
    "        + ggsize(600 * num_methods, 200 * num_scenarios + 50) \\\n",
    "        + flavor_darcula() \\\n",
    "        + theme(panel_border=element_rect(size=1), legend_position = 'bottom')"
   ],
   "metadata": {
    "collapsed": false
   },
   "id": "2567a8887f34a8c0"
  },
  {
   "cell_type": "code",
   "execution_count": null,
   "outputs": [],
   "source": [
    "def plot_meta_metric(dataframe: pd.DataFrame, size_col: str = '') -> ggplot:\n",
    "    new_dataframe = combine_columns(dataframe, ['duration', 'post_gpu_percent'], 'metric')\n",
    "    num_methods = len(new_dataframe['method'].unique())\n",
    "    return ggplot(new_dataframe) \\\n",
    "        + geom_line(aes(x = 'epoch', y = 'metric_value', color = 'scenario', \n",
    "                        size = as_discrete(size_col, order=1) if size_col != '' else None)) \\\n",
    "        + facet_grid(x = 'method', y = 'metric', scales = 'free_y', x_order=0, y_order=0) \\\n",
    "        + ggsize(600 * num_methods, 800) \\\n",
    "        + flavor_darcula() \\\n",
    "        + scale_size(range=[0.5, 1]) \\\n",
    "        + theme(panel_border=element_rect(size=1), legend_position = 'bottom')"
   ],
   "metadata": {
    "collapsed": false
   },
   "id": "87c0e3bc167bc50a"
  },
  {
   "cell_type": "code",
   "execution_count": null,
   "outputs": [],
   "source": [
    "def plot_tune_score_by_scenario(dataframe: pd.DataFrame, size_col: str = '') -> ggplot:\n",
    "    new_dataframe = combine_columns(dataframe, ['iou_od', 'iou_oc'], 'iou')\n",
    "    num_sparsity = len(new_dataframe['sparsity'].unique())\n",
    "    return ggplot(new_dataframe) \\\n",
    "        + geom_line(aes(x = as_discrete('epoch'), y = 'iou_value', color = 'scenario', \n",
    "                        linetype = 'method', size = as_discrete(size_col, order=1) if size_col != '' else None),\n",
    "                    tooltips=layer_tooltips().line('@method @scenario').line('@iou_value')) \\\n",
    "        + facet_grid(x = 'sparsity', y = 'iou', scales = 'fixed', x_order=1, y_order=0) \\\n",
    "        + ggsize(200 * num_sparsity, 600) \\\n",
    "        + flavor_darcula() \\\n",
    "        + scale_size(range=[0.5, 1]) \\\n",
    "        + theme(panel_border=element_rect(size=1), legend_position='top')"
   ],
   "metadata": {
    "collapsed": false
   },
   "id": "a1443766a1935606"
  },
  {
   "cell_type": "code",
   "execution_count": null,
   "outputs": [],
   "source": [
    "def plot_tune_metric_by_scenario(dataframe: pd.DataFrame, size_col: str = '') -> ggplot:\n",
    "    new_dataframe = combine_columns(dataframe, ['duration', 'post_gpu_percent'], 'metric')\n",
    "    num_sparsity = len(new_dataframe['sparsity'].unique())\n",
    "    return ggplot(new_dataframe) \\\n",
    "        + geom_line(aes(x = as_discrete('epoch'), y = 'metric_value', color = 'scenario',\n",
    "                        linetype = 'method', size = as_discrete(size_col, order=1) if size_col != '' else None),\n",
    "                    tooltips=layer_tooltips().line('@method @scenario').format('@metric_value', '.2f').line('@metric_value')) \\\n",
    "        + facet_grid(x = 'sparsity', y = 'metric', scales = 'free_y', x_order=1, y_order=0) \\\n",
    "        + ggsize(200 * num_sparsity, 600) \\\n",
    "        + flavor_darcula() \\\n",
    "        + scale_size(range=[0.5, 1]) \\\n",
    "        + theme(panel_border=element_rect(size=1), legend_position='top')"
   ],
   "metadata": {
    "collapsed": false
   },
   "id": "a519d32a5c340d5b"
  },
  {
   "cell_type": "code",
   "execution_count": null,
   "outputs": [],
   "source": [
    "def plot_weasel_tune_score_by_scenario(dataframe: pd.DataFrame, value_col: str, size_col: str = '') -> ggplot:\n",
    "    num_epoch = len(dataframe['epoch'].unique())\n",
    "    num_sparsity = len(dataframe['sparsity'].unique())\n",
    "    return ggplot(dataframe) \\\n",
    "        + geom_line(aes(x = as_discrete('tune_epoch'), y = value_col, color = 'scenario',\n",
    "                        size = as_discrete(size_col, order=1) if size_col != '' else None)) \\\n",
    "        + facet_grid(x = 'epoch', y = 'sparsity', scales = 'fixed', x_order=1, y_order=1) \\\n",
    "        + ggsize(250 * num_epoch, 200 * num_sparsity + 50) \\\n",
    "        + flavor_darcula() \\\n",
    "        + scale_size(range=[0.5, 1]) \\\n",
    "        + theme(panel_border=element_rect(size=1), legend_position='top')"
   ],
   "metadata": {
    "collapsed": false
   },
   "id": "a4e11096dbc2c19f"
  },
  {
   "cell_type": "code",
   "execution_count": null,
   "outputs": [],
   "source": [
    "def plot_tune_score_by_sparsity(dataframe: pd.DataFrame) -> SupPlotsSpec:\n",
    "    new_dataframe = combine_columns(dataframe, ['iou_od', 'iou_oc'], 'iou')\n",
    "    plot_list = []\n",
    "    sorted_sparsity_modes = sorted(new_dataframe['sparsity_mode'].unique())\n",
    "    num_sparsity = len(sorted_sparsity_modes)\n",
    "    for index, sparsity_mode in enumerate(sorted_sparsity_modes):\n",
    "        sparsity_plot = ggplot(new_dataframe[new_dataframe['sparsity_mode'] == sparsity_mode]) \\\n",
    "                        + geom_line(aes(x = 'sparsity_value', y = 'iou_value',\n",
    "                                        color = 'method', linetype = as_discrete('epoch', order=-1)),\n",
    "                                    tooltips=layer_tooltips().line('@method ep=@epoch').line('@iou_value')) \\\n",
    "                        + ggtitle(sparsity_mode) \\\n",
    "                        + facet_grid(x = 'n_shots', y = 'iou', scales = 'free_x', x_order=0, y_order=0) \\\n",
    "                        + ylim(0, 1) \\\n",
    "                        + flavor_darcula() \\\n",
    "                        + theme(panel_border=element_rect(size=1), title=element_text(hjust=0.5))\n",
    "        if index == num_sparsity - 1 or index == num_sparsity - 2 and num_sparsity % 2 == 0:\n",
    "            sparsity_plot += theme(legend_position='bottom')\n",
    "        else:\n",
    "            sparsity_plot += theme(legend_position='none')\n",
    "        plot_list.append(sparsity_plot)\n",
    "    num_rows = num_sparsity // 2 + num_sparsity % 2\n",
    "    row_relative_heights = [1 for _ in range(num_rows - 1)] + [1.25]\n",
    "    return gggrid(plot_list, ncol=2, vspace=30, heights=row_relative_heights) \\\n",
    "        + ggsize(1200, 400 * num_rows) \\\n",
    "        + flavor_darcula()"
   ],
   "metadata": {
    "collapsed": false
   },
   "id": "1868d1af6a1dbd3e"
  },
  {
   "cell_type": "code",
   "execution_count": null,
   "outputs": [],
   "source": [
    "def plot_tune_metric_by_sparsity(dataframe: pd.DataFrame, size_col: str = '') -> ggplot:\n",
    "    new_dataframe = combine_columns(dataframe, ['duration', 'post_gpu_percent'], 'metric')\n",
    "    new_dataframe['method__sparsity_value'] = new_dataframe['method'] + ' s=' + new_dataframe['sparsity_value'].astype(str)\n",
    "    num_sparsity = len(new_dataframe['sparsity_mode'].unique())\n",
    "    return ggplot(new_dataframe) \\\n",
    "        + geom_line(aes(x = 'n_shots', y = 'metric_value', color = 'method__sparsity_value',\n",
    "                        linetype = as_discrete('epoch', order=-1), size = as_discrete(size_col, order=1) if size_col != '' else None),\n",
    "                    tooltips=layer_tooltips().line('@method ep=@epoch s=@sparsity_value').format('@metric_value', '.2f').line('@metric_value')) \\\n",
    "        + facet_grid(x = 'sparsity_mode', y = 'metric', scales = 'free_y', x_order=1, y_order=0) \\\n",
    "        + ggsize(200 * num_sparsity, 700) \\\n",
    "        + flavor_darcula() \\\n",
    "        + scale_size(range=[0.5, 1]) \\\n",
    "        + scale_color_discrete(guide=guide_legend(ncol=6)) \\\n",
    "        + theme(panel_border=element_rect(size=1), legend_position='top')"
   ],
   "metadata": {
    "collapsed": false
   },
   "id": "a09719d075f05ac1"
  },
  {
   "cell_type": "markdown",
   "source": [
    "## Exp - Scenario"
   ],
   "metadata": {
    "collapsed": false
   },
   "id": "74deedf000d6ac26"
  },
  {
   "cell_type": "code",
   "execution_count": null,
   "outputs": [],
   "source": [
    "prefix = 'v3 RO-DR L'\n",
    "suffixes = ['all'] + sparsity_modes + list(map(lambda x: x + '-var', sparsity_modes))\n",
    "slice_dict = {'weasel all':(0, 70), 'protoseg all':(0, 25)}"
   ],
   "metadata": {
    "collapsed": false
   },
   "id": "b71b3f38b0226d3f"
  },
  {
   "cell_type": "markdown",
   "source": [
    "### Meta"
   ],
   "metadata": {
    "collapsed": false
   },
   "id": "fe0b691bd81e2d87"
  },
  {
   "cell_type": "code",
   "execution_count": null,
   "outputs": [],
   "source": [
    "paths, names = get_paths_and_names_with(prefix, suffixes, 'train_loss.csv')\n",
    "combined_df = get_meta_dataframe((paths, names))\n",
    "\n",
    "print(names)\n",
    "combined_df"
   ],
   "metadata": {
    "collapsed": false
   },
   "id": "a57506730ad4d8a4"
  },
  {
   "cell_type": "code",
   "execution_count": null,
   "outputs": [],
   "source": [
    "plot_meta_loss(combined_df)"
   ],
   "metadata": {
    "collapsed": false
   },
   "id": "c4580ba83f66212a"
  },
  {
   "cell_type": "markdown",
   "source": [
    "- \"weasel\" method is less stable than \"protoseg\" method, but better at optimizing \"all\" scenarios and others.\n",
    "- \"protoseg\" method has trouble optimizing \"all\" scenarios and \"contour\" scenario.\n",
    "- \"all\" scenarios is less stable than \"separated\" scenarios, especially for \"protoseg\" method.\n",
    "- \"all-more-embeds\" scenario for \"protoseg\" method is not significantly different than \"all\" scenario."
   ],
   "metadata": {
    "collapsed": false
   },
   "id": "872b92dbf2231f04"
  },
  {
   "cell_type": "code",
   "execution_count": null,
   "outputs": [],
   "source": [
    "plot_meta_metric(combined_df, 'batch_size')"
   ],
   "metadata": {
    "collapsed": false
   },
   "id": "ba40d980ebfefde8"
  },
  {
   "cell_type": "markdown",
   "source": [
    "- \"weasel\" method is slower than \"protoseg\" method, but the GPU usage is little bit lower, note that \"protoseg\" method has a much higher batch size.\n",
    "- Order of scenarios from slowest to fastest: \"region\" > \"all\" = \"skeleton\" > \"contour\" > \"point\" > \"grid\".\n",
    "- Note that \"all\" scenarios include \"point_old\" and \"grid_old\".\n",
    "- \"region\" scenario is significantly slower than others.\n",
    "- \"all-more-embeds\" scenario use same amount of time, but higher GPU usage than the \"all\" scenario. \n",
    "- \"point\" scenarios has significantly higher GPU usage than others."
   ],
   "metadata": {
    "collapsed": false
   },
   "id": "3d9f792707869000"
  },
  {
   "cell_type": "markdown",
   "source": [],
   "metadata": {
    "collapsed": false
   },
   "id": "1f0befbd22ea574f"
  },
  {
   "cell_type": "markdown",
   "source": [
    "### Tune"
   ],
   "metadata": {
    "collapsed": false
   },
   "id": "1abc44408c829345"
  },
  {
   "cell_type": "code",
   "execution_count": null,
   "outputs": [],
   "source": [
    "paths, names = get_paths_and_names_with(prefix, suffixes, 'tuned_score.csv')\n",
    "combined_df = get_tune_dataframe((paths, names), data_slice_dict=slice_dict)\n",
    "combined_df_full = combined_df.copy()\n",
    "# combined_df = combined_df[combined_df['n_shots'] == 10]\n",
    "\n",
    "print(names)\n",
    "combined_df"
   ],
   "metadata": {
    "collapsed": false
   },
   "id": "673f5c5f5d3034ad"
  },
  {
   "cell_type": "code",
   "execution_count": null,
   "outputs": [],
   "source": [
    "plot_tune_score_by_scenario(combined_df, 'n_shots')"
   ],
   "metadata": {
    "collapsed": false
   },
   "id": "16a0a0e9454eefbd"
  },
  {
   "cell_type": "code",
   "execution_count": null,
   "outputs": [],
   "source": [
    "combined_df_flat = combine_columns(combined_df, ['iou_od', 'iou_oc'], 'iou')\n",
    "combined_df_flat = combined_df_flat[combined_df_flat['n_shots'] == 10]\n",
    "point_grid_df_flat = combined_df_flat[combined_df_flat['scenario'] == 'all']\n",
    "point_grid_df_flat = point_grid_df_flat[point_grid_df_flat['sparsity_mode'].isin(['point', 'grid', 'point_old', 'grid_old'])]\n",
    "point_grid_df_flat['sparsity_newness'] = point_grid_df_flat['sparsity_mode'].apply(lambda x: 'new' if 'old' not in x else 'old')\n",
    "point_grid_df_flat['sparsity_mode'] = point_grid_df_flat['sparsity_mode'].apply(lambda x: x.replace('_old', ''))\n",
    "point_grid_df_flat['method__sparsity_mode'] = point_grid_df_flat['method'] + ' ' + point_grid_df_flat['sparsity_mode']\n",
    "\n",
    "ggplot(point_grid_df_flat) \\\n",
    "+ geom_line(aes(x = as_discrete('epoch'), y = 'iou_value', color = 'sparsity_newness')) \\\n",
    "+ facet_grid(x = 'method__sparsity_mode', y = 'iou', scales = 'fixed', x_order=0, y_order=0) \\\n",
    "+ ggsize(1200, 600) \\\n",
    "+ flavor_darcula() \\\n",
    "+ theme(panel_border=element_rect(size=1), legend_position='top')"
   ],
   "metadata": {
    "collapsed": false
   },
   "id": "a6184c5c14ef8c98"
  },
  {
   "cell_type": "code",
   "execution_count": null,
   "outputs": [],
   "source": [
    "plot_tune_metric_by_scenario(combined_df_full, 'n_shots')"
   ],
   "metadata": {
    "collapsed": false
   },
   "id": "1c69c77e81606594"
  },
  {
   "cell_type": "markdown",
   "source": [],
   "metadata": {
    "collapsed": false
   },
   "id": "dc35378fcc6ee3a3"
  },
  {
   "cell_type": "markdown",
   "source": [
    "### Weasel Tune"
   ],
   "metadata": {
    "collapsed": false
   },
   "id": "1bd0fd31e9ab5bd"
  },
  {
   "cell_type": "code",
   "execution_count": null,
   "outputs": [],
   "source": [
    "paths, names = get_paths_and_names_with('v3 RO-DR L WS', suffixes, 'tuning_score.csv')\n",
    "\n",
    "combined_df = get_weasel_tune_dataframe((paths, names), data_slice_dict={'all':(0, 70)})\n",
    "combined_df = combined_df[combined_df['n_shots'] == 10]\n",
    "\n",
    "print(names)\n",
    "combined_df"
   ],
   "metadata": {
    "collapsed": false
   },
   "id": "5e88d42b67dc68d4"
  },
  {
   "cell_type": "code",
   "execution_count": null,
   "outputs": [],
   "source": [
    "plot_weasel_tune_score_by_scenario(combined_df, 'iou_oc')"
   ],
   "metadata": {
    "collapsed": false
   },
   "id": "da225e4c8cc66f09"
  },
  {
   "cell_type": "markdown",
   "source": [
    "## Exp - Loss - Short"
   ],
   "metadata": {
    "collapsed": false
   },
   "id": "30bf621f15b9bfd0"
  },
  {
   "cell_type": "code",
   "execution_count": null,
   "outputs": [],
   "source": [
    "prefix = 'v3 RO-DR S'\n",
    "suffixes = ['all', 'all-bce', 'all-bce_2', 'all-iou', 'all-iou_bce']"
   ],
   "metadata": {
    "collapsed": false
   },
   "id": "2ced901b344868e3"
  },
  {
   "cell_type": "markdown",
   "source": [
    "### Meta"
   ],
   "metadata": {
    "collapsed": false
   },
   "id": "1c140b6662f879d9"
  },
  {
   "cell_type": "code",
   "execution_count": null,
   "outputs": [],
   "source": [
    "paths, names = get_paths_and_names_with(prefix, suffixes, 'train_loss.csv')\n",
    "combined_df = get_meta_dataframe((paths, names))\n",
    "\n",
    "print(names)\n",
    "combined_df"
   ],
   "metadata": {
    "collapsed": false
   },
   "id": "9bd9c911d6c3773e"
  },
  {
   "cell_type": "code",
   "execution_count": null,
   "outputs": [],
   "source": [
    "plot_meta_loss_multiple(combined_df)"
   ],
   "metadata": {
    "collapsed": false
   },
   "id": "2e8d46f169422337"
  },
  {
   "cell_type": "code",
   "execution_count": null,
   "outputs": [],
   "source": [
    "plot_meta_metric(combined_df)"
   ],
   "metadata": {
    "collapsed": false
   },
   "id": "4900530d59280503"
  },
  {
   "cell_type": "markdown",
   "source": [],
   "metadata": {
    "collapsed": false
   },
   "id": "6f7b2fd157690e89"
  },
  {
   "cell_type": "markdown",
   "source": [
    "### Tune"
   ],
   "metadata": {
    "collapsed": false
   },
   "id": "dcc71974e83e457c"
  },
  {
   "cell_type": "code",
   "execution_count": null,
   "outputs": [],
   "source": [
    "paths, names = get_paths_and_names_with(prefix, suffixes, 'tuned_score.csv')\n",
    "combined_df = get_tune_dataframe((paths, names))\n",
    "\n",
    "print(names)\n",
    "combined_df"
   ],
   "metadata": {
    "collapsed": false
   },
   "id": "d1b0f6915d71180a"
  },
  {
   "cell_type": "code",
   "execution_count": null,
   "outputs": [],
   "source": [
    "plot_tune_score_by_scenario(combined_df)"
   ],
   "metadata": {
    "collapsed": false
   },
   "id": "2cda62a49cc7d7a2"
  },
  {
   "cell_type": "code",
   "execution_count": null,
   "outputs": [],
   "source": [
    "plot_tune_metric_by_scenario(combined_df)"
   ],
   "metadata": {
    "collapsed": false
   },
   "id": "967a08c27c3124d5"
  },
  {
   "cell_type": "markdown",
   "source": [],
   "metadata": {
    "collapsed": false
   },
   "id": "1e49929c6db21579"
  },
  {
   "cell_type": "markdown",
   "source": [
    "### Weasel Tune"
   ],
   "metadata": {
    "collapsed": false
   },
   "id": "332f017de05086fb"
  },
  {
   "cell_type": "code",
   "execution_count": null,
   "outputs": [],
   "source": [
    "paths, names = get_paths_and_names_with('v3 RO-DR S WS', suffixes, 'tuning_score.csv')\n",
    "combined_df = get_weasel_tune_dataframe((paths, names))\n",
    "\n",
    "print(names)\n",
    "combined_df"
   ],
   "metadata": {
    "collapsed": false
   },
   "id": "fcc401de1c195b5d"
  },
  {
   "cell_type": "code",
   "execution_count": null,
   "outputs": [],
   "source": [
    "plot_weasel_tune_score_by_scenario(combined_df, 'iou_od')"
   ],
   "metadata": {
    "collapsed": false
   },
   "id": "9c7283d4df43d22"
  },
  {
   "cell_type": "markdown",
   "source": [
    "## Exp - Loss - Long"
   ],
   "metadata": {
    "collapsed": false
   },
   "id": "d20edc3d97c7b70d"
  },
  {
   "cell_type": "code",
   "execution_count": null,
   "outputs": [],
   "source": [
    "prefix = 'v3 RO-DR L'\n",
    "suffixes = ['all', 'all-iou', 'all-poor']\n",
    "slice_dict = {'weasel all':(0, 70), 'protoseg all':(0, 25)}"
   ],
   "metadata": {
    "collapsed": false
   },
   "id": "f2fb7f40ec0514ca"
  },
  {
   "cell_type": "markdown",
   "source": [
    "### Meta"
   ],
   "metadata": {
    "collapsed": false
   },
   "id": "d2933af6e322f686"
  },
  {
   "cell_type": "code",
   "execution_count": null,
   "outputs": [],
   "source": [
    "paths, names = get_paths_and_names_with(prefix, suffixes, 'train_loss.csv')\n",
    "combined_df = get_meta_dataframe((paths, names))\n",
    "\n",
    "print(names)\n",
    "combined_df"
   ],
   "metadata": {
    "collapsed": false
   },
   "id": "2272f43c1d36d3a1"
  },
  {
   "cell_type": "code",
   "execution_count": null,
   "outputs": [],
   "source": [
    "plot_meta_loss_multiple(combined_df)"
   ],
   "metadata": {
    "collapsed": false
   },
   "id": "21734a7929302d64"
  },
  {
   "cell_type": "code",
   "execution_count": null,
   "outputs": [],
   "source": [
    "plot_meta_metric(combined_df, 'batch_size')"
   ],
   "metadata": {
    "collapsed": false
   },
   "id": "9c8392f34831e441"
  },
  {
   "cell_type": "markdown",
   "source": [],
   "metadata": {
    "collapsed": false
   },
   "id": "96949ae5894dc028"
  },
  {
   "cell_type": "markdown",
   "source": [
    "### Tune"
   ],
   "metadata": {
    "collapsed": false
   },
   "id": "5c2a5aa235db76a4"
  },
  {
   "cell_type": "code",
   "execution_count": null,
   "outputs": [],
   "source": [
    "paths, names = get_paths_and_names_with(prefix, suffixes, 'tuned_score.csv')\n",
    "combined_df = get_tune_dataframe((paths, names), data_slice_dict=slice_dict)\n",
    "\n",
    "print(names)\n",
    "combined_df"
   ],
   "metadata": {
    "collapsed": false
   },
   "id": "ee7b326140caf20e"
  },
  {
   "cell_type": "code",
   "execution_count": null,
   "outputs": [],
   "source": [
    "plot_tune_score_by_scenario(combined_df, 'n_shots')"
   ],
   "metadata": {
    "collapsed": false
   },
   "id": "c1b58c15f117ebb6"
  },
  {
   "cell_type": "code",
   "execution_count": null,
   "outputs": [],
   "source": [
    "plot_tune_metric_by_scenario(combined_df, 'n_shots')"
   ],
   "metadata": {
    "collapsed": false
   },
   "id": "5ab24b530d23b3f3"
  },
  {
   "cell_type": "markdown",
   "source": [],
   "metadata": {
    "collapsed": false
   },
   "id": "8c3475399ba3bfb7"
  },
  {
   "cell_type": "markdown",
   "source": [
    "### Weasel Tune"
   ],
   "metadata": {
    "collapsed": false
   },
   "id": "7329fbcf2362a40b"
  },
  {
   "cell_type": "code",
   "execution_count": null,
   "outputs": [],
   "source": [
    "paths, names = get_paths_and_names_with('v3 RO-DR L WS', suffixes, 'tuning_score.csv')\n",
    "combined_df = get_weasel_tune_dataframe((paths, names), data_slice_dict={'all':(0, 350)})\n",
    "\n",
    "print(names)\n",
    "combined_df"
   ],
   "metadata": {
    "collapsed": false
   },
   "id": "256d630c5f7dd6d3"
  },
  {
   "cell_type": "code",
   "execution_count": null,
   "outputs": [],
   "source": [
    "plot_weasel_tune_score_by_scenario(combined_df, 'iou_od', 'n_shots')"
   ],
   "metadata": {
    "collapsed": false
   },
   "id": "49fdd9e1b13fec26"
  },
  {
   "cell_type": "markdown",
   "source": [
    "## Exp - Sparsity Value"
   ],
   "metadata": {
    "collapsed": false
   },
   "id": "2d38e8289e5c0b79"
  },
  {
   "cell_type": "code",
   "execution_count": null,
   "outputs": [],
   "source": [
    "prefix = 'v3 RO-DR L'\n",
    "suffixes = ['all']\n",
    "slice_dict = {'weasel all':(70, None), 'protoseg all':(25, None)}"
   ],
   "metadata": {
    "collapsed": false
   },
   "id": "8b621bdd65b1e776"
  },
  {
   "cell_type": "markdown",
   "source": [
    "### Tune"
   ],
   "metadata": {
    "collapsed": false
   },
   "id": "1e25ed1171eba50b"
  },
  {
   "cell_type": "code",
   "execution_count": null,
   "outputs": [],
   "source": [
    "paths, names = get_paths_and_names_with(prefix, suffixes, 'tuned_score.csv')\n",
    "combined_df = get_tune_dataframe((paths, names), data_slice_dict=slice_dict)\n",
    "\n",
    "print(names)\n",
    "combined_df"
   ],
   "metadata": {
    "collapsed": false
   },
   "id": "65d0ba09a5697115"
  },
  {
   "cell_type": "code",
   "execution_count": null,
   "outputs": [],
   "source": [
    "plot_tune_score_by_sparsity(combined_df)"
   ],
   "metadata": {
    "collapsed": false
   },
   "id": "93282bdf00348aa3"
  },
  {
   "cell_type": "code",
   "execution_count": null,
   "outputs": [],
   "source": [
    "plot_tune_metric_by_sparsity(combined_df, 'batch_size')"
   ],
   "metadata": {
    "collapsed": false
   },
   "id": "6a8f72b60077cf71"
  },
  {
   "cell_type": "markdown",
   "source": [
    "## Exploration"
   ],
   "metadata": {
    "collapsed": false
   },
   "id": "60799b9e43d0a31e"
  },
  {
   "cell_type": "code",
   "execution_count": null,
   "outputs": [],
   "source": [
    "weasel_train_loss = pd.read_csv('outputs/v1 RO-DR L WS/train_loss.csv')\n",
    "protoseg_train_loss = pd.read_csv('outputs/v1 RO-DR L PS/train_loss.csv')\n",
    "\n",
    "train_loss = combine_dataframes([('weasel', weasel_train_loss), ('protoseg', protoseg_train_loss)], 'method')"
   ],
   "metadata": {
    "collapsed": false
   },
   "id": "6243503bbde7c1b6"
  },
  {
   "cell_type": "code",
   "execution_count": null,
   "outputs": [],
   "source": [
    "ggplot(train_loss) \\\n",
    "+ geom_line(aes(x = 'epoch', y = 'duration', color = 'method')) \\\n",
    "+ facet_grid('method', scales = 'free') \\\n",
    "+ ggsize(800, 300) + flavor_darcula()"
   ],
   "metadata": {
    "collapsed": false
   },
   "id": "b7ecc33f16be81b0"
  },
  {
   "cell_type": "code",
   "execution_count": null,
   "outputs": [],
   "source": [
    "ggplot(train_loss) \\\n",
    "+ geom_line(aes(x = 'epoch', y = 'duration', color = 'method')) \\\n",
    "+ facet_grid('method', scales = 'free') \\\n",
    "+ ggsize(800, 300) + flavor_darcula() \\\n",
    "+ theme(legend_position = 'left', \n",
    "        line=element_line(size=2), \n",
    "        # rect=element_rect(size=10),\n",
    "        text=element_text(size=10),\n",
    "        axis_text=element_text(size=5),\n",
    "        axis_title=element_text(size=20),\n",
    "        axis_line_y=element_line(size=2),\n",
    "        panel_border=element_rect(size=2, color=\"yellow\"),\n",
    "        plot_margin=margin(0.5, 0.5, 0.5, 0.5),\n",
    "        strip_text='blank')"
   ],
   "metadata": {
    "collapsed": false
   },
   "id": "27ed6771d79d4582"
  },
  {
   "cell_type": "markdown",
   "source": [
    "# Matplotlib"
   ],
   "metadata": {
    "collapsed": false
   },
   "id": "68c7179975fb75ae"
  },
  {
   "cell_type": "markdown",
   "source": [
    "## Initialization"
   ],
   "metadata": {
    "collapsed": false
   },
   "id": "9afca1f624e64b9a"
  },
  {
   "cell_type": "markdown",
   "source": [
    "### Imports"
   ],
   "metadata": {
    "collapsed": false
   },
   "id": "5fd0c2bddbe58d68"
  },
  {
   "cell_type": "code",
   "execution_count": null,
   "outputs": [],
   "source": [
    "import pandas as pd\n",
    "\n",
    "import matplotlib.pyplot as plt\n",
    "plt.style.use('dark_background')"
   ],
   "metadata": {
    "collapsed": false
   },
   "id": "c4372a4704df7906"
  },
  {
   "cell_type": "markdown",
   "source": [
    "## Meta"
   ],
   "metadata": {
    "collapsed": false
   },
   "id": "cfcf578b2d285fb8"
  },
  {
   "cell_type": "markdown",
   "source": [
    "### Loss & Duration"
   ],
   "metadata": {
    "collapsed": false
   },
   "id": "4fa663114e678694"
  },
  {
   "cell_type": "code",
   "execution_count": null,
   "outputs": [],
   "source": [
    "weasel_train_loss = pd.read_csv('outputs/v1 RO-DR L WS/train_loss.csv')\n",
    "protoseg_train_loss = pd.read_csv('outputs/v1 RO-DR L WS/train_loss.csv')\n",
    "\n",
    "_, axs = plt.subplots(2, 2, figsize=(14,10))\n",
    "\n",
    "axs[0][0].set_title('weasel - epoch vs loss')\n",
    "axs[0][0].plot(weasel_train_loss['epoch'], weasel_train_loss['loss'])\n",
    "\n",
    "axs[0][1].set_title('protoseg - epoch vs loss')\n",
    "axs[0][1].plot(protoseg_train_loss['epoch'], protoseg_train_loss['loss'])\n",
    "\n",
    "axs[1][0].set_title('epoch vs duration in ms')\n",
    "axs[1][0].plot(weasel_train_loss['epoch'], weasel_train_loss['duration'], label = 'weasel')\n",
    "axs[1][0].plot(protoseg_train_loss['epoch'], protoseg_train_loss['duration'], label = 'protoseg')\n",
    "axs[1][0].legend()"
   ],
   "metadata": {
    "collapsed": false,
    "is_executing": true
   },
   "id": "13cf499f9da62f31"
  },
  {
   "cell_type": "markdown",
   "source": [
    "## Tune"
   ],
   "metadata": {
    "collapsed": false
   },
   "id": "5f1aba0fe5cdcc56"
  },
  {
   "cell_type": "markdown",
   "source": [
    "### Score"
   ],
   "metadata": {
    "collapsed": false
   },
   "id": "f7d191b095f209ea"
  },
  {
   "cell_type": "code",
   "execution_count": null,
   "outputs": [],
   "source": [
    "weasel_tuned_score = pd.read_csv('outputs/v1 RO-DR L WS/tuned_score.csv')\n",
    "protoseg_tuned_score = pd.read_csv('outputs/v1 RO-DR L WS/tuned_score.csv')\n",
    "\n",
    "sparsity_modes = ['point', 'grid', 'contour', 'skeleton', 'region', 'dense']\n",
    "\n",
    "_, axs = plt.subplots(3, 2, figsize=(12,15))\n",
    "\n",
    "for sm in sparsity_modes:\n",
    "    weasel_df = weasel_tuned_score[weasel_tuned_score['sparsity_mode'] == sm]\n",
    "    weasel_epochs = [str(ep) for ep in weasel_df['epoch']]\n",
    "    axs[0][0].plot(weasel_epochs, weasel_df['iou_od'], label = sm)\n",
    "    axs[1][0].plot(weasel_epochs, weasel_df['iou_oc'], label = sm)\n",
    "    axs[2][0].plot(weasel_epochs, weasel_df['duration'], label = sm)\n",
    "\n",
    "    protoseg_df = protoseg_tuned_score[protoseg_tuned_score['sparsity_mode'] == sm]\n",
    "    protoseg_epochs = [str(ep) for ep in protoseg_df['epoch']]\n",
    "    axs[0][1].plot(protoseg_epochs, protoseg_df['iou_od'], label = sm)\n",
    "    axs[1][1].plot(protoseg_epochs, protoseg_df['iou_oc'], label = sm)\n",
    "    axs[2][1].plot(protoseg_epochs, protoseg_df['duration'], label = sm)\n",
    "\n",
    "axs[0][0].set_title('weasel - epoch vs optic disc IoU')\n",
    "axs[1][0].set_title('weasel - epoch vs optic cup IoU')\n",
    "axs[2][0].set_title('weasel - epoch vs duration')\n",
    "axs[0][0].legend()\n",
    "axs[1][0].legend()\n",
    "axs[2][0].legend()\n",
    "axs[0][0].set_ylim([0, 1])\n",
    "axs[1][0].set_ylim([0, 1])\n",
    "axs[0][1].set_title('protoseg - epoch vs optic disc IoU')\n",
    "axs[1][1].set_title('protoseg - epoch vs optic cup IoU')\n",
    "axs[2][1].set_title('protoseg - epoch vs duration')\n",
    "axs[0][1].legend()\n",
    "axs[1][1].legend()\n",
    "axs[2][1].legend()\n",
    "axs[0][1].set_ylim([0, 1])\n",
    "axs[1][1].set_ylim([0, 1])"
   ],
   "metadata": {
    "collapsed": false,
    "is_executing": true
   },
   "id": "60f7732d11c47a5c"
  },
  {
   "cell_type": "markdown",
   "source": [
    "## Weasel Tune"
   ],
   "metadata": {
    "collapsed": false
   },
   "id": "6c67ba52b764be36"
  },
  {
   "cell_type": "markdown",
   "source": [
    "### Score"
   ],
   "metadata": {
    "collapsed": false
   },
   "id": "9c7f57c3e92ed5ea"
  },
  {
   "cell_type": "code",
   "execution_count": null,
   "outputs": [],
   "source": [
    "weasel_tuning_score = pd.read_csv('outputs/v1 RO-DR L WS/tuning_score.csv')\n",
    "weasel_epochs = weasel_tuning_score['epoch'].unique()\n",
    "\n",
    "sparsity_modes = ['point', 'grid', 'contour', 'skeleton', 'region', 'dense']\n",
    "\n",
    "_, axs = plt.subplots(len(weasel_epochs), 2, figsize=(12,5*len(weasel_epochs)))\n",
    "\n",
    "for i, ep in enumerate(weasel_epochs):\n",
    "    for sm in sparsity_modes:\n",
    "        weasel_df = weasel_tuning_score[(weasel_tuning_score['sparsity_mode'] == sm) & (weasel_tuning_score['epoch'] == ep)]\n",
    "        weasel_tune_epochs = [str(tep) for tep in weasel_df['tune_epoch']]\n",
    "        axs[i][0].plot(weasel_tune_epochs, weasel_df['iou_od'], label = sm)\n",
    "        axs[i][1].plot(weasel_tune_epochs, weasel_df['iou_oc'], label = sm)\n",
    "        # axs[i][2].plot(weasel_tune_epochs, weasel_df['test_duration'], label = sm)\n",
    "\n",
    "    axs[i][0].set_title(f'weasel ep-{ep} - tune epoch vs optic disc IoU')\n",
    "    axs[i][1].set_title(f'weasel ep-{ep} - tune epoch vs optic cup IoU')\n",
    "    # axs[i][2].set_title(f'weasel ep-{ep} - tune epoch vs test duration')\n",
    "    axs[i][0].legend()\n",
    "    axs[i][1].legend()\n",
    "    # axs[i][2].legend()\n",
    "    axs[i][0].set_ylim([0, 1])\n",
    "    axs[i][1].set_ylim([0, 1])"
   ],
   "metadata": {
    "collapsed": false,
    "is_executing": true
   },
   "id": "ed3fed381eec70ae"
  },
  {
   "cell_type": "markdown",
   "source": [
    "# Other"
   ],
   "metadata": {
    "collapsed": false
   },
   "id": "be1b4f181bf993c2"
  },
  {
   "cell_type": "code",
   "execution_count": null,
   "outputs": [],
   "source": [],
   "metadata": {
    "collapsed": false,
    "is_executing": true
   },
   "id": "aeb6f13c5e034636"
  }
 ],
 "metadata": {
  "kernelspec": {
   "display_name": "Python 3",
   "language": "python",
   "name": "python3"
  },
  "language_info": {
   "codemirror_mode": {
    "name": "ipython",
    "version": 3
   },
   "file_extension": ".py",
   "mimetype": "text/x-python",
   "name": "python",
   "nbconvert_exporter": "python",
   "pygments_lexer": "ipython3",
   "version": "3.10.13"
  }
 },
 "nbformat": 4,
 "nbformat_minor": 5
}
