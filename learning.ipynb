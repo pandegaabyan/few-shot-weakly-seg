{
 "cells": [
  {
   "cell_type": "markdown",
   "id": "ed90f0cd540c5053",
   "metadata": {
    "collapsed": false
   },
   "source": [
    "# Initialization"
   ]
  },
  {
   "cell_type": "markdown",
   "id": "7cfb497e318d2520",
   "metadata": {
    "collapsed": false
   },
   "source": [
    "## Import"
   ]
  },
  {
   "cell_type": "markdown",
   "id": "e81528fb6136ed3b",
   "metadata": {
    "collapsed": false
   },
   "source": [
    "### Import Modules"
   ]
  },
  {
   "cell_type": "code",
   "execution_count": null,
   "id": "initial_id",
   "metadata": {
    "collapsed": true
   },
   "outputs": [],
   "source": [
    "import gc\n",
    "import time\n",
    "\n",
    "from tasks.optic_disc_cup.datasets import DrishtiDataset, RimOneDataset, DrishtiSimpleDataset\n",
    "from tasks.optic_disc_cup.metrics import calc_disc_cup_iou\n",
    "from tasks.optic_disc_cup.losses import DiscCupLoss\n",
    "from config.config_type import AllConfig, DataConfig, DataTuneConfig, LearnConfig, WeaselConfig, ProtoSegConfig, \\\n",
    "    LossConfig, OptimizerConfig, SchedulerConfig, GuidedNetsConfig\n",
    "from data.dataset_loaders import DatasetLoaderParamReduced\n",
    "from learners.protoseg import ProtoSegLearner\n",
    "from learners.weasel import WeaselLearner\n",
    "from learners.guidednets import GuidedNetsLearner\n",
    "from learners.simple_learner import SimpleLearner\n",
    "from models.u_net import UNet\n",
    "from data.types import SimpleDatasetKeywordArgs\n",
    "\n",
    "from torch import cuda, nn, optim"
   ]
  },
  {
   "cell_type": "markdown",
   "id": "b40c89a197995200",
   "metadata": {
    "collapsed": false
   },
   "source": [
    "### Autoreload Import"
   ]
  },
  {
   "cell_type": "code",
   "execution_count": null,
   "id": "7a50b8632ad6221a",
   "metadata": {
    "collapsed": false
   },
   "outputs": [],
   "source": [
    "%reload_ext autoreload\n",
    "%autoreload 1\n",
    "%aimport config.config_type\n",
    "%aimport models.u_net\n",
    "%aimport data.types, data.dataset_loaders\n",
    "%aimport learners.meta_learner, learners.weasel, learners.protoseg, learners.guidednets, learners.simple_learner\n",
    "%aimport tasks.optic_disc_cup.datasets, tasks.optic_disc_cup.metrics, tasks.optic_disc_cup.losses"
   ]
  },
  {
   "cell_type": "code",
   "execution_count": null,
   "id": "f7242b69aa52d86e",
   "metadata": {
    "collapsed": false
   },
   "outputs": [],
   "source": [
    "%autoreload now"
   ]
  },
  {
   "cell_type": "markdown",
   "id": "2f0c61da9d9ff29",
   "metadata": {
    "collapsed": false
   },
   "source": [
    "## All Config"
   ]
  },
  {
   "cell_type": "markdown",
   "id": "fb43743f683fac77",
   "metadata": {
    "collapsed": false
   },
   "source": [
    "### Short Training"
   ]
  },
  {
   "cell_type": "code",
   "execution_count": null,
   "id": "4651b2eb0c6285bc",
   "metadata": {
    "collapsed": false
   },
   "outputs": [],
   "source": [
    "data_config: DataConfig = {\n",
    "    'num_classes': 3,\n",
    "    'num_channels': 3,\n",
    "    'num_workers': 0,\n",
    "    'batch_size': 1,\n",
    "    'resize_to': (256, 256)\n",
    "}\n",
    "\n",
    "data_tune_config: DataTuneConfig = {\n",
    "    'shot_list': [5],\n",
    "    'sparsity_dict': {\n",
    "        'point': [10],\n",
    "        'grid': [25],\n",
    "        'contour': [1],\n",
    "        'skeleton': [1],\n",
    "        'region': [1],\n",
    "        'point_old': [10],\n",
    "        'grid_old': [25]\n",
    "    }\n",
    "}\n",
    "\n",
    "learn_config: LearnConfig = {\n",
    "    'should_resume': False,\n",
    "    'use_gpu': True,\n",
    "    'num_epochs': 8,\n",
    "    'exp_name': '',\n",
    "    'tune_freq': 4,\n",
    "    'test_freq': 4\n",
    "}\n",
    "\n",
    "loss_config: LossConfig = {\n",
    "    'type': 'ce',\n",
    "    'ignored_index': -1\n",
    "}\n",
    "\n",
    "optimizer_config: OptimizerConfig = {\n",
    "    'lr': 1e-3,\n",
    "    'lr_bias': 2 * 1e-3,\n",
    "    'weight_decay': 5e-5,\n",
    "    'weight_decay_bias': 0,\n",
    "    'betas': (0.9, 0.99)\n",
    "}\n",
    "\n",
    "scheduler_config: SchedulerConfig = {\n",
    "    'step_size': 150,\n",
    "    'gamma': 0.2\n",
    "}\n",
    "\n",
    "weasel_config: WeaselConfig = {\n",
    "    'use_first_order': False,\n",
    "    'update_param_step_size': 0.3,\n",
    "    'tune_epochs': 6,\n",
    "    'tune_test_freq': 3\n",
    "}\n",
    "\n",
    "protoseg_config: ProtoSegConfig = {\n",
    "    'embedding_size': 4\n",
    "}\n",
    "\n",
    "guidednets_config: GuidedNetsConfig = {\n",
    "    'embedding_size': 32\n",
    "}\n",
    "\n",
    "all_config: AllConfig = {\n",
    "    'data': data_config,\n",
    "    'data_tune': data_tune_config,\n",
    "    'learn': learn_config,\n",
    "    'loss': loss_config,\n",
    "    'optimizer': optimizer_config,\n",
    "    'scheduler': scheduler_config,\n",
    "    'weasel': weasel_config,\n",
    "    'protoseg': protoseg_config,\n",
    "    'guidednets': guidednets_config\n",
    "}"
   ]
  },
  {
   "cell_type": "markdown",
   "id": "6b27a70b33a3207b",
   "metadata": {
    "collapsed": false
   },
   "source": [
    "### Long Training"
   ]
  },
  {
   "cell_type": "code",
   "execution_count": null,
   "id": "db4ba12ef6a3c86f",
   "metadata": {
    "collapsed": false
   },
   "outputs": [],
   "source": [
    "# data_config: DataConfig = {\n",
    "#     'num_classes': 3,\n",
    "#     'num_channels': 3,\n",
    "#     'num_workers': 0,\n",
    "#     'batch_size': 1,\n",
    "#     'resize_to': (256, 256)\n",
    "# }\n",
    "# \n",
    "# data_tune_config: DataTuneConfig = {\n",
    "#     'shot_list': [10],\n",
    "#     'sparsity_dict': {\n",
    "#         'point': [10],\n",
    "#         'grid': [25],\n",
    "#         'contour': [1],\n",
    "#         'skeleton': [1],\n",
    "#         'region': [1],\n",
    "#         'point_old': [10],\n",
    "#         'grid_old': [25]\n",
    "#     }\n",
    "# }\n",
    "# \n",
    "# learn_config: LearnConfig = {\n",
    "#     'should_resume': False,\n",
    "#     'use_gpu': True,\n",
    "#     'num_epochs': 200,\n",
    "#     'exp_name': '',\n",
    "#     'tune_freq': 40,\n",
    "#     'test_freq': 100\n",
    "# }\n",
    "# \n",
    "# loss_config: LossConfig = {\n",
    "#     'type': 'ce',\n",
    "#     'ignored_index': -1\n",
    "# }\n",
    "# \n",
    "# optimizer_config: OptimizerConfig = {\n",
    "#     'lr': 1e-3,\n",
    "#     'lr_bias': 2 * 1e-3,\n",
    "#     'weight_decay': 5e-5,\n",
    "#     'weight_decay_bias': 0,\n",
    "#     'betas': (0.9, 0.99)\n",
    "# }\n",
    "# \n",
    "# scheduler_config: SchedulerConfig = {\n",
    "#     'step_size': 150,\n",
    "#     'gamma': 0.2\n",
    "# }\n",
    "# \n",
    "# weasel_config: WeaselConfig = {\n",
    "#     'use_first_order': False,\n",
    "#     'update_param_step_size': 0.3,\n",
    "#     'tune_epochs': 40,\n",
    "#     'tune_test_freq': 8\n",
    "# }\n",
    "# \n",
    "# protoseg_config: ProtoSegConfig = {\n",
    "#     'embedding_size': 4\n",
    "# }\n",
    "# \n",
    "# guidednets_config: GuidedNetsConfig = {\n",
    "#     'embedding_size': 32\n",
    "# }\n",
    "# \n",
    "# all_config: AllConfig = {\n",
    "#     'data': data_config,\n",
    "#     'data_tune': data_tune_config,\n",
    "#     'learn': learn_config,\n",
    "#     'loss': loss_config,\n",
    "#     'optimizer': optimizer_config,\n",
    "#     'scheduler': scheduler_config,\n",
    "#     'weasel': weasel_config,\n",
    "#     'protoseg': protoseg_config,\n",
    "#     'guidednets': guidednets_config\n",
    "# }"
   ]
  },
  {
   "cell_type": "markdown",
   "id": "27163ff1153e1a93",
   "metadata": {
    "collapsed": false
   },
   "source": [
    "# Dataset Exploration"
   ]
  },
  {
   "cell_type": "markdown",
   "source": [
    "## Additional Import"
   ],
   "metadata": {
    "collapsed": false
   },
   "id": "4275e3b17dea7fc0"
  },
  {
   "cell_type": "code",
   "execution_count": null,
   "outputs": [],
   "source": [
    "# import numpy as np\n",
    "# from matplotlib import pyplot as plt\n",
    "# \n",
    "# from data.types import SparsityValue\n",
    "# \n",
    "# plt.style.use('dark_background')"
   ],
   "metadata": {
    "collapsed": false
   },
   "id": "eb2e8ff631b2b6a4"
  },
  {
   "cell_type": "markdown",
   "id": "3e5ac60a4695d9f1",
   "metadata": {
    "collapsed": false
   },
   "source": [
    "## RIM-ONE"
   ]
  },
  {
   "cell_type": "markdown",
   "id": "221e0dbf50b19d09",
   "metadata": {
    "collapsed": false
   },
   "source": [
    "### Create Dataset"
   ]
  },
  {
   "cell_type": "code",
   "execution_count": null,
   "id": "dd47b147499ec1dc",
   "metadata": {
    "collapsed": false
   },
   "outputs": [],
   "source": [
    "rim_one_sparsity_params: dict = {\n",
    "    'point_dot_size': 5,\n",
    "    'grid_dot_size': 4,\n",
    "    'contour_radius_dist': 4,\n",
    "    'contour_radius_thick': 2,\n",
    "    'skeleton_radius_thick': 4,\n",
    "    'region_compactness': 0.5\n",
    "}\n",
    "\n",
    "rim_one_data = RimOneDataset(\n",
    "    mode='train',\n",
    "    num_classes=3,\n",
    "    num_shots=5,\n",
    "    resize_to=(256, 256),\n",
    "    split_seed=0,\n",
    "    sparsity_params=rim_one_sparsity_params\n",
    ")"
   ]
  },
  {
   "cell_type": "markdown",
   "id": "4d9b4dcf933a7040",
   "metadata": {
    "collapsed": false
   },
   "source": [
    "### Check Sparse Masks"
   ]
  },
  {
   "cell_type": "code",
   "execution_count": null,
   "id": "71a949e7f516a48a",
   "metadata": {
    "collapsed": false
   },
   "outputs": [],
   "source": [
    "# sparsity_values: dict[str, SparsityValue] = {\n",
    "#     'point': (1,15),\n",
    "#     'grid': (15,50),\n",
    "#     'contour': (0.2,1),\n",
    "#     'skeleton': (0.2,1), \n",
    "#     'region': (0.2,1),\n",
    "# }\n",
    "# image, mask, sparse_masks, image_filename = rim_one_data.get_data_with_sparse_all(1, sparsity_values)\n",
    "# print(image.shape, image.max(), image.min(), image_filename)\n",
    "# print(mask.shape, mask.dtype, np.unique(mask))\n",
    "# \n",
    "# n_rows = int(np.ceil(len(sparse_masks) / 2)) + 1 \n",
    "# _, axs = plt.subplots(n_rows, 2, figsize=(12, n_rows*6))\n",
    "# axs = axs.flat\n",
    "# axs[0].imshow(image)\n",
    "# axs[1].imshow(mask)\n",
    "# for i, sparsity in enumerate(sparse_masks):\n",
    "#     axs[i+2].imshow(sparse_masks[sparsity])"
   ]
  },
  {
   "cell_type": "markdown",
   "id": "5d3d024152dd52a7",
   "metadata": {
    "collapsed": false
   },
   "source": [
    "### Check Others"
   ]
  },
  {
   "cell_type": "code",
   "execution_count": null,
   "id": "7744d1a90bfa8151",
   "metadata": {
    "collapsed": false
   },
   "outputs": [],
   "source": [
    "# image_sizes = []\n",
    "# for image_path, mask_path in rim_one_data.get_all_data_path():\n",
    "#     image, _ = rim_one_data.read_image_mask(image_path, mask_path)\n",
    "#     image_sizes.append(image.shape)\n",
    "# \n",
    "# image_sizes = np.array(image_sizes)\n",
    "# \n",
    "# print(np.unique(image_sizes[:,0], return_counts=True))\n",
    "# print(image_sizes[:,0].min(), image_sizes[:,0].max())\n",
    "# print(np.unique(image_sizes[:,1], return_counts=True))\n",
    "# print(image_sizes[:,1].min(), image_sizes[:,1].max())"
   ]
  },
  {
   "cell_type": "markdown",
   "id": "171a6195ea988fbf",
   "metadata": {
    "collapsed": false
   },
   "source": [
    "## DRISHTI"
   ]
  },
  {
   "cell_type": "markdown",
   "id": "dfcaedff2b1e1a3e",
   "metadata": {
    "collapsed": false
   },
   "source": [
    "### Create Dataset"
   ]
  },
  {
   "cell_type": "code",
   "execution_count": null,
   "id": "1de47c003fd6b9a5",
   "metadata": {
    "collapsed": false
   },
   "outputs": [],
   "source": [
    "drishti_sparsity_params: dict = {\n",
    "    'point_dot_size': 4,\n",
    "    'grid_dot_size': 4,\n",
    "    'contour_radius_dist': 4,\n",
    "    'contour_radius_thick': 1,\n",
    "    'skeleton_radius_thick': 3,\n",
    "    'region_compactness': 0.5\n",
    "}\n",
    "\n",
    "drishti_data = DrishtiDataset(\n",
    "    mode='train',\n",
    "    num_classes=3,\n",
    "    num_shots=5,\n",
    "    resize_to=(256, 256),\n",
    "    split_seed=0,\n",
    "    sparsity_params=drishti_sparsity_params\n",
    ")"
   ]
  },
  {
   "cell_type": "markdown",
   "id": "94c98419049ac530",
   "metadata": {
    "collapsed": false
   },
   "source": [
    "### Check Sparse Masks"
   ]
  },
  {
   "cell_type": "code",
   "execution_count": null,
   "id": "f185df34240b2534",
   "metadata": {
    "collapsed": false
   },
   "outputs": [],
   "source": [
    "# sparsity_values: dict[str, SparsityValue] = {\n",
    "#     'point': 10,\n",
    "#     'grid': 25,\n",
    "#     'contour': 1,\n",
    "#     'skeleton': 1,\n",
    "#     'region': 1,\n",
    "#     'point_old': 10,\n",
    "#     'grid_old': 25\n",
    "# }\n",
    "# image, mask, sparse_masks, image_filename = drishti_data.get_data_with_sparse_all(1, sparsity_values)\n",
    "# print(image.shape, image.max(), image.min(), image_filename)\n",
    "# print(mask.shape, mask.dtype, np.unique(mask))\n",
    "# \n",
    "# n_rows = int(np.ceil(len(sparse_masks) / 2)) + 1\n",
    "# _, axs = plt.subplots(n_rows, 2, figsize=(12, n_rows*6))\n",
    "# axs = axs.flat\n",
    "# axs[0].imshow(image)\n",
    "# axs[1].imshow(mask, cmap='gray')\n",
    "# for i, sparsity in enumerate(sparse_masks):\n",
    "#     axs[i+2].imshow(sparse_masks[sparsity])"
   ]
  },
  {
   "cell_type": "markdown",
   "id": "adf321e604f24bf9",
   "metadata": {
    "collapsed": false
   },
   "source": [
    "### Check Others"
   ]
  },
  {
   "cell_type": "code",
   "execution_count": null,
   "id": "4aac5d62f67ca668",
   "metadata": {
    "collapsed": false
   },
   "outputs": [],
   "source": [
    "# image_sizes = []\n",
    "# for image_path, mask_path in drishti_data.get_all_data_path():\n",
    "#     image, _ = rim_one_data.read_image_mask(image_path, mask_path)\n",
    "#     image_sizes.append(image.shape)\n",
    "# \n",
    "# image_sizes = np.array(image_sizes)\n",
    "# \n",
    "# print(np.unique(image_sizes[:,0], return_counts=True))\n",
    "# print(image_sizes[:,0].min(), image_sizes[:,0].max())\n",
    "# print(np.unique(image_sizes[:,1], return_counts=True))\n",
    "# print(image_sizes[:,1].min(), image_sizes[:,1].max())"
   ]
  },
  {
   "cell_type": "markdown",
   "source": [
    "## Dataset Loader Params"
   ],
   "metadata": {
    "collapsed": false
   },
   "id": "4af06032bb278e3a"
  },
  {
   "cell_type": "code",
   "execution_count": null,
   "outputs": [],
   "source": [
    "rim_one_meta_loader_params: DatasetLoaderParamReduced = {\n",
    "    'dataset_class': RimOneDataset,\n",
    "    'dataset_kwargs': {\n",
    "        'split_seed': 0,\n",
    "        'split_test_size': 0.2,\n",
    "        'num_shots': -1,\n",
    "        'sparsity_mode': 'random',\n",
    "        'sparsity_value': 'random',\n",
    "        'sparsity_params': rim_one_sparsity_params\n",
    "    }\n",
    "}\n",
    "\n",
    "drishti_tune_loader_params: DatasetLoaderParamReduced = {\n",
    "    'dataset_class': DrishtiDataset,\n",
    "    'dataset_kwargs': {\n",
    "        'split_seed': 0,\n",
    "        'split_test_size': 0.2,\n",
    "        'sparsity_params': drishti_sparsity_params\n",
    "    }\n",
    "}"
   ],
   "metadata": {
    "collapsed": false
   },
   "id": "c11e6811361ab79d"
  },
  {
   "cell_type": "markdown",
   "source": [
    "## Num Workers Check"
   ],
   "metadata": {
    "collapsed": false
   },
   "id": "ddb8ee1de3745b5a"
  },
  {
   "cell_type": "code",
   "execution_count": null,
   "outputs": [],
   "source": [
    "# from torch.utils.data import DataLoader, Dataset\n",
    "# \n",
    "# def check_num_workers(dataset_instance: Dataset, dataset_name: str, n_workers: int):\n",
    "#     data_loader = DataLoader(dataset_instance,\n",
    "#                              batch_size=3,\n",
    "#                              num_workers=n_workers,\n",
    "#                              shuffle=True,\n",
    "#                              pin_memory=True)\n",
    "#     start_time = time.time()\n",
    "#     # noinspection PyUnusedLocal\n",
    "#     for idx, data in enumerate(data_loader):\n",
    "#         # print(\"{} - data {}/{}\".format(dataset_name, idx+1, len(data_loader)))\n",
    "#         pass\n",
    "#     end_time = time.time()\n",
    "#     print(\"{} - {} workers: {} seconds\".format(dataset_name, num_workers, end_time - start_time))"
   ],
   "metadata": {
    "collapsed": false
   },
   "id": "cc89249284f82db8"
  },
  {
   "cell_type": "code",
   "execution_count": null,
   "outputs": [],
   "source": [
    "# num_workers_range = range(0, 4, 1)\n",
    "# num_workers_range = range(0, 40, 3)"
   ],
   "metadata": {
    "collapsed": false
   },
   "id": "727cf02540642808"
  },
  {
   "cell_type": "code",
   "execution_count": null,
   "outputs": [],
   "source": [
    "# rim_one_dataset = RimOneDataset(\n",
    "#     'train',\n",
    "#     all_config['data']['num_classes'],\n",
    "#     all_config['data']['resize_to'],\n",
    "#     **rim_one_meta_loader_params['dataset_kwargs']\n",
    "# )\n",
    "# \n",
    "# for num_workers in num_workers_range:\n",
    "#     check_num_workers(rim_one_dataset, 'RO', num_workers)"
   ],
   "metadata": {
    "collapsed": false
   },
   "id": "5efc598e9e4afe70"
  },
  {
   "cell_type": "code",
   "execution_count": null,
   "outputs": [],
   "source": [
    "# drishti_dataset = DrishtiDataset(\n",
    "#     'train',\n",
    "#     all_config['data']['num_classes'],\n",
    "#     all_config['data']['resize_to'],\n",
    "#     **drishti_tune_loader_params['dataset_kwargs']\n",
    "# )\n",
    "# \n",
    "# for num_workers in num_workers_range:\n",
    "#     check_num_workers(drishti_dataset, 'DR', num_workers)"
   ],
   "metadata": {
    "collapsed": false
   },
   "id": "49391f705f812a87"
  },
  {
   "cell_type": "markdown",
   "id": "82cd522041eddcff",
   "metadata": {
    "collapsed": false
   },
   "source": [
    "# Weasel Learner"
   ]
  },
  {
   "cell_type": "markdown",
   "id": "a5069a7009a4eabd",
   "metadata": {
    "collapsed": false
   },
   "source": [
    "## Initialization"
   ]
  },
  {
   "cell_type": "markdown",
   "id": "52810662fe34084a",
   "metadata": {
    "collapsed": false
   },
   "source": [
    "### Update Config"
   ]
  },
  {
   "cell_type": "code",
   "execution_count": null,
   "id": "2725e9351ba4c5b8",
   "metadata": {
    "collapsed": false
   },
   "outputs": [],
   "source": [
    "all_config['data']['batch_size'] = 3\n",
    "# all_config['data']['batch_size'] = 14\n",
    "\n",
    "# all_config['data']['num_workers'] = 3\n",
    "\n",
    "# all_config['learn']['should_resume'] = True\n",
    "\n",
    "all_config['learn']['exp_name'] = 'v3 RO-DR S WS dummy'\n",
    "# all_config['learn']['exp_name'] = 'v3 RO-DR L WS'"
   ]
  },
  {
   "cell_type": "code",
   "execution_count": null,
   "outputs": [],
   "source": [
    "rim_one_meta_loader_params['dataset_kwargs']['num_shots'] = 20"
   ],
   "metadata": {
    "collapsed": false
   },
   "id": "af70d55b0a3a78d3"
  },
  {
   "cell_type": "markdown",
   "id": "6ab1bba046ccc7d8",
   "metadata": {
    "collapsed": false
   },
   "source": [
    "### Create Model"
   ]
  },
  {
   "cell_type": "code",
   "execution_count": null,
   "id": "3b27689ada2a47a1",
   "metadata": {
    "collapsed": false
   },
   "outputs": [],
   "source": [
    "net = UNet(all_config['data']['num_channels'], all_config['data']['num_classes'])\n",
    "\n",
    "print('# of parameters: ' + str(sum(p.numel() for p in net.parameters() if p.requires_grad)))"
   ]
  },
  {
   "cell_type": "markdown",
   "source": [
    "### Create Optimizer and Scheduler"
   ],
   "metadata": {
    "collapsed": false
   },
   "id": "4c9816b8e2bde434"
  },
  {
   "cell_type": "code",
   "execution_count": null,
   "outputs": [],
   "source": [
    "adam_optimizer = optim.Adam([\n",
    "    {'params': [param for name, param in net.named_parameters() if name[-4:] == 'bias'],\n",
    "     'lr': all_config['optimizer']['lr_bias'],\n",
    "     'weight_decay': all_config['optimizer']['weight_decay_bias']},\n",
    "    {'params': [param for name, param in net.named_parameters() if name[-4:] != 'bias'],\n",
    "     'lr': all_config['optimizer']['lr'],\n",
    "     'weight_decay': all_config['optimizer']['weight_decay']}\n",
    "], betas=all_config['optimizer']['betas'])\n",
    "\n",
    "step_scheduler = optim.lr_scheduler.StepLR(adam_optimizer,\n",
    "                                         step_size=all_config['scheduler']['step_size'],\n",
    "                                         gamma=all_config['scheduler']['gamma'])"
   ],
   "metadata": {
    "collapsed": false
   },
   "id": "713f7d898b499fed"
  },
  {
   "cell_type": "markdown",
   "id": "4e96d862aade6684",
   "metadata": {
    "collapsed": false
   },
   "source": [
    "### Create Learner"
   ]
  },
  {
   "cell_type": "code",
   "execution_count": null,
   "id": "e79afeb0bd7421fc",
   "metadata": {
    "collapsed": false
   },
   "outputs": [],
   "source": [
    "learner = WeaselLearner(net, all_config, [rim_one_meta_loader_params], drishti_tune_loader_params, \n",
    "                        calc_metrics=calc_disc_cup_iou, calc_loss=DiscCupLoss('bce'), optimizer=adam_optimizer, scheduler=step_scheduler)"
   ]
  },
  {
   "cell_type": "markdown",
   "id": "2f580dedc009e1ad",
   "metadata": {
    "collapsed": false
   },
   "source": [
    "## Learning"
   ]
  },
  {
   "cell_type": "code",
   "execution_count": null,
   "outputs": [],
   "source": [
    "try:\n",
    "    learner.learn()\n",
    "except BaseException as e:\n",
    "    learner.log_error()\n",
    "    raise e\n",
    "finally:\n",
    "    learner.remove_log_handlers()\n",
    "    del net, adam_optimizer, step_scheduler, learner\n",
    "    gc.collect()\n",
    "    cuda.empty_cache()"
   ],
   "metadata": {
    "collapsed": false
   },
   "id": "ba8ee032b1a20b61"
  },
  {
   "cell_type": "code",
   "execution_count": null,
   "id": "a666b33399c3196c",
   "metadata": {
    "collapsed": false
   },
   "outputs": [],
   "source": [
    "time.sleep(60)"
   ]
  },
  {
   "cell_type": "markdown",
   "id": "cb104f760e514904",
   "metadata": {
    "collapsed": false
   },
   "source": [
    "# ProtoSeg Learner"
   ]
  },
  {
   "cell_type": "markdown",
   "id": "a98a421bf77878b0",
   "metadata": {
    "collapsed": false
   },
   "source": [
    "## Initialization"
   ]
  },
  {
   "cell_type": "markdown",
   "id": "ecf0d3c1edea8619",
   "metadata": {
    "collapsed": false
   },
   "source": [
    "### Update Config"
   ]
  },
  {
   "cell_type": "code",
   "execution_count": null,
   "id": "cacb37df46ec4fdc",
   "metadata": {
    "collapsed": false
   },
   "outputs": [],
   "source": [
    "all_config['data']['batch_size'] = 3\n",
    "# all_config['data']['batch_size'] = 36\n",
    "\n",
    "# all_config['data']['num_workers'] = 0\n",
    "\n",
    "# all_config['learn']['should_resume'] = True\n",
    "\n",
    "all_config['learn']['exp_name'] = 'v3 RO-DR S PS dummy'\n",
    "# all_config['learn']['exp_name'] = 'v3 RO-DR L PS'"
   ]
  },
  {
   "cell_type": "code",
   "execution_count": null,
   "outputs": [],
   "source": [
    "rim_one_meta_loader_params['dataset_kwargs']['num_shots'] = 20"
   ],
   "metadata": {
    "collapsed": false
   },
   "id": "475767e0d44777a2"
  },
  {
   "cell_type": "markdown",
   "id": "c146664bf9606d99",
   "metadata": {
    "collapsed": false
   },
   "source": [
    "### Create Model"
   ]
  },
  {
   "cell_type": "code",
   "execution_count": null,
   "id": "1c6715711821aa67",
   "metadata": {
    "collapsed": false
   },
   "outputs": [],
   "source": [
    "net = UNet(all_config['data']['num_channels'], all_config['protoseg']['embedding_size'])\n",
    "\n",
    "print('# of parameters: ' + str(sum(p.numel() for p in net.parameters() if p.requires_grad)))"
   ]
  },
  {
   "cell_type": "markdown",
   "source": [
    "### Create Optimizer and Scheduler"
   ],
   "metadata": {
    "collapsed": false
   },
   "id": "1f185750011a9a37"
  },
  {
   "cell_type": "code",
   "execution_count": null,
   "outputs": [],
   "source": [
    "adam_optimizer = optim.Adam([\n",
    "    {'params': [param for name, param in net.named_parameters() if name[-4:] == 'bias'],\n",
    "     'lr': all_config['optimizer']['lr_bias'],\n",
    "     'weight_decay': all_config['optimizer']['weight_decay_bias']},\n",
    "    {'params': [param for name, param in net.named_parameters() if name[-4:] != 'bias'],\n",
    "     'lr': all_config['optimizer']['lr'],\n",
    "     'weight_decay': all_config['optimizer']['weight_decay']}\n",
    "], betas=all_config['optimizer']['betas'])\n",
    "\n",
    "step_scheduler = optim.lr_scheduler.StepLR(adam_optimizer,\n",
    "                                         step_size=all_config['scheduler']['step_size'],\n",
    "                                         gamma=all_config['scheduler']['gamma'])"
   ],
   "metadata": {
    "collapsed": false
   },
   "id": "95f0e943b47dc4e9"
  },
  {
   "cell_type": "markdown",
   "id": "79383e675f2bce60",
   "metadata": {
    "collapsed": false
   },
   "source": [
    "### Create Learner"
   ]
  },
  {
   "cell_type": "code",
   "execution_count": null,
   "id": "f263c6b0d85f1902",
   "metadata": {
    "collapsed": false
   },
   "outputs": [],
   "source": [
    "learner = ProtoSegLearner(net, all_config, [rim_one_meta_loader_params], drishti_tune_loader_params, \n",
    "                          calc_metrics=calc_disc_cup_iou, calc_loss=DiscCupLoss('iou_bce'), optimizer=adam_optimizer, scheduler=step_scheduler)"
   ]
  },
  {
   "cell_type": "markdown",
   "id": "9766eeb3fb61c410",
   "metadata": {
    "collapsed": false
   },
   "source": [
    "## Learning"
   ]
  },
  {
   "cell_type": "code",
   "execution_count": null,
   "outputs": [],
   "source": [
    "try:\n",
    "    learner.learn()\n",
    "except BaseException as e:\n",
    "    learner.log_error()\n",
    "    raise e\n",
    "finally:\n",
    "    learner.remove_log_handlers()\n",
    "    del net, adam_optimizer, step_scheduler, learner\n",
    "    gc.collect()\n",
    "    cuda.empty_cache()"
   ],
   "metadata": {
    "collapsed": false
   },
   "id": "4072c718c5dc73c3"
  },
  {
   "cell_type": "markdown",
   "source": [
    "# GuidedNet Learner"
   ],
   "metadata": {
    "collapsed": false
   },
   "id": "cd48ffe350b802a9"
  },
  {
   "cell_type": "markdown",
   "source": [
    "## Initialization"
   ],
   "metadata": {
    "collapsed": false
   },
   "id": "4bb74837a1d0a5d9"
  },
  {
   "cell_type": "markdown",
   "source": [
    "### Update Config"
   ],
   "metadata": {
    "collapsed": false
   },
   "id": "9c479733f8c3b63d"
  },
  {
   "cell_type": "code",
   "execution_count": null,
   "outputs": [],
   "source": [
    "all_config['data']['batch_size'] = 2\n",
    "# all_config['data']['batch_size'] = 36\n",
    "\n",
    "# all_config['data']['num_workers'] = 0\n",
    "\n",
    "# all_config['learn']['should_resume'] = True\n",
    "\n",
    "all_config['learn']['exp_name'] = 'v3 RO-DR S GN dummy'\n",
    "# all_config['learn']['exp_name'] = 'v3 RO-DR L PS'"
   ],
   "metadata": {
    "collapsed": false
   },
   "id": "c3d4b25c5d62b534"
  },
  {
   "cell_type": "code",
   "execution_count": null,
   "outputs": [],
   "source": [
    "rim_one_meta_loader_params['dataset_kwargs']['num_shots'] = 40"
   ],
   "metadata": {
    "collapsed": false
   },
   "id": "d4ee7cddd0a6482c"
  },
  {
   "cell_type": "markdown",
   "source": [
    "### Create Model"
   ],
   "metadata": {
    "collapsed": false
   },
   "id": "75f9717e666ae1f6"
  },
  {
   "cell_type": "code",
   "execution_count": null,
   "outputs": [],
   "source": [
    "embedding_size = all_config['guidednets']['embedding_size']\n",
    "\n",
    "net_image = UNet(all_config['data']['num_channels'], embedding_size, prototype=True).cuda()\n",
    "\n",
    "net_mask = UNet(1, embedding_size, prototype=True).cuda()\n",
    "# net_mask = None\n",
    "\n",
    "net_head = nn.Sequential(\n",
    "    nn.Conv2d(embedding_size * 2, embedding_size, kernel_size=3, padding=1),\n",
    "    nn.ReLU(),\n",
    "    nn.Conv2d(embedding_size, all_config['data']['num_classes'], kernel_size=1)\n",
    ").cuda()\n",
    "nn.init.ones_(net_head[0].weight)\n",
    "nn.init.ones_(net_head[-1].weight)\n",
    "\n",
    "net_merge = nn.AdaptiveAvgPool2d((1, 1)).cuda()"
   ],
   "metadata": {
    "collapsed": false
   },
   "id": "aa73a80e9e4724a5"
  },
  {
   "cell_type": "markdown",
   "source": [
    "### Create Optimizer and Scheduler"
   ],
   "metadata": {
    "collapsed": false
   },
   "id": "6730f4320c321367"
  },
  {
   "cell_type": "code",
   "execution_count": null,
   "outputs": [],
   "source": [
    "net_named_parameters = list(net_image.named_parameters()) + list(net_head.named_parameters()) + list(net_merge.named_parameters())\n",
    "if net_mask is not None:\n",
    "    net_named_parameters += net_mask.named_parameters()\n",
    "\n",
    "adam_optimizer = optim.Adam([\n",
    "    {'params': [param for name, param in net_named_parameters if name[-4:] == 'bias'],\n",
    "     'lr': all_config['optimizer']['lr_bias'],\n",
    "     'weight_decay': all_config['optimizer']['weight_decay_bias']},\n",
    "    {'params': [param for name, param in net_named_parameters if name[-4:] != 'bias'],\n",
    "     'lr': all_config['optimizer']['lr'],\n",
    "     'weight_decay': all_config['optimizer']['weight_decay']}\n",
    "], betas=all_config['optimizer']['betas'])\n",
    "\n",
    "step_scheduler = optim.lr_scheduler.StepLR(adam_optimizer,\n",
    "                                         step_size=all_config['scheduler']['step_size'],\n",
    "                                         gamma=all_config['scheduler']['gamma'])"
   ],
   "metadata": {
    "collapsed": false
   },
   "id": "d41979c05bdfa8e5"
  },
  {
   "cell_type": "markdown",
   "source": [
    "### Create Learner"
   ],
   "metadata": {
    "collapsed": false
   },
   "id": "c7a237a552af0a5d"
  },
  {
   "cell_type": "code",
   "execution_count": null,
   "outputs": [],
   "source": [
    "learner = GuidedNetsLearner(net_image, net_mask, net_merge, net_head, all_config, [rim_one_meta_loader_params], drishti_tune_loader_params,\n",
    "                            calc_metrics=calc_disc_cup_iou, calc_loss=DiscCupLoss('ce'), optimizer=adam_optimizer, scheduler=step_scheduler)"
   ],
   "metadata": {
    "collapsed": false
   },
   "id": "57d3bef9dda1a9e6"
  },
  {
   "cell_type": "markdown",
   "source": [
    "## Learning"
   ],
   "metadata": {
    "collapsed": false
   },
   "id": "1f123acd133d5423"
  },
  {
   "cell_type": "code",
   "execution_count": null,
   "outputs": [],
   "source": [
    "try:\n",
    "    learner.learn()\n",
    "except BaseException as e:\n",
    "    learner.log_error()\n",
    "    raise e\n",
    "finally:\n",
    "    learner.remove_log_handlers()\n",
    "    del net_image, net_mask, net_head, net_merge, adam_optimizer, step_scheduler, learner\n",
    "    gc.collect()\n",
    "    cuda.empty_cache()"
   ],
   "metadata": {
    "collapsed": false
   },
   "id": "ba4991a2126b71b9"
  },
  {
   "cell_type": "markdown",
   "source": [
    "# Simple Learner"
   ],
   "metadata": {
    "collapsed": false
   },
   "id": "3b8f509ac5299076"
  },
  {
   "cell_type": "markdown",
   "source": [
    "## Initialization"
   ],
   "metadata": {
    "collapsed": false
   },
   "id": "709e9b3b8f09ac89"
  },
  {
   "cell_type": "markdown",
   "source": [
    "### Update Config"
   ],
   "metadata": {
    "collapsed": false
   },
   "id": "235138115c25fca3"
  },
  {
   "cell_type": "code",
   "execution_count": null,
   "outputs": [],
   "source": [
    "all_config['data']['batch_size'] = 8\n",
    "\n",
    "all_config['learn']['exp_name'] = 'v3 DR S SL'"
   ],
   "metadata": {
    "collapsed": false
   },
   "id": "741ae68fb1feee0b"
  },
  {
   "cell_type": "markdown",
   "source": [
    "### Set Dataset Params"
   ],
   "metadata": {
    "collapsed": false
   },
   "id": "18aca937faee69ba"
  },
  {
   "cell_type": "code",
   "execution_count": null,
   "outputs": [],
   "source": [
    "drishti_params: SimpleDatasetKeywordArgs = {\n",
    "    'split_seed': 0,\n",
    "    'split_val_size': 0.15,\n",
    "    'split_test_size': 0.15,\n",
    "}"
   ],
   "metadata": {
    "collapsed": false
   },
   "id": "8fb5796c02e7a6fa"
  },
  {
   "cell_type": "markdown",
   "source": [
    "### Create Model"
   ],
   "metadata": {
    "collapsed": false
   },
   "id": "c77f0519f76de1d0"
  },
  {
   "cell_type": "code",
   "execution_count": null,
   "outputs": [],
   "source": [
    "net = UNet(all_config['data']['num_channels'], all_config['data']['num_classes'])\n",
    "\n",
    "print('# of parameters: ' + str(sum(p.numel() for p in net.parameters() if p.requires_grad)))"
   ],
   "metadata": {
    "collapsed": false
   },
   "id": "a08d7243a8540e04"
  },
  {
   "cell_type": "markdown",
   "source": [
    "### Create Optimizer and Scheduler"
   ],
   "metadata": {
    "collapsed": false
   },
   "id": "6bf6c67807a8c352"
  },
  {
   "cell_type": "code",
   "execution_count": null,
   "outputs": [],
   "source": [
    "adam_optimizer = optim.Adam([\n",
    "    {'params': [param for name, param in net.named_parameters() if name[-4:] == 'bias'],\n",
    "     'lr': all_config['optimizer']['lr_bias'],\n",
    "     'weight_decay': all_config['optimizer']['weight_decay_bias']},\n",
    "    {'params': [param for name, param in net.named_parameters() if name[-4:] != 'bias'],\n",
    "     'lr': all_config['optimizer']['lr'],\n",
    "     'weight_decay': all_config['optimizer']['weight_decay']}\n",
    "], betas=all_config['optimizer']['betas'])\n",
    "\n",
    "step_scheduler = optim.lr_scheduler.StepLR(adam_optimizer,\n",
    "                                         step_size=all_config['scheduler']['step_size'],\n",
    "                                         gamma=all_config['scheduler']['gamma'])"
   ],
   "metadata": {
    "collapsed": false
   },
   "id": "c079ab06f93eff38"
  },
  {
   "cell_type": "markdown",
   "source": [
    "### Create Learner"
   ],
   "metadata": {
    "collapsed": false
   },
   "id": "44d852af6a71e8d1"
  },
  {
   "cell_type": "code",
   "execution_count": null,
   "outputs": [],
   "source": [
    "learner = SimpleLearner(net, all_config, DrishtiSimpleDataset, drishti_params, \n",
    "                        calc_metrics=calc_disc_cup_iou, calc_loss=DiscCupLoss('ce'), optimizer=adam_optimizer, scheduler=step_scheduler)"
   ],
   "metadata": {
    "collapsed": false
   },
   "id": "66280d0999ec8d54"
  },
  {
   "cell_type": "markdown",
   "source": [
    "## Learning"
   ],
   "metadata": {
    "collapsed": false
   },
   "id": "8068272f60cbf89"
  },
  {
   "cell_type": "code",
   "execution_count": null,
   "outputs": [],
   "source": [
    "try:\n",
    "    learner.learn()\n",
    "except BaseException as e:\n",
    "    learner.log_error()\n",
    "    raise e\n",
    "finally:\n",
    "    learner.remove_log_handlers()\n",
    "    del net, adam_optimizer, step_scheduler, learner\n",
    "    gc.collect()\n",
    "    cuda.empty_cache()"
   ],
   "metadata": {
    "collapsed": false
   },
   "id": "183a0463102d69e1"
  },
  {
   "cell_type": "markdown",
   "id": "102402d68f24a670",
   "metadata": {
    "collapsed": false
   },
   "source": [
    "# Other"
   ]
  },
  {
   "cell_type": "code",
   "execution_count": null,
   "outputs": [],
   "source": [],
   "metadata": {
    "collapsed": false
   },
   "id": "43ddc55b33bb3f7e"
  }
 ],
 "metadata": {
  "kernelspec": {
   "display_name": "Python 3",
   "language": "python",
   "name": "python3"
  },
  "language_info": {
   "codemirror_mode": {
    "name": "ipython",
    "version": 3
   },
   "file_extension": ".py",
   "mimetype": "text/x-python",
   "name": "python",
   "nbconvert_exporter": "python",
   "pygments_lexer": "ipython3",
   "version": "3.10.13"
  }
 },
 "nbformat": 4,
 "nbformat_minor": 5
}
